{
 "cells": [
  {
   "cell_type": "markdown",
   "metadata": {},
   "source": [
    "# Project: Identify Customer Segments\n",
    "\n",
    "In this project, you will apply unsupervised learning techniques to identify segments of the population that form the core customer base for a mail-order sales company in Germany. These segments can then be used to direct marketing campaigns towards audiences that will have the highest expected rate of returns. The data that you will use has been provided by our partners at Bertelsmann Arvato Analytics, and represents a real-life data science task.\n",
    "\n",
    "This notebook will help you complete this task by providing a framework within which you will perform your analysis steps. In each step of the project, you will see some text describing the subtask that you will perform, followed by one or more code cells for you to complete your work. **Feel free to add additional code and markdown cells as you go along so that you can explore everything in precise chunks.** The code cells provided in the base template will outline only the major tasks, and will usually not be enough to cover all of the minor tasks that comprise it.\n",
    "\n",
    "It should be noted that while there will be precise guidelines on how you should handle certain tasks in the project, there will also be places where an exact specification is not provided. **There will be times in the project where you will need to make and justify your own decisions on how to treat the data.** These are places where there may not be only one way to handle the data. In real-life tasks, there may be many valid ways to approach an analysis task. One of the most important things you can do is clearly document your approach so that other scientists can understand the decisions you've made.\n",
    "\n",
    "At the end of most sections, there will be a Markdown cell labeled **Discussion**. In these cells, you will report your findings for the completed section, as well as document the decisions that you made in your approach to each subtask. **Your project will be evaluated not just on the code used to complete the tasks outlined, but also your communication about your observations and conclusions at each stage.**"
   ]
  },
  {
   "cell_type": "code",
   "execution_count": 1,
   "metadata": {},
   "outputs": [
    {
     "data": {
      "text/plain": [
       "'\\nImport note: The classroom currently uses sklearn version 0.19.\\nIf you need to use an imputer, it is available in sklearn.preprocessing.Imputer,\\ninstead of sklearn.impute as in newer versions of sklearn.\\n'"
      ]
     },
     "execution_count": 1,
     "metadata": {},
     "output_type": "execute_result"
    }
   ],
   "source": [
    "# import libraries here; add more as necessary\n",
    "import numpy as np\n",
    "import pandas as pd\n",
    "import matplotlib.pyplot as plt\n",
    "import seaborn as sns\n",
    "import random\n",
    "\n",
    "from sklearn.preprocessing import StandardScaler\n",
    "from sklearn.impute import SimpleImputer\n",
    "from sklearn.decomposition import PCA\n",
    "from sklearn.cluster import KMeans\n",
    "\n",
    "# For Matplotlib visualizations within notebook\n",
    "%matplotlib inline\n",
    "\n",
    "'''\n",
    "Import note: The classroom currently uses sklearn version 0.19.\n",
    "If you need to use an imputer, it is available in sklearn.preprocessing.Imputer,\n",
    "instead of sklearn.impute as in newer versions of sklearn.\n",
    "'''"
   ]
  },
  {
   "cell_type": "markdown",
   "metadata": {},
   "source": [
    "### Step 0: Load the Data\n",
    "\n",
    "There are four files associated with this project (not including this one):\n",
    "\n",
    "- `Udacity_AZDIAS_Subset.csv`: Demographics data for the general population of Germany; 891211 persons (rows) x 85 features (columns).\n",
    "- `Udacity_CUSTOMERS_Subset.csv`: Demographics data for customers of a mail-order company; 191652 persons (rows) x 85 features (columns).\n",
    "- `Data_Dictionary.md`: Detailed information file about the features in the provided datasets.\n",
    "- `AZDIAS_Feature_Summary.csv`: Summary of feature attributes for demographics data; 85 features (rows) x 4 columns\n",
    "\n",
    "Each row of the demographics files represents a single person, but also includes information outside of individuals, including information about their household, building, and neighborhood. You will use this information to cluster the general population into groups with similar demographic properties. Then, you will see how the people in the customers dataset fit into those created clusters. The hope here is that certain clusters are over-represented in the customers data, as compared to the general population; those over-represented clusters will be assumed to be part of the core userbase. This information can then be used for further applications, such as targeting for a marketing campaign.\n",
    "\n",
    "To start off with, load in the demographics data for the general population into a pandas DataFrame, and do the same for the feature attributes summary. Note for all of the `.csv` data files in this project: they're semicolon (`;`) delimited, so you'll need an additional argument in your [`read_csv()`](https://pandas.pydata.org/pandas-docs/stable/generated/pandas.read_csv.html) call to read in the data properly. Also, considering the size of the main dataset, it may take some time for it to load completely.\n",
    "\n",
    "Once the dataset is loaded, it's recommended that you take a little bit of time just browsing the general structure of the dataset and feature summary file. You'll be getting deep into the innards of the cleaning in the first major step of the project, so gaining some general familiarity can help you get your bearings."
   ]
  },
  {
   "cell_type": "code",
   "execution_count": 2,
   "metadata": {},
   "outputs": [],
   "source": [
    "# Load in the general demographics data.\n",
    "azdias = pd.read_csv('Udacity_AZDIAS_Subset.csv', sep=';')\n",
    "\n",
    "# Load in the feature summary file.\n",
    "feat_info = pd.read_csv('AZDIAS_Feature_Summary.csv', sep=';')"
   ]
  },
  {
   "cell_type": "code",
   "execution_count": 3,
   "metadata": {
    "scrolled": true
   },
   "outputs": [
    {
     "name": "stdout",
     "output_type": "stream",
     "text": [
      "Demographics data for the general population:\n",
      "- Number of features: 85\n",
      "- Number of rows: 891,221\n"
     ]
    },
    {
     "data": {
      "text/html": [
       "<div>\n",
       "<style scoped>\n",
       "    .dataframe tbody tr th:only-of-type {\n",
       "        vertical-align: middle;\n",
       "    }\n",
       "\n",
       "    .dataframe tbody tr th {\n",
       "        vertical-align: top;\n",
       "    }\n",
       "\n",
       "    .dataframe thead th {\n",
       "        text-align: right;\n",
       "    }\n",
       "</style>\n",
       "<table border=\"1\" class=\"dataframe\">\n",
       "  <thead>\n",
       "    <tr style=\"text-align: right;\">\n",
       "      <th></th>\n",
       "      <th>AGER_TYP</th>\n",
       "      <th>ALTERSKATEGORIE_GROB</th>\n",
       "      <th>ANREDE_KZ</th>\n",
       "      <th>CJT_GESAMTTYP</th>\n",
       "      <th>FINANZ_MINIMALIST</th>\n",
       "      <th>FINANZ_SPARER</th>\n",
       "      <th>FINANZ_VORSORGER</th>\n",
       "      <th>FINANZ_ANLEGER</th>\n",
       "      <th>FINANZ_UNAUFFAELLIGER</th>\n",
       "      <th>FINANZ_HAUSBAUER</th>\n",
       "      <th>...</th>\n",
       "      <th>PLZ8_ANTG1</th>\n",
       "      <th>PLZ8_ANTG2</th>\n",
       "      <th>PLZ8_ANTG3</th>\n",
       "      <th>PLZ8_ANTG4</th>\n",
       "      <th>PLZ8_BAUMAX</th>\n",
       "      <th>PLZ8_HHZ</th>\n",
       "      <th>PLZ8_GBZ</th>\n",
       "      <th>ARBEIT</th>\n",
       "      <th>ORTSGR_KLS9</th>\n",
       "      <th>RELAT_AB</th>\n",
       "    </tr>\n",
       "  </thead>\n",
       "  <tbody>\n",
       "    <tr>\n",
       "      <th>0</th>\n",
       "      <td>-1</td>\n",
       "      <td>2</td>\n",
       "      <td>1</td>\n",
       "      <td>2.0</td>\n",
       "      <td>3</td>\n",
       "      <td>4</td>\n",
       "      <td>3</td>\n",
       "      <td>5</td>\n",
       "      <td>5</td>\n",
       "      <td>3</td>\n",
       "      <td>...</td>\n",
       "      <td>NaN</td>\n",
       "      <td>NaN</td>\n",
       "      <td>NaN</td>\n",
       "      <td>NaN</td>\n",
       "      <td>NaN</td>\n",
       "      <td>NaN</td>\n",
       "      <td>NaN</td>\n",
       "      <td>NaN</td>\n",
       "      <td>NaN</td>\n",
       "      <td>NaN</td>\n",
       "    </tr>\n",
       "    <tr>\n",
       "      <th>1</th>\n",
       "      <td>-1</td>\n",
       "      <td>1</td>\n",
       "      <td>2</td>\n",
       "      <td>5.0</td>\n",
       "      <td>1</td>\n",
       "      <td>5</td>\n",
       "      <td>2</td>\n",
       "      <td>5</td>\n",
       "      <td>4</td>\n",
       "      <td>5</td>\n",
       "      <td>...</td>\n",
       "      <td>2.0</td>\n",
       "      <td>3.0</td>\n",
       "      <td>2.0</td>\n",
       "      <td>1.0</td>\n",
       "      <td>1.0</td>\n",
       "      <td>5.0</td>\n",
       "      <td>4.0</td>\n",
       "      <td>3.0</td>\n",
       "      <td>5.0</td>\n",
       "      <td>4.0</td>\n",
       "    </tr>\n",
       "    <tr>\n",
       "      <th>2</th>\n",
       "      <td>-1</td>\n",
       "      <td>3</td>\n",
       "      <td>2</td>\n",
       "      <td>3.0</td>\n",
       "      <td>1</td>\n",
       "      <td>4</td>\n",
       "      <td>1</td>\n",
       "      <td>2</td>\n",
       "      <td>3</td>\n",
       "      <td>5</td>\n",
       "      <td>...</td>\n",
       "      <td>3.0</td>\n",
       "      <td>3.0</td>\n",
       "      <td>1.0</td>\n",
       "      <td>0.0</td>\n",
       "      <td>1.0</td>\n",
       "      <td>4.0</td>\n",
       "      <td>4.0</td>\n",
       "      <td>3.0</td>\n",
       "      <td>5.0</td>\n",
       "      <td>2.0</td>\n",
       "    </tr>\n",
       "    <tr>\n",
       "      <th>3</th>\n",
       "      <td>2</td>\n",
       "      <td>4</td>\n",
       "      <td>2</td>\n",
       "      <td>2.0</td>\n",
       "      <td>4</td>\n",
       "      <td>2</td>\n",
       "      <td>5</td>\n",
       "      <td>2</td>\n",
       "      <td>1</td>\n",
       "      <td>2</td>\n",
       "      <td>...</td>\n",
       "      <td>2.0</td>\n",
       "      <td>2.0</td>\n",
       "      <td>2.0</td>\n",
       "      <td>0.0</td>\n",
       "      <td>1.0</td>\n",
       "      <td>3.0</td>\n",
       "      <td>4.0</td>\n",
       "      <td>2.0</td>\n",
       "      <td>3.0</td>\n",
       "      <td>3.0</td>\n",
       "    </tr>\n",
       "    <tr>\n",
       "      <th>4</th>\n",
       "      <td>-1</td>\n",
       "      <td>3</td>\n",
       "      <td>1</td>\n",
       "      <td>5.0</td>\n",
       "      <td>4</td>\n",
       "      <td>3</td>\n",
       "      <td>4</td>\n",
       "      <td>1</td>\n",
       "      <td>3</td>\n",
       "      <td>2</td>\n",
       "      <td>...</td>\n",
       "      <td>2.0</td>\n",
       "      <td>4.0</td>\n",
       "      <td>2.0</td>\n",
       "      <td>1.0</td>\n",
       "      <td>2.0</td>\n",
       "      <td>3.0</td>\n",
       "      <td>3.0</td>\n",
       "      <td>4.0</td>\n",
       "      <td>6.0</td>\n",
       "      <td>5.0</td>\n",
       "    </tr>\n",
       "  </tbody>\n",
       "</table>\n",
       "<p>5 rows × 85 columns</p>\n",
       "</div>"
      ],
      "text/plain": [
       "   AGER_TYP  ALTERSKATEGORIE_GROB  ANREDE_KZ  CJT_GESAMTTYP  \\\n",
       "0        -1                     2          1            2.0   \n",
       "1        -1                     1          2            5.0   \n",
       "2        -1                     3          2            3.0   \n",
       "3         2                     4          2            2.0   \n",
       "4        -1                     3          1            5.0   \n",
       "\n",
       "   FINANZ_MINIMALIST  FINANZ_SPARER  FINANZ_VORSORGER  FINANZ_ANLEGER  \\\n",
       "0                  3              4                 3               5   \n",
       "1                  1              5                 2               5   \n",
       "2                  1              4                 1               2   \n",
       "3                  4              2                 5               2   \n",
       "4                  4              3                 4               1   \n",
       "\n",
       "   FINANZ_UNAUFFAELLIGER  FINANZ_HAUSBAUER  ...  PLZ8_ANTG1  PLZ8_ANTG2  \\\n",
       "0                      5                 3  ...         NaN         NaN   \n",
       "1                      4                 5  ...         2.0         3.0   \n",
       "2                      3                 5  ...         3.0         3.0   \n",
       "3                      1                 2  ...         2.0         2.0   \n",
       "4                      3                 2  ...         2.0         4.0   \n",
       "\n",
       "   PLZ8_ANTG3  PLZ8_ANTG4  PLZ8_BAUMAX  PLZ8_HHZ  PLZ8_GBZ  ARBEIT  \\\n",
       "0         NaN         NaN          NaN       NaN       NaN     NaN   \n",
       "1         2.0         1.0          1.0       5.0       4.0     3.0   \n",
       "2         1.0         0.0          1.0       4.0       4.0     3.0   \n",
       "3         2.0         0.0          1.0       3.0       4.0     2.0   \n",
       "4         2.0         1.0          2.0       3.0       3.0     4.0   \n",
       "\n",
       "   ORTSGR_KLS9  RELAT_AB  \n",
       "0          NaN       NaN  \n",
       "1          5.0       4.0  \n",
       "2          5.0       2.0  \n",
       "3          3.0       3.0  \n",
       "4          6.0       5.0  \n",
       "\n",
       "[5 rows x 85 columns]"
      ]
     },
     "metadata": {},
     "output_type": "display_data"
    }
   ],
   "source": [
    "# Check the structure of the data after it's loaded (e.g. print the number of\n",
    "# rows and columns, print the first few rows).\n",
    "\n",
    "print('Demographics data for the general population:')\n",
    "print('- Number of features: {}'.format(azdias.shape[1]))\n",
    "print('- Number of rows: {:,}'.format(azdias.shape[0]))\n",
    "\n",
    "display(azdias.head(5))"
   ]
  },
  {
   "cell_type": "code",
   "execution_count": 4,
   "metadata": {
    "scrolled": false
   },
   "outputs": [
    {
     "name": "stdout",
     "output_type": "stream",
     "text": [
      "Feature summary for the general population:\n",
      "- Number of rows: 85\n"
     ]
    },
    {
     "data": {
      "text/html": [
       "<div>\n",
       "<style scoped>\n",
       "    .dataframe tbody tr th:only-of-type {\n",
       "        vertical-align: middle;\n",
       "    }\n",
       "\n",
       "    .dataframe tbody tr th {\n",
       "        vertical-align: top;\n",
       "    }\n",
       "\n",
       "    .dataframe thead th {\n",
       "        text-align: right;\n",
       "    }\n",
       "</style>\n",
       "<table border=\"1\" class=\"dataframe\">\n",
       "  <thead>\n",
       "    <tr style=\"text-align: right;\">\n",
       "      <th></th>\n",
       "      <th>attribute</th>\n",
       "      <th>information_level</th>\n",
       "      <th>type</th>\n",
       "      <th>missing_or_unknown</th>\n",
       "    </tr>\n",
       "  </thead>\n",
       "  <tbody>\n",
       "    <tr>\n",
       "      <th>0</th>\n",
       "      <td>AGER_TYP</td>\n",
       "      <td>person</td>\n",
       "      <td>categorical</td>\n",
       "      <td>[-1,0]</td>\n",
       "    </tr>\n",
       "    <tr>\n",
       "      <th>1</th>\n",
       "      <td>ALTERSKATEGORIE_GROB</td>\n",
       "      <td>person</td>\n",
       "      <td>ordinal</td>\n",
       "      <td>[-1,0,9]</td>\n",
       "    </tr>\n",
       "    <tr>\n",
       "      <th>2</th>\n",
       "      <td>ANREDE_KZ</td>\n",
       "      <td>person</td>\n",
       "      <td>categorical</td>\n",
       "      <td>[-1,0]</td>\n",
       "    </tr>\n",
       "    <tr>\n",
       "      <th>3</th>\n",
       "      <td>CJT_GESAMTTYP</td>\n",
       "      <td>person</td>\n",
       "      <td>categorical</td>\n",
       "      <td>[0]</td>\n",
       "    </tr>\n",
       "    <tr>\n",
       "      <th>4</th>\n",
       "      <td>FINANZ_MINIMALIST</td>\n",
       "      <td>person</td>\n",
       "      <td>ordinal</td>\n",
       "      <td>[-1]</td>\n",
       "    </tr>\n",
       "  </tbody>\n",
       "</table>\n",
       "</div>"
      ],
      "text/plain": [
       "              attribute information_level         type missing_or_unknown\n",
       "0              AGER_TYP            person  categorical             [-1,0]\n",
       "1  ALTERSKATEGORIE_GROB            person      ordinal           [-1,0,9]\n",
       "2             ANREDE_KZ            person  categorical             [-1,0]\n",
       "3         CJT_GESAMTTYP            person  categorical                [0]\n",
       "4     FINANZ_MINIMALIST            person      ordinal               [-1]"
      ]
     },
     "metadata": {},
     "output_type": "display_data"
    }
   ],
   "source": [
    "print('Feature summary for the general population:')\n",
    "print('- Number of rows: {:,}'.format(feat_info.shape[0]))\n",
    "\n",
    "display(feat_info.head(5))"
   ]
  },
  {
   "cell_type": "markdown",
   "metadata": {},
   "source": [
    "> **Tip**: Add additional cells to keep everything in reasonably-sized chunks! Keyboard shortcut `esc --> a` (press escape to enter command mode, then press the 'A' key) adds a new cell before the active cell, and `esc --> b` adds a new cell after the active cell. If you need to convert an active cell to a markdown cell, use `esc --> m` and to convert to a code cell, use `esc --> y`. \n",
    "\n",
    "## Step 1: Preprocessing\n",
    "\n",
    "### Step 1.1: Assess Missing Data\n",
    "\n",
    "The feature summary file contains a summary of properties for each demographics data column. You will use this file to help you make cleaning decisions during this stage of the project. First of all, you should assess the demographics data in terms of missing data. Pay attention to the following points as you perform your analysis, and take notes on what you observe. Make sure that you fill in the **Discussion** cell with your findings and decisions at the end of each step that has one!\n",
    "\n",
    "#### Step 1.1.1: Convert Missing Value Codes to NaNs\n",
    "The fourth column of the feature attributes summary (loaded in above as `feat_info`) documents the codes from the data dictionary that indicate missing or unknown data. While the file encodes this as a list (e.g. `[-1,0]`), this will get read in as a string object. You'll need to do a little bit of parsing to make use of it to identify and clean the data. Convert data that matches a 'missing' or 'unknown' value code into a numpy NaN value. You might want to see how much data takes on a 'missing' or 'unknown' code, and how much data is naturally missing, as a point of interest.\n",
    "\n",
    "**As one more reminder, you are encouraged to add additional cells to break up your analysis into manageable chunks.**"
   ]
  },
  {
   "cell_type": "code",
   "execution_count": 5,
   "metadata": {},
   "outputs": [],
   "source": [
    "# Identify missing or unknown data values and convert them to NaNs.\n",
    "\n",
    "# - Defining a function for conversion\n",
    "def convert_missing_values(data, feat_info):\n",
    "    \"\"\"\n",
    "    Converts missing values in demographics data to NaNs. The \n",
    "    missing values for each feature are given in \"feat_info\".\n",
    "    \n",
    "    Args:\n",
    "        (dframe) data - demographics data\n",
    "        (dframe) feat_info - feature names in \"attribute\" column and \n",
    "        missing values in \"missing_or_unknown\" column as a list\n",
    "\n",
    "    Returns:\n",
    "        (dframe) data - processed data rows and features\n",
    "\n",
    "    \"\"\"\n",
    "    \n",
    "    for column_name in list(data.columns):\n",
    "\n",
    "        # Find and parse lists in missing_and_unknown column \n",
    "        nan_string = feat_info.loc[feat_info['attribute'] \\\n",
    "                                   == column_name]['missing_or_unknown'].item()\n",
    "        nan_string = nan_string[1:-1] # remove parenthesis\n",
    "\n",
    "        if len(nan_string):\n",
    "            nan_list = nan_string.split(',') # values separated by commas\n",
    "\n",
    "            # Replace values in dataframe\n",
    "            for item in nan_list:\n",
    "                try:\n",
    "                    item = int(item) # convert string to integers\n",
    "                except ValueError:\n",
    "                    pass\n",
    "\n",
    "                data.loc[data[column_name] == item, column_name] = None\n",
    "\n",
    "    return data"
   ]
  },
  {
   "cell_type": "code",
   "execution_count": 6,
   "metadata": {},
   "outputs": [],
   "source": [
    "# - Converting missing values to NaNs\n",
    "azdias_pre1 = convert_missing_values(azdias, feat_info)"
   ]
  },
  {
   "cell_type": "markdown",
   "metadata": {},
   "source": [
    "#### Step 1.1.2: Assess Missing Data in Each Column\n",
    "\n",
    "How much missing data is present in each column? There are a few columns that are outliers in terms of the proportion of values that are missing. You will want to use matplotlib's [`hist()`](https://matplotlib.org/api/_as_gen/matplotlib.pyplot.hist.html) function to visualize the distribution of missing value counts to find these columns. Identify and document these columns. While some of these columns might have justifications for keeping or re-encoding the data, for this project you should just remove them from the dataframe. (Feel free to make remarks about these outlier columns in the discussion, however!)\n",
    "\n",
    "For the remaining features, are there any patterns in which columns have, or share, missing data?"
   ]
  },
  {
   "cell_type": "code",
   "execution_count": 7,
   "metadata": {},
   "outputs": [
    {
     "name": "stdout",
     "output_type": "stream",
     "text": [
      "- Total missing values: 8,373,929 (11.05%)\n",
      "\n",
      "- 61 of 85 total features have missing values\n",
      "\n",
      "- Top-10 features and missing values:\n",
      "TITEL_KZ       889,061 (99.76%)\n",
      "AGER_TYP       685,843 (76.96%)\n",
      "KK_KUNDENTYP   584,612 (65.60%)\n",
      "KBA05_BAUMAX   476,524 (53.47%)\n",
      "GEBURTSJAHR    392,318 (44.02%)\n",
      "ALTER_HH       310,267 (34.81%)\n",
      "KKK            158,064 (17.74%)\n",
      "REGIOTYP       158,064 (17.74%)\n",
      "W_KEIT_KIND_HH 147,988 (16.61%)\n",
      "KBA05_ANTG1    133,324 (14.96%)\n"
     ]
    }
   ],
   "source": [
    "# Perform an assessment of how much missing data there is in each column of the\n",
    "# dataset.\n",
    "\n",
    "# - Calculate total missing values\n",
    "missing_values = azdias_pre1.isnull().sum().sum()\n",
    "missing_percent = 100 * azdias_pre1.isnull().sum().sum() / (azdias_pre1.shape[0] * azdias_pre1.shape[1])\n",
    "\n",
    "print('- Total missing values: {:,} ({:.2f}%)\\n'.format(missing_values, missing_percent))\n",
    "\n",
    "# - Calculate percentages for each feature\n",
    "nan_feat_absolute = azdias_pre1.isnull().sum().sort_values(axis=0, ascending=False)\n",
    "nan_feat_percent = (100 * azdias_pre1.isnull().sum() / azdias_pre1.shape[0]).sort_values(axis=0, ascending=False)\n",
    "\n",
    "print('- {} of {} total features have missing values\\n'\n",
    "      .format((nan_feat_percent > 0).sum(), azdias_pre1.shape[1]))\n",
    "\n",
    "# - Top-10 features missing values\n",
    "print('- Top-10 features and missing values:')\n",
    "for index in range(10):\n",
    "    print('{:14s} {:6,} ({:4.2f}%)'.format(nan_feat_absolute.index[index], nan_feat_absolute[index], \\\n",
    "                                     nan_feat_percent[index]))"
   ]
  },
  {
   "cell_type": "code",
   "execution_count": 8,
   "metadata": {
    "scrolled": false
   },
   "outputs": [
    {
     "data": {
      "text/plain": [
       "Text(0, 0.5, 'Count of features')"
      ]
     },
     "execution_count": 8,
     "metadata": {},
     "output_type": "execute_result"
    },
    {
     "data": {
      "image/png": "[encoded data removed]",
      "text/plain": [
       "<Figure size 432x288 with 1 Axes>"
      ]
     },
     "metadata": {
      "needs_background": "light"
     },
     "output_type": "display_data"
    }
   ],
   "source": [
    "# Investigate patterns in the amount of missing data in each column.\n",
    "\n",
    "# - Plot histogram of missing data in features\n",
    "axes = nan_feat_percent.hist(bins=50)\n",
    "axes.set_title(\"Missing data in features\")\n",
    "axes.set_xlabel(\"Missing values [%]\")\n",
    "axes.set_ylabel(\"Count of features\")"
   ]
  },
  {
   "cell_type": "markdown",
   "metadata": {},
   "source": [
    "> **Notes:** Around 35% of the features have no missing values. There is a cluster of features (around 60% of all features) that has 10-20% missing values. The six outlier features are clearly visible in the plot.\n",
    "\n",
    "> **Notes:** I will set the threshold value for outliers as 34%, but the number could be 20% as well for the same result."
   ]
  },
  {
   "cell_type": "code",
   "execution_count": 9,
   "metadata": {},
   "outputs": [
    {
     "name": "stdout",
     "output_type": "stream",
     "text": [
      "Considered as outlier features:\n",
      "TITEL_KZ\n",
      "AGER_TYP\n",
      "KK_KUNDENTYP\n",
      "KBA05_BAUMAX\n",
      "GEBURTSJAHR\n",
      "ALTER_HH\n"
     ]
    }
   ],
   "source": [
    "# Setting a threshold value for outlier features based on plot above (in percentage)\n",
    "nan_feat_percent_threshold = 34\n",
    "\n",
    "nan_feat_outliers = nan_feat_percent[nan_feat_percent > nan_feat_percent_threshold]\n",
    "nan_feat_remaining = nan_feat_percent[nan_feat_percent <= nan_feat_percent_threshold]\n",
    "\n",
    "print('Considered as outlier features:')\n",
    "for item in nan_feat_outliers.index:\n",
    "    print(item)"
   ]
  },
  {
   "cell_type": "code",
   "execution_count": 10,
   "metadata": {},
   "outputs": [
    {
     "data": {
      "text/plain": [
       "Text(0.5, 1.0, 'Missing values in dataset (colored white)')"
      ]
     },
     "execution_count": 10,
     "metadata": {},
     "output_type": "execute_result"
    },
    {
     "data": {
      "image/png": "[encoded data removed]",
      "text/plain": [
       "<Figure size 432x288 with 1 Axes>"
      ]
     },
     "metadata": {
      "needs_background": "light"
     },
     "output_type": "display_data"
    }
   ],
   "source": [
    "# Plotting missing values (heatmap) for the first 500 rows\n",
    "\n",
    "# - Source: https://dev.to/tomoyukiaota/visualizing-the-patterns-of-missing-value-occurrence-with-python-46dj\n",
    "\n",
    "sns.heatmap(azdias_pre1.iloc[0:500,:].isnull(), cbar=False) \\\n",
    "            .set_title(\"Missing values in dataset (colored white)\")"
   ]
  },
  {
   "cell_type": "markdown",
   "metadata": {},
   "source": [
    "> **Notes:** The heatmap is an example of the first 500 rows but illustrates the trend whole dataset. One can see the same six vertical (features) white bands that are marked as the outlier features. One can also notice there are many horizontal (row) white bands that are present in the last half of features, and in the middle of the first half of features."
   ]
  },
  {
   "cell_type": "code",
   "execution_count": 11,
   "metadata": {
    "scrolled": false
   },
   "outputs": [
    {
     "data": {
      "text/plain": [
       "Text(0.5, 1.0, 'Absolute correlation values for all columns')"
      ]
     },
     "execution_count": 11,
     "metadata": {},
     "output_type": "execute_result"
    },
    {
     "data": {
      "image/png": "[encoded data removed]",
      "text/plain": [
       "<Figure size 432x288 with 2 Axes>"
      ]
     },
     "metadata": {
      "needs_background": "light"
     },
     "output_type": "display_data"
    }
   ],
   "source": [
    "# Plotting absolute correlation coefficient for all columns\n",
    "correlations = azdias_pre1.corr()\n",
    "correlations[correlations == 1] = 0 # Set self-correlations to zero\n",
    "\n",
    "sns.heatmap(correlations.abs()).set_title(\"Absolute correlation values for all columns\")"
   ]
  },
  {
   "cell_type": "markdown",
   "metadata": {},
   "source": [
    "> **Notes:** The above plot shows the absolute correlation coefficients. There are some regions that have more correlated data (red/white). Next, I will focus on the top-left section where you can see some highly correlated data.\n",
    "\n",
    "> **Notes:** I also tried to make a comparison plot where the missing values would have been filled. But filling missing values with column means was slow with the dataset and the imputer would have required more preprocessing steps."
   ]
  },
  {
   "cell_type": "code",
   "execution_count": 12,
   "metadata": {},
   "outputs": [
    {
     "name": "stdout",
     "output_type": "stream",
     "text": [
      "Highly correlated pairs:\n"
     ]
    },
    {
     "data": {
      "text/plain": [
       "GEBURTSJAHR            PRAEGENDE_JUGENDJAHRE    0.942798\n",
       "LP_LEBENSPHASE_FEIN    LP_LEBENSPHASE_GROB      0.990153\n",
       "                       LP_FAMILIE_FEIN          0.932188\n",
       "                       LP_FAMILIE_GROB          0.953949\n",
       "LP_LEBENSPHASE_GROB    LP_LEBENSPHASE_FEIN      0.990153\n",
       "                       LP_FAMILIE_FEIN          0.959766\n",
       "                       LP_FAMILIE_GROB          0.971096\n",
       "LP_FAMILIE_FEIN        LP_LEBENSPHASE_FEIN      0.932188\n",
       "                       LP_LEBENSPHASE_GROB      0.959766\n",
       "                       LP_FAMILIE_GROB          0.988211\n",
       "LP_FAMILIE_GROB        LP_LEBENSPHASE_FEIN      0.953949\n",
       "                       LP_LEBENSPHASE_GROB      0.971096\n",
       "                       LP_FAMILIE_FEIN          0.988211\n",
       "LP_STATUS_FEIN         LP_STATUS_GROB           0.982411\n",
       "LP_STATUS_GROB         LP_STATUS_FEIN           0.982411\n",
       "PRAEGENDE_JUGENDJAHRE  GEBURTSJAHR              0.942798\n",
       "dtype: float64"
      ]
     },
     "metadata": {},
     "output_type": "display_data"
    }
   ],
   "source": [
    "# Listing highly correlated pairs (>0.9) for all columns\n",
    "# - Source: https://stackoverflow.com/questions/17778394/list-highest-correlation-pairs-from-a-large-correlation-matrix-in-pandas\n",
    "\n",
    "corr_cols  = correlations.unstack()\n",
    "print('Highly correlated pairs:')\n",
    "display(corr_cols[corr_cols > 0.9])"
   ]
  },
  {
   "cell_type": "code",
   "execution_count": 13,
   "metadata": {
    "scrolled": false
   },
   "outputs": [
    {
     "name": "stdout",
     "output_type": "stream",
     "text": [
      "- Correlation between LP_LEBENSPHASE_FEIN/GROB features: 99.02%\n",
      "- Correlation between LP_FAMILIE_FEIN/GROB features: 98.82%\n",
      "- Correlation between LP_STATUS_FEIN/GROB features: 98.24%\n"
     ]
    },
    {
     "data": {
      "image/png": "[encoded data removed]",
      "text/plain": [
       "<Figure size 432x288 with 2 Axes>"
      ]
     },
     "metadata": {
      "needs_background": "light"
     },
     "output_type": "display_data"
    }
   ],
   "source": [
    "# Plotting correlation coefficients for a subset of highly correlated values \n",
    "sns.heatmap(correlations.abs().iloc[10:25,10:25]).set_title(\"Subset of correlation values\")\n",
    "\n",
    "# Checking correlations between fine/rough-scale features:\n",
    "corr = correlations['LP_LEBENSPHASE_FEIN']['LP_LEBENSPHASE_GROB']\n",
    "print('- Correlation between LP_LEBENSPHASE_FEIN/GROB features: {:.2f}%'.format(100 * corr))\n",
    "corr = correlations['LP_FAMILIE_FEIN']['LP_FAMILIE_GROB']\n",
    "print('- Correlation between LP_FAMILIE_FEIN/GROB features: {:.2f}%'.format(100 * corr))\n",
    "corr = correlations['LP_STATUS_FEIN']['LP_STATUS_GROB']\n",
    "print('- Correlation between LP_STATUS_FEIN/GROB features: {:.2f}%'.format(100 * corr))"
   ]
  },
  {
   "cell_type": "markdown",
   "metadata": {},
   "source": [
    "> **Notes:** PRAEGENDE_JUGENDJAHRE and GEBURTSJAHR are strongly correlated (age-related features). But GEBURTSJAHR has many missing values and will be deleted as an outlier. Mixed type PRAEGENDE_JUGENDJAHRE has an age component and will be processed later.\n",
    "\n",
    "> **Notes:** The three fine/rough-scale features (FEIN/GROB) have potentially overlapping data as they measure the same feature at a different level. LP_LEBENSPHASE_FEIN/GROB will be deleted later as mixed value, but later we should notice they may measure same the quantities."
   ]
  },
  {
   "cell_type": "code",
   "execution_count": 14,
   "metadata": {},
   "outputs": [
    {
     "name": "stdout",
     "output_type": "stream",
     "text": [
      "Removed outlier features (values in %):\n",
      "TITEL_KZ        99.757636\n",
      "AGER_TYP        76.955435\n",
      "KK_KUNDENTYP    65.596749\n",
      "KBA05_BAUMAX    53.468668\n",
      "GEBURTSJAHR     44.020282\n",
      "ALTER_HH        34.813699\n"
     ]
    }
   ],
   "source": [
    "# Remove the outlier columns from the dataset. (You'll perform other data\n",
    "# engineering tasks such as re-encoding and imputation later.)\n",
    "\n",
    "# - Removing outliers (features with more than threshold value)\n",
    "azdias_pre2 = azdias_pre1.drop(columns=nan_feat_outliers.index.tolist())\n",
    "\n",
    "print('Removed outlier features (values in %):')\n",
    "print(nan_feat_outliers.to_string())"
   ]
  },
  {
   "cell_type": "markdown",
   "metadata": {},
   "source": [
    "#### Discussion 1.1.2: Assess Missing Data in Each Column\n",
    "\n",
    "Around 35% of the features have no missing values. The majority of the features (around 60%) are in a cluster that has 10–20% missing values. Six features are were marked as outliers and removed from data. The removed features are (over 34% missing data): TITEL_KZ, AGER_TYP, KK_KUNDENTYP, KBA05_BAUMAX, GEBURTSJAHR, and ALTER_HH.\n",
    "\n",
    "The missing values in rows are concentrated in the last half of the features. The first half of features seem to have fewer missing values, excluding the middle section. The missing data is on random rows but on specific features as described above. And if a row has missing values, there are usually many, often consecutive, missing values on the same row.\n",
    "\n",
    "In the demographics data, there are some feature pairs/groups that are highly correlated. PRAEGENDE_JUGENDJAHRE and GEBURTSJAHR were strongly correlated (age-related features), but the GEBURTSJAHR feature was deleted as an outlier. The remaining mixed type PRAEGENDE_JUGENDJAHRE has an age component and will be engineered later.\n",
    "There are three fine/rough-scale features (FEIN/GROB) that have potentially overlapping data as they measure the same feature at a different level. LP_LEBENSPHASE_FEIN/GROB will be deleted later as mixed value. The remaining features LP_FAMILIE_FEIN/GROB and LP_STATUS_FEIN/GROB need focus."
   ]
  },
  {
   "cell_type": "markdown",
   "metadata": {},
   "source": [
    "#### Step 1.1.3: Assess Missing Data in Each Row\n",
    "\n",
    "Now, you'll perform a similar assessment for the rows of the dataset. How much data is missing in each row? As with the columns, you should see some groups of points that have a very different numbers of missing values. Divide the data into two subsets: one for data points that are above some threshold for missing values, and a second subset for points below that threshold.\n",
    "\n",
    "In order to know what to do with the outlier rows, we should see if the distribution of data values on columns that are not missing data (or are missing very little data) are similar or different between the two groups. Select at least five of these columns and compare the distribution of values.\n",
    "- You can use seaborn's [`countplot()`](https://seaborn.pydata.org/generated/seaborn.countplot.html) function to create a bar chart of code frequencies and matplotlib's [`subplot()`](https://matplotlib.org/api/_as_gen/matplotlib.pyplot.subplot.html) function to put bar charts for the two subplots side by side.\n",
    "- To reduce repeated code, you might want to write a function that can perform this comparison, taking as one of its arguments a column to be compared.\n",
    "\n",
    "Depending on what you observe in your comparison, this will have implications on how you approach your conclusions later in the analysis. If the distributions of non-missing features look similar between the data with many missing values and the data with few or no missing values, then we could argue that simply dropping those points from the analysis won't present a major issue. On the other hand, if the data with many missing values looks very different from the data with few or no missing values, then we should make a note on those data as special. We'll revisit these data later on. **Either way, you should continue your analysis for now using just the subset of the data with few or no missing values.**"
   ]
  },
  {
   "cell_type": "code",
   "execution_count": 15,
   "metadata": {
    "scrolled": true
   },
   "outputs": [
    {
     "data": {
      "text/plain": [
       "Text(0, 0.5, 'Count of rows')"
      ]
     },
     "execution_count": 15,
     "metadata": {},
     "output_type": "execute_result"
    },
    {
     "data": {
      "image/png": "[encoded data removed]",
      "text/plain": [
       "<Figure size 432x288 with 1 Axes>"
      ]
     },
     "metadata": {
      "needs_background": "light"
     },
     "output_type": "display_data"
    }
   ],
   "source": [
    "# How much data is missing in each row of the dataset?\n",
    "\n",
    "# - Calculate NaNs in each row\n",
    "nan_in_rows = azdias_pre2.isnull().sum(axis=1)\n",
    "\n",
    "# Plot histogram on missing data in rows (logarithm y)\n",
    "nan_row_bins = nan_in_rows.max() - nan_in_rows.min() + 1 # match bins with missing values\n",
    "axes = nan_in_rows.hist(bins=nan_row_bins, log=True)\n",
    "axes.set_title(\"Missing data in rows\")\n",
    "axes.set_xlabel(\"Number of missing features\")\n",
    "axes.set_ylabel(\"Count of rows\")"
   ]
  },
  {
   "cell_type": "code",
   "execution_count": 16,
   "metadata": {},
   "outputs": [
    {
     "data": {
      "text/plain": [
       "(0.0, 50000.0)"
      ]
     },
     "execution_count": 16,
     "metadata": {},
     "output_type": "execute_result"
    },
    {
     "data": {
      "image/png": "[encoded data removed]",
      "text/plain": [
       "<Figure size 432x288 with 1 Axes>"
      ]
     },
     "metadata": {
      "needs_background": "light"
     },
     "output_type": "display_data"
    }
   ],
   "source": [
    "# Plot histogram on missing data in rows (linear y)\n",
    "axes = nan_in_rows.hist(bins=nan_row_bins, log=False)\n",
    "axes.set_title(\"Missing data in rows\")\n",
    "axes.set_xlabel(\"Number of missing features\")\n",
    "axes.set_ylabel(\"Count of rows\")\n",
    "axes.set_ylim(0, 50000)"
   ]
  },
  {
   "cell_type": "markdown",
   "metadata": {},
   "source": [
    "> **Notes:** I used both logarithmic and linear scales on the y-axis to better understand the patterns in missing values.\n",
    "\n",
    "> **Notes:** In the linear plot, one can see a cluster between 0-8 missing features that could be used as one split criterion. On the other hand, there is a region of fewer row counts at values between 9 and 32. The linear plot identifies rows that miss more than 32 features as outliers (as in the case of features). Thus, I decided to split the data using 32 missing features as the threshold value."
   ]
  },
  {
   "cell_type": "code",
   "execution_count": 17,
   "metadata": {},
   "outputs": [],
   "source": [
    "# Write code to divide the data into two subsets based on the number of missing\n",
    "# values in each row.\n",
    "\n",
    "# Dividing data into two subsets based on threshold value\n",
    "nan_row_threshold = 32\n",
    "\n",
    "# Select rows with NaNs over threshold value\n",
    "nan_rows_insufficient = nan_in_rows[nan_in_rows > nan_row_threshold]\n",
    "azdias_rows_insufficient = azdias_pre2.iloc[nan_rows_insufficient.index.tolist()]\n",
    "\n",
    "# Select rows with NaNs equal or under threshold value\n",
    "nan_rows_sufficient = nan_in_rows[nan_in_rows <= nan_row_threshold]\n",
    "azdias_rows_sufficient = azdias_pre2.iloc[nan_rows_sufficient.index.tolist()]"
   ]
  },
  {
   "cell_type": "code",
   "execution_count": 18,
   "metadata": {},
   "outputs": [
    {
     "name": "stdout",
     "output_type": "stream",
     "text": [
      "Missing values on rows compared to the threshold value (=32):\n",
      "- Equal or below the threshold value: 89.57%\n",
      "- Above the threshold value: 10.43%\n"
     ]
    }
   ],
   "source": [
    "print(f'Missing values on rows compared to the threshold value (={nan_row_threshold}):')\n",
    "print('- Equal or below the threshold value: {:.2f}%'.format(100 * azdias_rows_sufficient.shape[0] \\\n",
    "                                              / azdias_pre2.shape[0]))\n",
    "print('- Above the threshold value: {:.2f}%'.format(100 * azdias_rows_insufficient.shape[0] \\\n",
    "                                              / azdias_pre2.shape[0]))"
   ]
  },
  {
   "cell_type": "code",
   "execution_count": 19,
   "metadata": {},
   "outputs": [
    {
     "data": {
      "image/png": "[encoded data removed]",
      "text/plain": [
       "<Figure size 720x360 with 6 Axes>"
      ]
     },
     "metadata": {
      "needs_background": "light"
     },
     "output_type": "display_data"
    }
   ],
   "source": [
    "# Compare the distribution of values for at least five columns where there are\n",
    "# no or few missing values, between the two subsets.\n",
    "\n",
    "# List columns with no or few missing values (first 30 are good), and randomize 6 features\n",
    "nan_feat_percent = nan_feat_percent.sort_values(axis=0, ascending=True)\n",
    "random_list = random.sample(nan_feat_percent[:30].index.tolist(), 6)\n",
    "\n",
    "# Source: https://stackoverflow.com/questions/22483588/how-can-i-plot-separate-pandas-dataframes-as-subplots\n",
    "# Source: https://stackoverflow.com/questions/6963035/pyplot-axes-labels-for-subplots\n",
    "\n",
    "# Dividing rows into 4 groups based on missing values\n",
    "\n",
    "# - No missing values\n",
    "nan_rows_1 = nan_in_rows[nan_in_rows == 0]\n",
    "azdias_rows_1 = azdias_pre2.iloc[nan_rows_1.index.tolist()]\n",
    "\n",
    "# - 1-8 missing values\n",
    "nan_rows_2 = nan_in_rows[nan_in_rows.between(1, 8)]\n",
    "azdias_rows_2 = azdias_pre2.iloc[nan_rows_2.index.tolist()]\n",
    "\n",
    "# - 9-32 missing values\n",
    "nan_rows_3 = nan_in_rows[nan_in_rows.between(9, 32)]\n",
    "azdias_rows_3 = azdias_pre2.iloc[nan_rows_3.index.tolist()]\n",
    "\n",
    "# - More than 32 missing values\n",
    "nan_rows_4 = nan_in_rows[nan_in_rows > 32]\n",
    "azdias_rows_4 = azdias_pre2.iloc[nan_rows_4.index.tolist()]\n",
    "\n",
    "fig, axes = plt.subplots(nrows=2, ncols=3, sharex=True, sharey=True, figsize=(10,5))\n",
    "plot_number = 1\n",
    "\n",
    "for cols in range(3):\n",
    "    for rows in range(2):\n",
    "        # Column name from random list\n",
    "        column_name = random_list[plot_number-1]\n",
    "        \n",
    "        # Calculate label percentages for low-NaN rows\n",
    "        column_1 = 100 * azdias_rows_1[column_name].value_counts() \\\n",
    "                            .sort_index() / azdias_rows_1.shape[0]\n",
    "        column_1.rename('Zero missing feat.', inplace=True)\n",
    "\n",
    "        # Calculate label percentages for low-NaN rows\n",
    "        column_2 = 100 * azdias_rows_2[column_name].value_counts() \\\n",
    "                            .sort_index() / azdias_rows_2.shape[0]\n",
    "        column_2.rename('1–8 missing feat.', inplace=True)\n",
    "\n",
    "        # Calculate label percentages for low-NaN rows\n",
    "        column_3 = 100 * azdias_rows_3[column_name].value_counts() \\\n",
    "                            .sort_index() / azdias_rows_3.shape[0]\n",
    "        column_3.rename('9–32 missing feat.', inplace=True)\n",
    "\n",
    "        # Calculate label percentages for low-NaN rows\n",
    "        column_4 = 100 * azdias_rows_4[column_name].value_counts() \\\n",
    "                            .sort_index() / azdias_rows_4.shape[0]\n",
    "        column_4.rename('Over 32 missing feat.', inplace=True)\n",
    "        \n",
    "        # Combine into dataframe\n",
    "        column_compare = pd.concat([column_1, column_2, column_3, column_4], axis=1)\n",
    "\n",
    "        # Subplot\n",
    "        column_compare.plot(ax=axes[rows, cols], kind='bar')\n",
    "        axes[rows, cols].set_title(column_name)\n",
    "        plt.setp(axes, xlabel='Label value')\n",
    "        plt.setp(axes, ylabel='Label count [%]')\n",
    "        \n",
    "        plot_number += 1\n",
    "\n",
    "fig.suptitle('Label counts for groups of missing values in rows')\n",
    "fig.tight_layout() # all texts visible"
   ]
  },
  {
   "cell_type": "markdown",
   "metadata": {},
   "source": [
    "> **Notes:** The six plotted features are random have no missing values.\n",
    "\n",
    "> **Notes:** I plotted four groups of missing values on rows to better justify the choice of the threshold value. Even there are some differences between groups 0, 1–8, and 9–32, the last group that has over 32 missing values on rows looks more different. Especially on non-binary features, the peak counts are concentrated on one label and the distribution also looks different."
   ]
  },
  {
   "cell_type": "code",
   "execution_count": 20,
   "metadata": {},
   "outputs": [
    {
     "name": "stdout",
     "output_type": "stream",
     "text": [
      "Number of rows before cleanup: 891,221\n",
      "Number of rows after cleanup: 798,276\n"
     ]
    }
   ],
   "source": [
    "# Removing rows with NaN more than the threshold value\n",
    "\n",
    "print(f'Number of rows before cleanup: {azdias_pre2.shape[0]:,}')\n",
    "azdias_pre3 = azdias_pre2.drop(index=nan_rows_insufficient.index.tolist(), axis=1)\n",
    "print(f'Number of rows after cleanup: {azdias_pre3.shape[0]:,}')"
   ]
  },
  {
   "cell_type": "markdown",
   "metadata": {},
   "source": [
    "#### Discussion 1.1.3: Assess Missing Data in Each Row\n",
    "\n",
    "In the histogram plot, there is a cluster between 0–8 missing features on rows that could be used as one split criterion. I decided to include also a region of rows with fewer missing values between 9–32 (around 3% of all rows). Setting the threshold value at 32 missing features removed roughly 10% of rows at this stage.\n",
    "\n",
    "I also compared two subsets, namely cleaned data and removed data, using plots of label distributions for six random features. The selected features had no missing values. The data of more than 32 missing values on rows looked qualitatively more different for most labels. Especially on non-binary features, the peak counts are concentrated on one label and the distribution also looks different."
   ]
  },
  {
   "cell_type": "markdown",
   "metadata": {},
   "source": [
    "### Step 1.2: Select and Re-Encode Features\n",
    "\n",
    "Checking for missing data isn't the only way in which you can prepare a dataset for analysis. Since the unsupervised learning techniques to be used will only work on data that is encoded numerically, you need to make a few encoding changes or additional assumptions to be able to make progress. In addition, while almost all of the values in the dataset are encoded using numbers, not all of them represent numeric values. Check the third column of the feature summary (`feat_info`) for a summary of types of measurement.\n",
    "- For numeric and interval data, these features can be kept without changes.\n",
    "- Most of the variables in the dataset are ordinal in nature. While ordinal values may technically be non-linear in spacing, make the simplifying assumption that the ordinal variables can be treated as being interval in nature (that is, kept without any changes).\n",
    "- Special handling may be necessary for the remaining two variable types: categorical, and 'mixed'.\n",
    "\n",
    "In the first two parts of this sub-step, you will perform an investigation of the categorical and mixed-type features and make a decision on each of them, whether you will keep, drop, or re-encode each. Then, in the last part, you will create a new data frame with only the selected and engineered columns.\n",
    "\n",
    "Data wrangling is often the trickiest part of the data analysis process, and there's a lot of it to be done here. But stick with it: once you're done with this step, you'll be ready to get to the machine learning parts of the project!"
   ]
  },
  {
   "cell_type": "code",
   "execution_count": 21,
   "metadata": {},
   "outputs": [
    {
     "name": "stdout",
     "output_type": "stream",
     "text": [
      "List of data types:\n",
      "ordinal        49\n",
      "categorical    18\n",
      "mixed           6\n",
      "numeric         6\n"
     ]
    }
   ],
   "source": [
    "# How many features are there of each data type?\n",
    "\n",
    "# - Updating feat_info to match with cleaned dataframe\n",
    "feat_info_updated = feat_info.query('attribute in ' + str(azdias_pre3.columns.tolist()))\n",
    "\n",
    "print('List of data types:')\n",
    "print(feat_info_updated[\"type\"].value_counts().to_string())"
   ]
  },
  {
   "cell_type": "markdown",
   "metadata": {},
   "source": [
    "#### Step 1.2.1: Re-Encode Categorical Features\n",
    "\n",
    "For categorical data, you would ordinarily need to encode the levels as dummy variables. Depending on the number of categories, perform one of the following:\n",
    "- For binary (two-level) categoricals that take numeric values, you can keep them without needing to do anything.\n",
    "- There is one binary variable that takes on non-numeric values. For this one, you need to re-encode the values as numbers or create a dummy variable.\n",
    "- For multi-level categoricals (three or more values), you can choose to encode the values using multiple dummy variables (e.g. via [OneHotEncoder](http://scikit-learn.org/stable/modules/generated/sklearn.preprocessing.OneHotEncoder.html)), or (to keep things straightforward) just drop them from the analysis. As always, document your choices in the Discussion section."
   ]
  },
  {
   "cell_type": "code",
   "execution_count": 22,
   "metadata": {},
   "outputs": [
    {
     "name": "stdout",
     "output_type": "stream",
     "text": [
      "Categorical features:\n",
      "\n",
      "Name             Type (+values)            First 3 labels\n",
      "ANREDE_KZ        binary (numeric)          1.0, 2.0\n",
      "CJT_GESAMTTYP    multi-level (numeric)     1.0, 2.0, 3.0\n",
      "FINANZTYP        multi-level (numeric)     1.0, 2.0, 3.0\n",
      "GFK_URLAUBERTYP  multi-level (numeric)     1.0, 2.0, 3.0\n",
      "GREEN_AVANTGARDE binary (numeric)          0, 1\n",
      "LP_FAMILIE_FEIN  multi-level (numeric)     1.0, 2.0, 3.0\n",
      "LP_FAMILIE_GROB  multi-level (numeric)     1.0, 2.0, 3.0\n",
      "LP_STATUS_FEIN   multi-level (numeric)     1.0, 2.0, 3.0\n",
      "LP_STATUS_GROB   multi-level (numeric)     1.0, 2.0, 3.0\n",
      "NATIONALITAET_KZ multi-level (numeric)     1.0, 2.0, 3.0\n",
      "SHOPPER_TYP      multi-level (numeric)     0.0, 1.0, 2.0\n",
      "SOHO_KZ          binary (numeric)          0.0, 1.0\n",
      "VERS_TYP         binary (numeric)          1.0, 2.0\n",
      "ZABEOTYP         multi-level (numeric)     1.0, 2.0, 3.0\n",
      "GEBAEUDETYP      multi-level (numeric)     1.0, 2.0, 3.0\n",
      "OST_WEST_KZ      binary (non-numeric)      O, W\n",
      "CAMEO_DEUG_2015  multi-level (numeric)     1, 2, 3\n",
      "CAMEO_DEU_2015   multi-level (non-numeric) 1A, 1B, 1C\n"
     ]
    }
   ],
   "source": [
    "# Assess categorical variables: which are binary, which are multi-level, and\n",
    "# which one needs to be re-encoded?\n",
    "\n",
    "# List of categorical features from feat_info\n",
    "categorical_features = feat_info_updated.query('type in [\\'categorical\\']') \\\n",
    "                       .loc[:,'attribute'].values.tolist()\n",
    "\n",
    "# Print list of categories and types\n",
    "print('Categorical features:\\n')\n",
    "print('{:16s} {:25s} {}'.format('Name', 'Type (+values)', 'First 3 labels'))\n",
    "\n",
    "for feature in categorical_features:\n",
    "    value_list = azdias_pre3[feature].value_counts().sort_index().index.tolist()\n",
    "\n",
    "    # Define category type\n",
    "    category_type = None\n",
    "    if len(value_list) <= 2:\n",
    "        category_type = 'binary'\n",
    "    else:\n",
    "        category_type = 'multi-level'    \n",
    "\n",
    "    # Define value type\n",
    "    value_type = 'numeric'\n",
    "    for item in value_list:\n",
    "        try:\n",
    "            item = int(item)\n",
    "        except ValueError:\n",
    "            value_type = 'non-numeric'\n",
    "    category_type = category_type + f' ({value_type})'\n",
    "\n",
    "    # Print row before value examples\n",
    "    print('{:16s} {:25s}'.format(feature, category_type), end=' ')\n",
    "\n",
    "    # Print value examples (first 3)\n",
    "    for i in range(0, len(value_list)):\n",
    "        if i == 2: # stop at 3\n",
    "            print(value_list[i])\n",
    "            break\n",
    "        elif i < len(value_list)-1:\n",
    "            print(value_list[i], end=', ')\n",
    "        else:\n",
    "            print(value_list[i])"
   ]
  },
  {
   "cell_type": "markdown",
   "metadata": {},
   "source": [
    "> **Notes:** There are five binary features that are mostly good as they are. OST_WEST_KZ needs to be encoded manually to numerical values.\n",
    "\n",
    "> **Notes:** The rest 13 are multi-level features. Earlier I found that LP_FAMILIE_FEIN/GROB and LP_STATUS_FEIN/GROB (fine/coarse) features are highly correlated and have similar data at different levels. I will delete the fine features since the coarse-scale features may provide more clear interpretation about different groups. The remaining nine features will be re-encoded using one-hot encoding."
   ]
  },
  {
   "cell_type": "code",
   "execution_count": 23,
   "metadata": {},
   "outputs": [],
   "source": [
    "# - Function to list multi-level categories\n",
    "def multilevel_category_features(data, feat_info):\n",
    "    \"\"\"\n",
    "    Finds multi-level categories in demographics data based \n",
    "    on \"feat_info\" content.\n",
    "\n",
    "     Args:\n",
    "        (dframe) data - demographics data rows and features\n",
    "        (dframe) feat_info - feature names in \"attribute\" column \n",
    "        and types in \"type\" column\n",
    "    Returns:\n",
    "        (list) multilevel_categories - multi-level categories\n",
    "\n",
    "    \"\"\"\n",
    "    \n",
    "    multilevel_categories = []\n",
    "    \n",
    "    # List of categorical features from feat_info\n",
    "    categorical_features = feat_info.query('type in [\\'categorical\\']') \\\n",
    "                           .loc[:,'attribute'].values.tolist()\n",
    "    \n",
    "    for feature in categorical_features:\n",
    "        value_list = data[feature].value_counts().index.tolist()\n",
    "\n",
    "        # One-hot encode all features more than 2 different labels\n",
    "        if len(value_list) > 2:\n",
    "            multilevel_categories.append(feature)   \n",
    "            \n",
    "    return multilevel_categories"
   ]
  },
  {
   "cell_type": "code",
   "execution_count": 24,
   "metadata": {},
   "outputs": [
    {
     "name": "stdout",
     "output_type": "stream",
     "text": [
      "Features to be one-hot encoded:\n",
      "CJT_GESAMTTYP\n",
      "FINANZTYP\n",
      "GFK_URLAUBERTYP\n",
      "LP_FAMILIE_FEIN\n",
      "LP_FAMILIE_GROB\n",
      "LP_STATUS_FEIN\n",
      "LP_STATUS_GROB\n",
      "NATIONALITAET_KZ\n",
      "SHOPPER_TYP\n",
      "ZABEOTYP\n",
      "GEBAEUDETYP\n",
      "CAMEO_DEUG_2015\n",
      "CAMEO_DEU_2015\n"
     ]
    }
   ],
   "source": [
    "# Find all multi-level categories for re-encoding\n",
    "one_hot_encode_features = multilevel_category_features(azdias_pre3, feat_info_updated)\n",
    "\n",
    "print('Features to be one-hot encoded:')\n",
    "for item in one_hot_encode_features:\n",
    "    print(item)"
   ]
  },
  {
   "cell_type": "code",
   "execution_count": 25,
   "metadata": {},
   "outputs": [
    {
     "name": "stdout",
     "output_type": "stream",
     "text": [
      "Number of features before removing features: 79\n",
      "Number of features before one-hot encoding: 77\n",
      "Number of features after one-hot encoding: 173\n"
     ]
    }
   ],
   "source": [
    "# Re-encode categorical variable(s) to be kept in the analysis.\n",
    "\n",
    "# Make first a copy\n",
    "azdias_pre4 = azdias_pre3.copy()\n",
    "\n",
    "# - Convert non-numeric binary feature to numeric values:\n",
    "azdias_pre4['OST_WEST_KZ'].replace(['W', 'O'],[1, 0], inplace=True) \n",
    "azdias_pre4.rename(columns={'OST_WEST_KZ': 'OST_WEST_KZ_W'}, inplace=True)\n",
    "print(f'Number of features before removing features: {azdias_pre4.shape[1]}')\n",
    "\n",
    "# Removing LP_STATUS_FEIN and LP_FAMILIE_FEIN fine-scale features:\n",
    "azdias_pre4.drop(['LP_STATUS_FEIN', 'LP_FAMILIE_FEIN'], axis=1, inplace=True)\n",
    "one_hot_encode_features.remove('LP_STATUS_FEIN')\n",
    "one_hot_encode_features.remove('LP_FAMILIE_FEIN')\n",
    "\n",
    "# - One-hot encode:\n",
    "print(f'Number of features before one-hot encoding: {azdias_pre4.shape[1]}')\n",
    "azdias_pre4 = pd.get_dummies(azdias_pre4, columns=one_hot_encode_features)\n",
    "print(f'Number of features after one-hot encoding: {azdias_pre4.shape[1]}')"
   ]
  },
  {
   "cell_type": "markdown",
   "metadata": {},
   "source": [
    "#### Discussion 1.2.1: Re-Encode Categorical Features\n",
    "\n",
    "There were five categorical binary features that were mostly good as they were. The numeric features ANREDE_KZ, GREEN_AVANTGARDE, SOHO_KZ, and VERS_TYP didn't need action. The non-numeric feature OST_WEST_KZ (O, W) was converted to numerical values as OST_WEST_KZ_W (0, 1).\n",
    "\n",
    "The rest 13 were multi-level features. Earlier I found that LP_FAMILIE_FEIN/GROB and LP_STATUS_FEIN/GROB (fine/coarse) features were highly correlated and had similar data at different levels. I deleted the fine features since the coarse features may provide more clear interpretation about different groups. The remaining nine features (CJT_GESAMTTYP, FINANZTYP, GFK_URLAUBERTYP, NATIONALITAET_KZ, SHOPPER_TYP, ZABEOTYP, GEBAEUDETYP, CAMEO_DEUG_2015, and CAMEO_DEU_2015) were re-encoded using one-hot encoding."
   ]
  },
  {
   "cell_type": "markdown",
   "metadata": {},
   "source": [
    "#### Step 1.2.2: Engineer Mixed-Type Features\n",
    "\n",
    "There are a handful of features that are marked as \"mixed\" in the feature summary that require special treatment in order to be included in the analysis. There are two in particular that deserve attention; the handling of the rest are up to your own choices:\n",
    "- \"PRAEGENDE_JUGENDJAHRE\" combines information on three dimensions: generation by decade, movement (mainstream vs. avantgarde), and nation (east vs. west). While there aren't enough levels to disentangle east from west, you should create two new variables to capture the other two dimensions: an interval-type variable for decade, and a binary variable for movement.\n",
    "- \"CAMEO_INTL_2015\" combines information on two axes: wealth and life stage. Break up the two-digit codes by their 'tens'-place and 'ones'-place digits into two new ordinal variables (which, for the purposes of this project, is equivalent to just treating them as their raw numeric values).\n",
    "- If you decide to keep or engineer new features around the other mixed-type features, make sure you note your steps in the Discussion section.\n",
    "\n",
    "Be sure to check `Data_Dictionary.md` for the details needed to finish these tasks."
   ]
  },
  {
   "cell_type": "code",
   "execution_count": 26,
   "metadata": {},
   "outputs": [
    {
     "name": "stdout",
     "output_type": "stream",
     "text": [
      "List of mixed features:\n",
      "LP_LEBENSPHASE_FEIN\n",
      "LP_LEBENSPHASE_GROB\n",
      "PRAEGENDE_JUGENDJAHRE\n",
      "WOHNLAGE\n",
      "CAMEO_INTL_2015\n",
      "PLZ8_BAUMAX\n"
     ]
    }
   ],
   "source": [
    "# List of categorical features\n",
    "mixed_features = feat_info_updated.query('type in [\\'mixed\\']') \\\n",
    "                 .loc[:,'attribute'].values.tolist()\n",
    "\n",
    "print('List of mixed features:')\n",
    "for feature in mixed_features:\n",
    "    print(feature)\n",
    "    #print(azdias[feature].value_counts().sort_index())"
   ]
  },
  {
   "cell_type": "code",
   "execution_count": 27,
   "metadata": {},
   "outputs": [],
   "source": [
    "# Making a copy before changes\n",
    "azdias_pre5 = azdias_pre4.copy()"
   ]
  },
  {
   "cell_type": "markdown",
   "metadata": {},
   "source": [
    "> **Notes:** Two mixed features LP_LEBENSPHASE_FEIN and LP_LEBENSPHASE_GROB provide information about age, income and household type. However, some labels miss one or several indicators so I shouldn't split this data. And looks like similar information can be found in other features (including mixed PRAEGENDE_JUGENDJAHRE). So it's best to remove them."
   ]
  },
  {
   "cell_type": "code",
   "execution_count": 28,
   "metadata": {},
   "outputs": [],
   "source": [
    "# Removing incomplete/overlapping mixed features LP_LEBENSPHASE_FEIN/GROB\n",
    "azdias_pre5.drop(['LP_LEBENSPHASE_FEIN', 'LP_LEBENSPHASE_GROB'], axis=1, inplace=True)"
   ]
  },
  {
   "cell_type": "markdown",
   "metadata": {},
   "source": [
    "> **Notes:** Mixed feature WOHNLAGE provides mostly information about the neighborhood quality, but it also has a rural flag on two labels. The rural flag doesn't indicate whether the neighborhood is good or bad, and cannot be treated as insignificant (23% of all values) to be treated as missing values. I will remove WOHNLAGE since BALLRAUM, EWDICHTE and INNENSTADT provide similar information rurality of the neighborhood. Unfortunately, there isn't as good information about the neighborhood quality, but we have some information at the household level."
   ]
  },
  {
   "cell_type": "code",
   "execution_count": 29,
   "metadata": {
    "scrolled": false
   },
   "outputs": [
    {
     "name": "stdout",
     "output_type": "stream",
     "text": [
      "Values in WOHNLAGE feature:\n",
      "0.0      6948\n",
      "1.0     43918\n",
      "2.0    100376\n",
      "3.0    249719\n",
      "4.0    135973\n",
      "5.0     74346\n",
      "7.0    169318\n",
      "8.0     17473\n",
      "NaN       205\n",
      "\n",
      "Flagged as rural label: 23.40%\n"
     ]
    }
   ],
   "source": [
    "print('Values in WOHNLAGE feature:')\n",
    "print(azdias_pre5['WOHNLAGE'].value_counts(dropna=False).sort_index().to_string())\n",
    "\n",
    "rural_percentage = 100 * ((azdias_pre5['WOHNLAGE'])>=7).sum() / azdias_pre5.shape[0]\n",
    "print(f'\\nFlagged as rural label: {rural_percentage:.2f}%')\n",
    "\n",
    "# Removing WOHNLAGE feature\n",
    "azdias_pre5.drop(['WOHNLAGE'], axis=1, inplace=True)"
   ]
  },
  {
   "cell_type": "markdown",
   "metadata": {},
   "source": [
    "> **Notes:** Mixed feature PLZ8_BAUMAX provides information about the most common building type (family/business). Each label about family home sizes is covered in its separate feature PLZ8_ANTG1-4. However, one label, roughly 13% of values, is different from others (5, mainly business buildings). That is why I will convert the feature to binary (mainly family homes or not)."
   ]
  },
  {
   "cell_type": "code",
   "execution_count": 30,
   "metadata": {},
   "outputs": [
    {
     "name": "stdout",
     "output_type": "stream",
     "text": [
      "Values in original PLZ8_BAUMAX feature:\n",
      "1.0    499550\n",
      "2.0     70407\n",
      "3.0     50732\n",
      "4.0     56684\n",
      "5.0     97333\n",
      "NaN     23570\n",
      "\n",
      "Values flagged as mainly business buildings: 12.19%\n",
      "\n",
      "Values in new PLZ8_BAUMAX_MAINLY_FAMILYHOMES feature:\n",
      "0.0     97333\n",
      "1.0    677373\n",
      "NaN     23570\n"
     ]
    }
   ],
   "source": [
    "# Print original feature and calculate percentage of rural values\n",
    "print('Values in original PLZ8_BAUMAX feature:')\n",
    "print(azdias_pre5['PLZ8_BAUMAX'].value_counts(dropna=False).sort_index().to_string())\n",
    "\n",
    "rural_percentage = 100 * ((azdias_pre5['PLZ8_BAUMAX']) == 5).sum() / azdias_pre5.shape[0]\n",
    "print(f'\\nValues flagged as mainly business buildings: {rural_percentage:.2f}%')\n",
    "\n",
    "# Rename and remap values to indicate if mainly family homes or not\n",
    "azdias_pre5.rename(columns={'PLZ8_BAUMAX': 'PLZ8_BAUMAX_MAINLY_FAMILYHOMES'}, inplace=True)\n",
    "input_list = [1, 2, 3, 4, 5]\n",
    "output_list = [1, 1, 1, 1, 0]\n",
    "azdias_pre5['PLZ8_BAUMAX_MAINLY_FAMILYHOMES'].replace(input_list, output_list, inplace=True)\n",
    "\n",
    "# Print new feature\n",
    "print('\\nValues in new PLZ8_BAUMAX_MAINLY_FAMILYHOMES feature:')\n",
    "print(azdias_pre5['PLZ8_BAUMAX_MAINLY_FAMILYHOMES'].value_counts(dropna=False).sort_index().to_string())"
   ]
  },
  {
   "cell_type": "code",
   "execution_count": 31,
   "metadata": {},
   "outputs": [],
   "source": [
    "# Investigate \"PRAEGENDE_JUGENDJAHRE\" and engineer two new variables."
   ]
  },
  {
   "cell_type": "markdown",
   "metadata": {},
   "source": [
    "> **Notes** Splitting the mixed feature PRAEGENDE_JUGENDJAHRE into two ordinal features \"decade\" and \"movement\" based on the information in Data_Dictionary.md. West (W) and East (E) Germany division isn't taken into account since data looks incomplete in that sense (some entries have only joint data E+W)."
   ]
  },
  {
   "cell_type": "code",
   "execution_count": 32,
   "metadata": {
    "scrolled": false
   },
   "outputs": [
    {
     "name": "stdout",
     "output_type": "stream",
     "text": [
      "Values in original PRAEGENDE_JUGENDJAHRE feature:\n",
      "1.0      20679\n",
      "2.0       7479\n",
      "3.0      53852\n",
      "4.0      20451\n",
      "5.0      84699\n",
      "6.0      25652\n",
      "7.0       4010\n",
      "8.0     141640\n",
      "9.0      33570\n",
      "10.0     85808\n",
      "11.0     35752\n",
      "12.0     24446\n",
      "13.0      5764\n",
      "14.0    183165\n",
      "15.0     42547\n",
      "NaN      28762\n",
      "\n",
      "Values in new PRAEGENDE_JUGENDJAHRE_DECADE feature:\n",
      "1.0     28158\n",
      "2.0     74303\n",
      "3.0    114361\n",
      "4.0    175210\n",
      "5.0    151770\n",
      "6.0    225712\n",
      "NaN     28762\n",
      "\n",
      "Values in new PRAEGENDE_JUGENDJAHRE_MOVEMENT feature:\n",
      "0.0    594289\n",
      "1.0    175225\n",
      "NaN     28762\n"
     ]
    }
   ],
   "source": [
    "# Print original PRAEGENDE_JUGENDJAHRE feature\n",
    "print('Values in original PRAEGENDE_JUGENDJAHRE feature:')\n",
    "print(azdias_pre5['PRAEGENDE_JUGENDJAHRE'].value_counts(dropna=False).sort_index().to_string())\n",
    "\n",
    "# Add a decade feature (40s=1, 50s=2, 60s=3, 70s=4, 80s=5, 90s=6)\n",
    "azdias_pre5['PRAEGENDE_JUGENDJAHRE_DECADE'] = azdias_pre5['PRAEGENDE_JUGENDJAHRE']\n",
    "input_list = [1,2,3,4,5,6,7,8,9,10,11,12,13,14,15]\n",
    "output_list = [1,1,2,2,3,3,3,4,4, 5,5,5,5,6,6]\n",
    "azdias_pre5['PRAEGENDE_JUGENDJAHRE_DECADE'].replace(input_list, output_list, inplace=True)\n",
    "\n",
    "print('\\nValues in new PRAEGENDE_JUGENDJAHRE_DECADE feature:')\n",
    "print(azdias_pre5['PRAEGENDE_JUGENDJAHRE_DECADE'].value_counts(dropna=False).sort_index().to_string())\n",
    "\n",
    "# Add a movement feature (mainstream = 0, avantgarde = 1)\n",
    "azdias_pre5['PRAEGENDE_JUGENDJAHRE_MOVEMENT'] = azdias_pre5['PRAEGENDE_JUGENDJAHRE']\n",
    "input_list = [1,2,3,4,5,6,7,8,9,10,11,12,13,14,15]\n",
    "output_list = [0,1,0,1,0,1,1,0,1,0,1,0,1,0,1]\n",
    "azdias_pre5['PRAEGENDE_JUGENDJAHRE_MOVEMENT'].replace(input_list, output_list, inplace=True)\n",
    "\n",
    "print('\\nValues in new PRAEGENDE_JUGENDJAHRE_MOVEMENT feature:')\n",
    "print(azdias_pre5['PRAEGENDE_JUGENDJAHRE_MOVEMENT'].value_counts(dropna=False).sort_index().to_string())\n",
    "\n",
    "# Delete original feature\n",
    "azdias_pre5.drop(['PRAEGENDE_JUGENDJAHRE'], axis=1, inplace=True)"
   ]
  },
  {
   "cell_type": "code",
   "execution_count": 33,
   "metadata": {},
   "outputs": [],
   "source": [
    "# Investigate \"CAMEO_INTL_2015\" and engineer two new variables."
   ]
  },
  {
   "cell_type": "markdown",
   "metadata": {},
   "source": [
    "> **Notes:** Splitting the mixed feature CAMEO_INTL_201 into two ordinal features \"wealth\" and \"life stage\" based on the information in Data_Dictionary.md. The division can be made using the digit position."
   ]
  },
  {
   "cell_type": "code",
   "execution_count": 34,
   "metadata": {
    "scrolled": false
   },
   "outputs": [
    {
     "name": "stdout",
     "output_type": "stream",
     "text": [
      "Values in original CAMEO_INTL_2015 feature:\n",
      "12      13249\n",
      "13      26336\n",
      "14      62884\n",
      "15      16974\n",
      "22      33155\n",
      "23      26750\n",
      "24      91158\n",
      "25      39628\n",
      "31      19024\n",
      "32      10354\n",
      "33       9935\n",
      "34      18524\n",
      "35      10356\n",
      "41      92336\n",
      "43      56672\n",
      "44      14820\n",
      "45      26132\n",
      "51     133694\n",
      "52      20542\n",
      "54      45391\n",
      "55      23955\n",
      "NaN      6407\n",
      "\n",
      "Values in new CAMEO_INTL_2015_WEALTH feature:\n",
      "1      119443\n",
      "2      190691\n",
      "3       68193\n",
      "4      189960\n",
      "5      223582\n",
      "NaN      6407\n",
      "\n",
      "Values in new CAMEO_INTL_2015_LIFESTAGE feature:\n",
      "1      245054\n",
      "2       77300\n",
      "3      119693\n",
      "4      232777\n",
      "5      117045\n",
      "NaN      6407\n"
     ]
    }
   ],
   "source": [
    "# Print original CAMEO_INTL_2015 feature\n",
    "print('Values in original CAMEO_INTL_2015 feature:')\n",
    "print(azdias_pre5['CAMEO_INTL_2015'].value_counts(dropna=False).sort_index().to_string())\n",
    "\n",
    "# Splitting based on digit position\n",
    "# - Adapted from source: https://stackoverflow.com/questions/60229544/remove-last-char-in-a-string-for-each-row-in-pandas-df\n",
    "# - skipna option removed from \"astype\" method so using \"fillna\" method with empty value as a placement value \n",
    "\n",
    "# Add wealth feature (first digit)\n",
    "azdias_pre5['CAMEO_INTL_2015_WEALTH'] = azdias_pre5['CAMEO_INTL_2015']\n",
    "azdias_pre5['CAMEO_INTL_2015_WEALTH'] = azdias_pre5['CAMEO_INTL_2015_WEALTH'] \\\n",
    "                                        .fillna('').astype(str).str[:-1]\n",
    "azdias_pre5.loc[azdias_pre5['CAMEO_INTL_2015_WEALTH'] == '', 'CAMEO_INTL_2015_WEALTH'] = None\n",
    "\n",
    "print('\\nValues in new CAMEO_INTL_2015_WEALTH feature:')\n",
    "print(azdias_pre5['CAMEO_INTL_2015_WEALTH'].value_counts(dropna=False).sort_index().to_string())\n",
    "\n",
    "# Add lifestage feature (last digit)\n",
    "azdias_pre5['CAMEO_INTL_2015_LIFESTAGE'] = azdias_pre5['CAMEO_INTL_2015']\n",
    "azdias_pre5['CAMEO_INTL_2015_LIFESTAGE'] = azdias_pre5['CAMEO_INTL_2015_LIFESTAGE'] \\\n",
    "                                           .fillna('').astype(str).str[1:]\n",
    "azdias_pre5.loc[azdias_pre5['CAMEO_INTL_2015_LIFESTAGE'] == '', 'CAMEO_INTL_2015_LIFESTAGE'] = None\n",
    "\n",
    "print('\\nValues in new CAMEO_INTL_2015_LIFESTAGE feature:')\n",
    "print(azdias_pre5['CAMEO_INTL_2015_LIFESTAGE'].value_counts(dropna=False).sort_index().to_string())\n",
    "\n",
    "# Delete original feature\n",
    "azdias_pre5.drop(['CAMEO_INTL_2015'], axis=1, inplace=True)"
   ]
  },
  {
   "cell_type": "markdown",
   "metadata": {},
   "source": [
    "#### Discussion 1.2.2: Engineer Mixed-Type Features\n",
    "\n",
    "**LP_LEBENSPHASE_FEIN/GROB**\n",
    "\n",
    "The features LP_LEBENSPHASE_FEIN and LP_LEBENSPHASE_GROB provided mixed information about age, income and household type. I decided to remove both features since some labels miss one or several indicators of the three measures.\n",
    "\n",
    "**WOHNLAGE**\n",
    "\n",
    "The feature provided mostly information about the neighborhood quality, but it has also a rural flag on two labels. The rural flag doesn't indicate whether the neighborhood is good or bad, and cannot be treated as insignificant (23% of all values) to be disregarded as missing values. I decided to remove the feature even though there wasn't a similar feature measuring the neighborhood quality.\n",
    "\n",
    "**PLZ8_BAUMAX**\n",
    "\n",
    "The feature provided information about the most common building type (_family/business_). Each label about family home sizes is covered in its separate feature PLZ8_ANTG1-4. However, one label, roughly 13% of values, is different from others (_mainly business buildings_). I converted the feature to a binary type PLZ8_BAUMAX_MAINLY_FAMILYHOMES (0, 1).\n",
    "\n",
    "**PRAEGENDE_JUGENDJAHRE**\n",
    "\n",
    "The feature provided information about dominating movement of a person's youth. I splitted the mixed data into two ordinal features PRAEGENDE_JUGENDJAHRE_DECADE (decade) and PRAEGENDE_JUGENDJAHRE_MOVEMENT (movement). I also combined separate West (W) and East (E) Germany labels since some labels had only joint data E+W.\n",
    "\n",
    "**CAMEO_INTL_2015**\n",
    "\n",
    "The feature provided information about wealth and life stages. I split the mixed data into two ordinal features CAMEO_INTL_2015_WEALTH (wealth) and CAMEO_INTL_2015_LIFESTAGE (life stage)."
   ]
  },
  {
   "cell_type": "markdown",
   "metadata": {},
   "source": [
    "#### Step 1.2.3: Complete Feature Selection\n",
    "\n",
    "In order to finish this step up, you need to make sure that your data frame now only has the columns that you want to keep. To summarize, the dataframe should consist of the following:\n",
    "- All numeric, interval, and ordinal type columns from the original dataset.\n",
    "- Binary categorical features (all numerically-encoded).\n",
    "- Engineered features from other multi-level categorical features and mixed features.\n",
    "\n",
    "Make sure that for any new columns that you have engineered, that you've excluded the original columns from the final dataset. Otherwise, their values will interfere with the analysis later on the project. For example, you should not keep \"PRAEGENDE_JUGENDJAHRE\", since its values won't be useful for the algorithm: only the values derived from it in the engineered features you created should be retained. As a reminder, your data should only be from **the subset with few or no missing values**."
   ]
  },
  {
   "cell_type": "code",
   "execution_count": 35,
   "metadata": {},
   "outputs": [],
   "source": [
    "# If there are other re-engineering tasks you need to perform, make sure you\n",
    "# take care of them here. (Dealing with missing data will come in step 2.1.)"
   ]
  },
  {
   "cell_type": "code",
   "execution_count": 36,
   "metadata": {
    "scrolled": false
   },
   "outputs": [
    {
     "name": "stdout",
     "output_type": "stream",
     "text": [
      "Number of features: 172\n",
      "Number of rows: 798,276\n"
     ]
    },
    {
     "data": {
      "text/plain": [
       "Text(0.5, 1.0, 'Missing values in cleaned data')"
      ]
     },
     "execution_count": 36,
     "metadata": {},
     "output_type": "execute_result"
    },
    {
     "data": {
      "image/png": "[encoded data removed]",
      "text/plain": [
       "<Figure size 432x288 with 1 Axes>"
      ]
     },
     "metadata": {
      "needs_background": "light"
     },
     "output_type": "display_data"
    }
   ],
   "source": [
    "# Do whatever you need to in order to ensure that the dataframe only contains\n",
    "# the columns that should be passed to the algorithm functions.\n",
    "\n",
    "# Making a copy for cleaned data\n",
    "azdias_cleaned = azdias_pre5.copy()\n",
    "\n",
    "# Checking data size\n",
    "print(f'Number of features: {azdias_cleaned.shape[1]}')\n",
    "print(f'Number of rows: {azdias_cleaned.shape[0]:,}')\n",
    "\n",
    "# Replotting missing values (heatmap) for first 500 rows\n",
    "sns.heatmap(azdias_cleaned.iloc[0:500,:].isnull(), cbar=False).set_title(\"Missing values in cleaned data\")"
   ]
  },
  {
   "cell_type": "code",
   "execution_count": 37,
   "metadata": {},
   "outputs": [
    {
     "name": "stdout",
     "output_type": "stream",
     "text": [
      "ALTERSKATEGORIE_GROB: 1.0, 2.0, 3.0, 4.0, nan\n",
      "ANREDE_KZ: 1.0, 2.0\n",
      "FINANZ_MINIMALIST: 1.0, 2.0, 3.0, 4.0, 5.0\n",
      "FINANZ_SPARER: 1.0, 2.0, 3.0, 4.0, 5.0\n",
      "FINANZ_VORSORGER: 1.0, 2.0, 3.0, 4.0, 5.0\n",
      "FINANZ_ANLEGER: 1.0, 2.0, 3.0, 4.0, 5.0\n",
      "FINANZ_UNAUFFAELLIGER: 1.0, 2.0, 3.0, 4.0, 5.0\n",
      "FINANZ_HAUSBAUER: 1.0, 2.0, 3.0, 4.0, 5.0\n",
      "GREEN_AVANTGARDE: 0, 1\n",
      "HEALTH_TYP: 1.0, 2.0, 3.0, nan\n",
      "RETOURTYP_BK_S: 1.0, 2.0, 3.0, 4.0, 5.0, nan\n",
      "SEMIO_SOZ: 1.0, 2.0, 3.0, 4.0, 5.0, 6.0, 7.0\n",
      "SEMIO_FAM: 1.0, 2.0, 3.0, 4.0, 5.0, 6.0, 7.0\n",
      "SEMIO_REL: 1.0, 2.0, 3.0, 4.0, 5.0, 6.0, 7.0\n",
      "SEMIO_MAT: 1.0, 2.0, 3.0, 4.0, 5.0, 6.0, 7.0\n",
      "SEMIO_VERT: 1.0, 2.0, 3.0, 4.0, 5.0, 6.0, 7.0\n",
      "SEMIO_LUST: 1.0, 2.0, 3.0, 4.0, 5.0, 6.0, 7.0\n",
      "SEMIO_ERL: 1.0, 2.0, 3.0, 4.0, 5.0, 6.0, 7.0\n",
      "SEMIO_KULT: 1.0, 2.0, 3.0, 4.0, 5.0, 6.0, 7.0\n",
      "SEMIO_RAT: 1.0, 2.0, 3.0, 4.0, 5.0, 6.0, 7.0\n",
      "SEMIO_KRIT: 1.0, 2.0, 3.0, 4.0, 5.0, 6.0, 7.0\n",
      "SEMIO_DOM: 1.0, 2.0, 3.0, 4.0, 5.0, 6.0, 7.0\n",
      "SEMIO_KAEM: 1.0, 2.0, 3.0, 4.0, 5.0, 6.0, 7.0\n",
      "SEMIO_PFLICHT: 1.0, 2.0, 3.0, 4.0, 5.0, 6.0, 7.0\n",
      "SEMIO_TRADV: 1.0, 2.0, 3.0, 4.0, 5.0, 6.0, 7.0\n",
      "SOHO_KZ: 0.0, 1.0\n",
      "VERS_TYP: 1.0, 2.0, nan\n",
      "ANZ_PERSONEN: 0.0, 1.0, 2.0, 3.0, 4.0, 5.0, 6.0, 7.0, 8.0, 9.0, 10.0, 11.0, 12.0, 13.0, 14.0, 15.0, 16.0, 17.0, 18.0, 20.0, 21.0, 22.0, 23.0, 31.0, 35.0, 37.0, 38.0, 40.0, 45.0\n",
      "ANZ_TITEL: 0.0, 1.0, 2.0, 3.0, 4.0, 6.0\n",
      "HH_EINKOMMEN_SCORE: 1.0, 2.0, 3.0, 4.0, 5.0, 6.0\n",
      "W_KEIT_KIND_HH: 1.0, 2.0, 3.0, 4.0, 5.0, 6.0, nan\n",
      "WOHNDAUER_2008: 1.0, 2.0, 3.0, 4.0, 5.0, 6.0, 7.0, 8.0, 9.0\n",
      "ANZ_HAUSHALTE_AKTIV: 1.0, 2.0, 3.0, 4.0, 5.0, 6.0, 7.0, 8.0, 9.0, 10.0, 11.0, 12.0, 13.0, 14.0, 15.0, 16.0, 17.0, 18.0, 19.0, 20.0, 21.0, 22.0, 23.0, 24.0, 25.0, 26.0, 27.0, 28.0, 29.0, 30.0, 31.0, 32.0, 33.0, 34.0, 35.0, 36.0, 37.0, 38.0, 39.0, 40.0, 41.0, 42.0, 43.0, 44.0, 45.0, 46.0, 47.0, 48.0, 49.0, 50.0, 51.0, 52.0, 53.0, 54.0, 55.0, 56.0, 57.0, 58.0, 59.0, 60.0, 61.0, 62.0, 63.0, 64.0, 65.0, 66.0, 67.0, 68.0, 69.0, 70.0, 71.0, 72.0, 73.0, 74.0, 75.0, 76.0, 77.0, 78.0, 79.0, 80.0, 81.0, 82.0, 83.0, 84.0, 85.0, 86.0, 87.0, 88.0, 89.0, 90.0, 91.0, 92.0, 93.0, 94.0, 95.0, 96.0, 97.0, 98.0, 99.0, 100.0, 101.0, 102.0, 103.0, 104.0, 105.0, 106.0, 107.0, 108.0, 109.0, 110.0, 111.0, 112.0, 113.0, 114.0, 115.0, 116.0, 117.0, 118.0, 119.0, 120.0, 121.0, 122.0, 123.0, 124.0, 125.0, 126.0, 127.0, 128.0, 129.0, 130.0, 131.0, 132.0, 133.0, 134.0, 135.0, 136.0, 137.0, 138.0, 139.0, 140.0, 141.0, 142.0, 143.0, 144.0, 145.0, 146.0, 147.0, 148.0, 149.0, 150.0, 151.0, 152.0, 153.0, 154.0, 155.0, 156.0, 157.0, 158.0, 159.0, 160.0, 161.0, 162.0, 163.0, 164.0, 165.0, 166.0, 167.0, 168.0, 169.0, 170.0, 171.0, 172.0, 174.0, 175.0, 176.0, 177.0, 178.0, 179.0, 180.0, 181.0, 183.0, 184.0, 185.0, 186.0, 187.0, 189.0, 190.0, 191.0, 193.0, 194.0, 195.0, 196.0, 197.0, 198.0, 199.0, 200.0, 201.0, 202.0, 204.0, 205.0, 206.0, 207.0, 208.0, 209.0, 210.0, 211.0, 213.0, 214.0, 215.0, 216.0, 218.0, 219.0, 220.0, 221.0, 222.0, 223.0, 224.0, 225.0, 226.0, 228.0, 229.0, 230.0, 231.0, 232.0, 236.0, 237.0, 240.0, 241.0, 242.0, 243.0, 244.0, 246.0, 247.0, 249.0, 250.0, 252.0, 253.0, 254.0, 255.0, 256.0, 258.0, 259.0, 260.0, 263.0, 265.0, 266.0, 267.0, 272.0, 274.0, 276.0, 277.0, 280.0, 283.0, 285.0, 286.0, 290.0, 293.0, 301.0, 304.0, 305.0, 307.0, 311.0, 314.0, 316.0, 317.0, 318.0, 321.0, 326.0, 328.0, 331.0, 333.0, 344.0, 346.0, 347.0, 348.0, 353.0, 366.0, 367.0, 377.0, 378.0, 379.0, 395.0, 404.0, 414.0, 430.0, 438.0, 445.0, 515.0, 523.0, 536.0, 595.0, nan\n",
      "ANZ_HH_TITEL: 0.0, 1.0, 2.0, 3.0, 4.0, 5.0, 6.0, 7.0, 8.0, 9.0, 10.0, 11.0, 12.0, 13.0, 14.0, 15.0, 16.0, 17.0, 18.0, 20.0, 23.0, nan\n",
      "KONSUMNAEHE: 1.0, 2.0, 3.0, 4.0, 5.0, 6.0, 7.0, nan\n",
      "MIN_GEBAEUDEJAHR: 1985.0, 1986.0, 1987.0, 1988.0, 1989.0, 1990.0, 1991.0, 1992.0, 1993.0, 1994.0, 1995.0, 1996.0, 1997.0, 1998.0, 1999.0, 2000.0, 2001.0, 2002.0, 2003.0, 2004.0, 2005.0, 2006.0, 2007.0, 2008.0, 2009.0, 2010.0, 2011.0, 2012.0, 2013.0, 2014.0, 2015.0, 2016.0, nan\n",
      "OST_WEST_KZ_W: 0.0, 1.0, nan\n",
      "KBA05_ANTG1: 0.0, 1.0, 2.0, 3.0, 4.0, nan\n",
      "KBA05_ANTG2: 0.0, 1.0, 2.0, 3.0, 4.0, nan\n",
      "KBA05_ANTG3: 0.0, 1.0, 2.0, 3.0, nan\n",
      "KBA05_ANTG4: 0.0, 1.0, 2.0, nan\n",
      "KBA05_GBZ: 1.0, 2.0, 3.0, 4.0, 5.0, nan\n",
      "BALLRAUM: 1.0, 2.0, 3.0, 4.0, 5.0, 6.0, 7.0, nan\n",
      "EWDICHTE: 1.0, 2.0, 3.0, 4.0, 5.0, 6.0, nan\n",
      "INNENSTADT: 1.0, 2.0, 3.0, 4.0, 5.0, 6.0, 7.0, 8.0, nan\n",
      "GEBAEUDETYP_RASTER: 1.0, 2.0, 3.0, 4.0, 5.0, nan\n",
      "KKK: 1.0, 2.0, 3.0, 4.0, nan\n",
      "MOBI_REGIO: 1.0, 2.0, 3.0, 4.0, 5.0, 6.0, nan\n",
      "ONLINE_AFFINITAET: 0.0, 1.0, 2.0, 3.0, 4.0, 5.0, nan\n",
      "REGIOTYP: 1.0, 2.0, 3.0, 4.0, 5.0, 6.0, 7.0, nan\n",
      "KBA13_ANZAHL_PKW: 0.0, 1.0, 2.0, 3.0, 4.0, 5.0, 6.0, 7.0, 8.0, 9.0, 10.0, 11.0, 12.0, 13.0, 14.0, 15.0, 16.0, 17.0, 18.0, 19.0, 20.0, 21.0, 22.0, 23.0, 24.0, 25.0, 26.0, 27.0, 28.0, 29.0, 30.0, 31.0, 32.0, 33.0, 34.0, 35.0, 36.0, 37.0, 38.0, 39.0, 40.0, 41.0, 42.0, 43.0, 44.0, 45.0, 46.0, 47.0, 48.0, 49.0, 50.0, 51.0, 52.0, 53.0, 54.0, 55.0, 56.0, 57.0, 58.0, 59.0, 60.0, 61.0, 62.0, 63.0, 64.0, 65.0, 66.0, 67.0, 68.0, 69.0, 70.0, 71.0, 72.0, 73.0, 74.0, 75.0, 76.0, 77.0, 78.0, 79.0, 80.0, 81.0, 82.0, 83.0, 84.0, 85.0, 86.0, 87.0, 88.0, 89.0, 90.0, 91.0, 92.0, 93.0, 94.0, 95.0, 96.0, 97.0, 98.0, 99.0, 100.0, 101.0, 102.0, 103.0, 104.0, 105.0, 106.0, 107.0, 108.0, 109.0, 110.0, 111.0, 112.0, 113.0, 114.0, 115.0, 116.0, 117.0, 118.0, 119.0, 120.0, 121.0, 122.0, 123.0, 124.0, 125.0, 126.0, 127.0, 128.0, 129.0, 130.0, 131.0, 132.0, 133.0, 134.0, 135.0, 136.0, 137.0, 138.0, 139.0, 140.0, 141.0, 142.0, 143.0, 144.0, 145.0, 146.0, 147.0, 148.0, 149.0, 150.0, 151.0, 152.0, 153.0, 154.0, 155.0, 156.0, 157.0, 158.0, 159.0, 160.0, 161.0, 162.0, 163.0, 164.0, 165.0, 166.0, 167.0, 168.0, 169.0, 170.0, 171.0, 172.0, 173.0, 174.0, 175.0, 176.0, 177.0, 178.0, 179.0, 180.0, 181.0, 182.0, 183.0, 184.0, 185.0, 186.0, 187.0, 188.0, 189.0, 190.0, 191.0, 192.0, 193.0, 194.0, 195.0, 196.0, 197.0, 198.0, 199.0, 200.0, 201.0, 202.0, 203.0, 204.0, 205.0, 206.0, 207.0, 208.0, 209.0, 210.0, 211.0, 212.0, 213.0, 214.0, 215.0, 216.0, 217.0, 218.0, 219.0, 220.0, 221.0, 222.0, 223.0, 224.0, 225.0, 226.0, 227.0, 228.0, 229.0, 230.0, 231.0, 232.0, 233.0, 234.0, 235.0, 236.0, 237.0, 238.0, 239.0, 240.0, 241.0, 242.0, 243.0, 244.0, 245.0, 246.0, 247.0, 248.0, 249.0, 250.0, 251.0, 252.0, 253.0, 254.0, 255.0, 256.0, 257.0, 258.0, 259.0, 260.0, 261.0, 262.0, 263.0, 264.0, 265.0, 266.0, 267.0, 268.0, 269.0, 270.0, 271.0, 272.0, 273.0, 274.0, 275.0, 276.0, 277.0, 278.0, 279.0, 280.0, 281.0, 282.0, 283.0, 284.0, 285.0, 286.0, 287.0, 288.0, 289.0, 290.0, 291.0, 292.0, 293.0, 294.0, 295.0, 296.0, 297.0, 298.0, 299.0, 300.0, 301.0, 302.0, 303.0, 304.0, 305.0, 306.0, 307.0, 308.0, 309.0, 310.0, 311.0, 312.0, 313.0, 314.0, 315.0, 316.0, 317.0, 318.0, 319.0, 320.0, 321.0, 322.0, 323.0, 324.0, 325.0, 326.0, 327.0, 328.0, 329.0, 330.0, 331.0, 332.0, 333.0, 334.0, 335.0, 336.0, 337.0, 338.0, 339.0, 340.0, 341.0, 342.0, 343.0, 344.0, 345.0, 346.0, 347.0, 348.0, 349.0, 350.0, 351.0, 352.0, 353.0, 354.0, 355.0, 356.0, 357.0, 358.0, 359.0, 360.0, 361.0, 362.0, 363.0, 364.0, 365.0, 366.0, 367.0, 368.0, 369.0, 370.0, 371.0, 372.0, 373.0, 374.0, 375.0, 376.0, 377.0, 378.0, 379.0, 380.0, 381.0, 382.0, 383.0, 384.0, 385.0, 386.0, 387.0, 388.0, 389.0, 390.0, 391.0, 392.0, 393.0, 394.0, 395.0, 396.0, 397.0, 398.0, 399.0, 400.0, 401.0, 402.0, 403.0, 404.0, 405.0, 406.0, 407.0, 408.0, 409.0, 410.0, 411.0, 412.0, 413.0, 414.0, 415.0, 416.0, 417.0, 418.0, 419.0, 420.0, 421.0, 422.0, 423.0, 424.0, 425.0, 426.0, 427.0, 428.0, 429.0, 430.0, 431.0, 432.0, 433.0, 434.0, 435.0, 436.0, 437.0, 438.0, 439.0, 440.0, 441.0, 442.0, 443.0, 444.0, 445.0, 446.0, 447.0, 448.0, 449.0, 450.0, 451.0, 452.0, 453.0, 454.0, 455.0, 456.0, 457.0, 458.0, 459.0, 460.0, 461.0, 462.0, 463.0, 464.0, 465.0, 466.0, 467.0, 468.0, 469.0, 470.0, 471.0, 472.0, 473.0, 474.0, 475.0, 476.0, 477.0, 478.0, 479.0, 480.0, 481.0, 482.0, 483.0, 484.0, 485.0, 486.0, 487.0, 488.0, 489.0, 490.0, 491.0, 492.0, 493.0, 494.0, 495.0, 496.0, 497.0, 498.0, 499.0, 500.0, 501.0, 502.0, 503.0, 504.0, 505.0, 506.0, 507.0, 508.0, 509.0, 510.0, 511.0, 512.0, 513.0, 514.0, 515.0, 516.0, 517.0, 518.0, 519.0, 520.0, 521.0, 522.0, 523.0, 524.0, 525.0, 526.0, 527.0, 528.0, 529.0, 530.0, 531.0, 532.0, 533.0, 534.0, 535.0, 536.0, 537.0, 538.0, 539.0, 540.0, 541.0, 542.0, 543.0, 544.0, 545.0, 546.0, 547.0, 548.0, 549.0, 550.0, 551.0, 552.0, 553.0, 554.0, 555.0, 556.0, 557.0, 558.0, 559.0, 560.0, 561.0, 562.0, 563.0, 564.0, 565.0, 566.0, 567.0, 568.0, 569.0, 570.0, 571.0, 572.0, 573.0, 574.0, 575.0, 576.0, 577.0, 578.0, 579.0, 580.0, 581.0, 582.0, 583.0, 584.0, 585.0, 586.0, 587.0, 588.0, 589.0, 590.0, 591.0, 592.0, 593.0, 594.0, 595.0, 596.0, 597.0, 598.0, 599.0, 600.0, 601.0, 602.0, 603.0, 604.0, 605.0, 606.0, 607.0, 608.0, 609.0, 610.0, 611.0, 612.0, 613.0, 614.0, 615.0, 616.0, 617.0, 618.0, 619.0, 620.0, 621.0, 622.0, 623.0, 624.0, 625.0, 626.0, 627.0, 628.0, 629.0, 630.0, 631.0, 632.0, 633.0, 634.0, 635.0, 636.0, 637.0, 638.0, 639.0, 640.0, 641.0, 642.0, 643.0, 644.0, 645.0, 646.0, 647.0, 648.0, 649.0, 650.0, 651.0, 652.0, 653.0, 654.0, 655.0, 656.0, 657.0, 658.0, 659.0, 660.0, 661.0, 662.0, 663.0, 664.0, 665.0, 666.0, 667.0, 668.0, 669.0, 670.0, 671.0, 672.0, 673.0, 674.0, 675.0, 676.0, 677.0, 678.0, 679.0, 680.0, 681.0, 682.0, 683.0, 684.0, 685.0, 686.0, 687.0, 688.0, 689.0, 690.0, 691.0, 692.0, 693.0, 694.0, 695.0, 696.0, 697.0, 698.0, 699.0, 700.0, 701.0, 702.0, 703.0, 704.0, 705.0, 706.0, 707.0, 708.0, 709.0, 710.0, 711.0, 712.0, 713.0, 714.0, 715.0, 716.0, 717.0, 718.0, 719.0, 720.0, 721.0, 722.0, 723.0, 724.0, 725.0, 726.0, 727.0, 728.0, 729.0, 730.0, 731.0, 732.0, 733.0, 734.0, 735.0, 736.0, 737.0, 738.0, 739.0, 740.0, 741.0, 742.0, 743.0, 744.0, 745.0, 746.0, 747.0, 748.0, 749.0, 750.0, 751.0, 752.0, 753.0, 754.0, 755.0, 756.0, 757.0, 758.0, 759.0, 760.0, 761.0, 762.0, 763.0, 764.0, 765.0, 766.0, 767.0, 768.0, 769.0, 770.0, 771.0, 772.0, 773.0, 774.0, 775.0, 776.0, 777.0, 778.0, 779.0, 780.0, 781.0, 782.0, 783.0, 784.0, 785.0, 786.0, 787.0, 788.0, 789.0, 790.0, 791.0, 792.0, 793.0, 794.0, 795.0, 796.0, 797.0, 798.0, 799.0, 800.0, 801.0, 802.0, 803.0, 804.0, 805.0, 806.0, 807.0, 808.0, 809.0, 810.0, 811.0, 812.0, 813.0, 814.0, 815.0, 816.0, 817.0, 818.0, 819.0, 820.0, 821.0, 822.0, 823.0, 824.0, 825.0, 826.0, 827.0, 828.0, 829.0, 830.0, 831.0, 832.0, 833.0, 834.0, 835.0, 836.0, 837.0, 838.0, 839.0, 840.0, 841.0, 842.0, 843.0, 844.0, 845.0, 846.0, 847.0, 848.0, 849.0, 850.0, 851.0, 852.0, 853.0, 854.0, 855.0, 856.0, 857.0, 858.0, 859.0, 860.0, 861.0, 862.0, 863.0, 864.0, 865.0, 866.0, 867.0, 868.0, 869.0, 870.0, 871.0, 872.0, 873.0, 874.0, 875.0, 876.0, 877.0, 878.0, 879.0, 880.0, 881.0, 882.0, 883.0, 884.0, 885.0, 886.0, 887.0, 888.0, 889.0, 890.0, 891.0, 892.0, 893.0, 894.0, 895.0, 896.0, 897.0, 898.0, 899.0, 900.0, 901.0, 902.0, 903.0, 904.0, 905.0, 906.0, 907.0, 908.0, 909.0, 910.0, 911.0, 912.0, 913.0, 914.0, 915.0, 916.0, 917.0, 918.0, 919.0, 920.0, 921.0, 922.0, 923.0, 924.0, 925.0, 926.0, 927.0, 928.0, 929.0, 930.0, 931.0, 932.0, 933.0, 934.0, 935.0, 936.0, 937.0, 938.0, 939.0, 940.0, 941.0, 942.0, 943.0, 944.0, 945.0, 946.0, 947.0, 948.0, 949.0, 950.0, 951.0, 952.0, 953.0, 954.0, 955.0, 956.0, 957.0, 958.0, 959.0, 960.0, 961.0, 962.0, 963.0, 964.0, 965.0, 966.0, 967.0, 968.0, 969.0, 970.0, 971.0, 972.0, 973.0, 974.0, 975.0, 976.0, 977.0, 978.0, 979.0, 980.0, 981.0, 982.0, 983.0, 984.0, 985.0, 986.0, 987.0, 988.0, 989.0, 990.0, 991.0, 992.0, 993.0, 994.0, 995.0, 996.0, 997.0, 998.0, 999.0, 1000.0, 1001.0, 1002.0, 1003.0, 1004.0, 1005.0, 1006.0, 1007.0, 1008.0, 1009.0, 1010.0, 1011.0, 1012.0, 1013.0, 1014.0, 1015.0, 1016.0, 1017.0, 1018.0, 1019.0, 1020.0, 1021.0, 1022.0, 1023.0, 1024.0, 1025.0, 1026.0, 1027.0, 1028.0, 1029.0, 1030.0, 1031.0, 1032.0, 1033.0, 1034.0, 1035.0, 1036.0, 1037.0, 1038.0, 1039.0, 1040.0, 1041.0, 1042.0, 1043.0, 1044.0, 1045.0, 1046.0, 1047.0, 1048.0, 1049.0, 1050.0, 1051.0, 1052.0, 1053.0, 1054.0, 1055.0, 1056.0, 1057.0, 1058.0, 1059.0, 1060.0, 1061.0, 1062.0, 1063.0, 1064.0, 1065.0, 1066.0, 1067.0, 1068.0, 1069.0, 1070.0, 1071.0, 1072.0, 1073.0, 1074.0, 1075.0, 1076.0, 1077.0, 1078.0, 1079.0, 1080.0, 1081.0, 1082.0, 1083.0, 1084.0, 1085.0, 1086.0, 1087.0, 1088.0, 1089.0, 1090.0, 1091.0, 1092.0, 1093.0, 1094.0, 1095.0, 1096.0, 1097.0, 1098.0, 1099.0, 1100.0, 1101.0, 1102.0, 1103.0, 1104.0, 1105.0, 1106.0, 1107.0, 1108.0, 1109.0, 1110.0, 1111.0, 1112.0, 1113.0, 1114.0, 1115.0, 1116.0, 1117.0, 1118.0, 1119.0, 1120.0, 1121.0, 1122.0, 1123.0, 1124.0, 1125.0, 1126.0, 1127.0, 1128.0, 1129.0, 1130.0, 1131.0, 1132.0, 1133.0, 1134.0, 1135.0, 1136.0, 1137.0, 1138.0, 1139.0, 1140.0, 1141.0, 1142.0, 1143.0, 1144.0, 1145.0, 1146.0, 1147.0, 1148.0, 1149.0, 1150.0, 1151.0, 1152.0, 1153.0, 1154.0, 1155.0, 1156.0, 1157.0, 1158.0, 1159.0, 1160.0, 1161.0, 1162.0, 1163.0, 1164.0, 1165.0, 1166.0, 1167.0, 1168.0, 1169.0, 1170.0, 1171.0, 1172.0, 1173.0, 1174.0, 1175.0, 1176.0, 1177.0, 1178.0, 1179.0, 1180.0, 1181.0, 1182.0, 1183.0, 1184.0, 1185.0, 1186.0, 1187.0, 1188.0, 1189.0, 1190.0, 1191.0, 1192.0, 1193.0, 1194.0, 1195.0, 1196.0, 1197.0, 1198.0, 1199.0, 1200.0, 1201.0, 1202.0, 1203.0, 1204.0, 1205.0, 1206.0, 1207.0, 1208.0, 1209.0, 1210.0, 1211.0, 1212.0, 1213.0, 1214.0, 1215.0, 1216.0, 1217.0, 1218.0, 1219.0, 1220.0, 1221.0, 1222.0, 1223.0, 1224.0, 1225.0, 1226.0, 1227.0, 1228.0, 1229.0, 1230.0, 1231.0, 1232.0, 1233.0, 1234.0, 1235.0, 1236.0, 1237.0, 1238.0, 1239.0, 1240.0, 1241.0, 1242.0, 1243.0, 1244.0, 1245.0, 1246.0, 1247.0, 1249.0, 1250.0, 1300.0, 1400.0, 1500.0, 1600.0, 1700.0, 1800.0, 1900.0, 2000.0, 2100.0, 2200.0, 2300.0, nan\n"
     ]
    },
    {
     "name": "stdout",
     "output_type": "stream",
     "text": [
      "PLZ8_ANTG1: 0.0, 1.0, 2.0, 3.0, 4.0, nan\n",
      "PLZ8_ANTG2: 0.0, 1.0, 2.0, 3.0, 4.0, nan\n",
      "PLZ8_ANTG3: 0.0, 1.0, 2.0, 3.0, nan\n",
      "PLZ8_ANTG4: 0.0, 1.0, 2.0, nan\n",
      "PLZ8_BAUMAX_MAINLY_FAMILYHOMES: 0.0, 1.0, nan\n",
      "PLZ8_HHZ: 1.0, 2.0, 3.0, 4.0, 5.0, nan\n",
      "PLZ8_GBZ: 1.0, 2.0, 3.0, 4.0, 5.0, nan\n",
      "ARBEIT: 1.0, 2.0, 3.0, 4.0, 5.0, nan\n",
      "ORTSGR_KLS9: 1.0, 2.0, 3.0, 4.0, 5.0, 6.0, 7.0, 8.0, 9.0, nan\n",
      "RELAT_AB: 1.0, 2.0, 3.0, 4.0, 5.0, nan\n",
      "CJT_GESAMTTYP_1.0: 0, 1\n",
      "CJT_GESAMTTYP_2.0: 0, 1\n",
      "CJT_GESAMTTYP_3.0: 0, 1\n",
      "CJT_GESAMTTYP_4.0: 0, 1\n",
      "CJT_GESAMTTYP_5.0: 0, 1\n",
      "CJT_GESAMTTYP_6.0: 0, 1\n",
      "FINANZTYP_1.0: 0, 1\n",
      "FINANZTYP_2.0: 0, 1\n",
      "FINANZTYP_3.0: 0, 1\n",
      "FINANZTYP_4.0: 0, 1\n",
      "FINANZTYP_5.0: 0, 1\n",
      "FINANZTYP_6.0: 0, 1\n",
      "GFK_URLAUBERTYP_1.0: 0, 1\n",
      "GFK_URLAUBERTYP_2.0: 0, 1\n",
      "GFK_URLAUBERTYP_3.0: 0, 1\n",
      "GFK_URLAUBERTYP_4.0: 0, 1\n",
      "GFK_URLAUBERTYP_5.0: 0, 1\n",
      "GFK_URLAUBERTYP_6.0: 0, 1\n",
      "GFK_URLAUBERTYP_7.0: 0, 1\n",
      "GFK_URLAUBERTYP_8.0: 0, 1\n",
      "GFK_URLAUBERTYP_9.0: 0, 1\n",
      "GFK_URLAUBERTYP_10.0: 0, 1\n",
      "GFK_URLAUBERTYP_11.0: 0, 1\n",
      "GFK_URLAUBERTYP_12.0: 0, 1\n",
      "LP_FAMILIE_GROB_1.0: 0, 1\n",
      "LP_FAMILIE_GROB_2.0: 0, 1\n",
      "LP_FAMILIE_GROB_3.0: 0, 1\n",
      "LP_FAMILIE_GROB_4.0: 0, 1\n",
      "LP_FAMILIE_GROB_5.0: 0, 1\n",
      "LP_STATUS_GROB_1.0: 0, 1\n",
      "LP_STATUS_GROB_2.0: 0, 1\n",
      "LP_STATUS_GROB_3.0: 0, 1\n",
      "LP_STATUS_GROB_4.0: 0, 1\n",
      "LP_STATUS_GROB_5.0: 0, 1\n",
      "NATIONALITAET_KZ_1.0: 0, 1\n",
      "NATIONALITAET_KZ_2.0: 0, 1\n",
      "NATIONALITAET_KZ_3.0: 0, 1\n",
      "SHOPPER_TYP_0.0: 0, 1\n",
      "SHOPPER_TYP_1.0: 0, 1\n",
      "SHOPPER_TYP_2.0: 0, 1\n",
      "SHOPPER_TYP_3.0: 0, 1\n",
      "ZABEOTYP_1.0: 0, 1\n",
      "ZABEOTYP_2.0: 0, 1\n",
      "ZABEOTYP_3.0: 0, 1\n",
      "ZABEOTYP_4.0: 0, 1\n",
      "ZABEOTYP_5.0: 0, 1\n",
      "ZABEOTYP_6.0: 0, 1\n",
      "GEBAEUDETYP_1.0: 0, 1\n",
      "GEBAEUDETYP_2.0: 0, 1\n",
      "GEBAEUDETYP_3.0: 0, 1\n",
      "GEBAEUDETYP_4.0: 0, 1\n",
      "GEBAEUDETYP_5.0: 0, 1\n",
      "GEBAEUDETYP_6.0: 0, 1\n",
      "GEBAEUDETYP_8.0: 0, 1\n",
      "CAMEO_DEUG_2015_1: 0, 1\n",
      "CAMEO_DEUG_2015_2: 0, 1\n",
      "CAMEO_DEUG_2015_3: 0, 1\n",
      "CAMEO_DEUG_2015_4: 0, 1\n",
      "CAMEO_DEUG_2015_5: 0, 1\n",
      "CAMEO_DEUG_2015_6: 0, 1\n",
      "CAMEO_DEUG_2015_7: 0, 1\n",
      "CAMEO_DEUG_2015_8: 0, 1\n",
      "CAMEO_DEUG_2015_9: 0, 1\n",
      "CAMEO_DEU_2015_1A: 0, 1\n",
      "CAMEO_DEU_2015_1B: 0, 1\n",
      "CAMEO_DEU_2015_1C: 0, 1\n",
      "CAMEO_DEU_2015_1D: 0, 1\n",
      "CAMEO_DEU_2015_1E: 0, 1\n",
      "CAMEO_DEU_2015_2A: 0, 1\n",
      "CAMEO_DEU_2015_2B: 0, 1\n",
      "CAMEO_DEU_2015_2C: 0, 1\n",
      "CAMEO_DEU_2015_2D: 0, 1\n",
      "CAMEO_DEU_2015_3A: 0, 1\n",
      "CAMEO_DEU_2015_3B: 0, 1\n",
      "CAMEO_DEU_2015_3C: 0, 1\n",
      "CAMEO_DEU_2015_3D: 0, 1\n",
      "CAMEO_DEU_2015_4A: 0, 1\n",
      "CAMEO_DEU_2015_4B: 0, 1\n",
      "CAMEO_DEU_2015_4C: 0, 1\n",
      "CAMEO_DEU_2015_4D: 0, 1\n",
      "CAMEO_DEU_2015_4E: 0, 1\n",
      "CAMEO_DEU_2015_5A: 0, 1\n",
      "CAMEO_DEU_2015_5B: 0, 1\n",
      "CAMEO_DEU_2015_5C: 0, 1\n",
      "CAMEO_DEU_2015_5D: 0, 1\n",
      "CAMEO_DEU_2015_5E: 0, 1\n",
      "CAMEO_DEU_2015_5F: 0, 1\n",
      "CAMEO_DEU_2015_6A: 0, 1\n",
      "CAMEO_DEU_2015_6B: 0, 1\n",
      "CAMEO_DEU_2015_6C: 0, 1\n",
      "CAMEO_DEU_2015_6D: 0, 1\n",
      "CAMEO_DEU_2015_6E: 0, 1\n",
      "CAMEO_DEU_2015_6F: 0, 1\n",
      "CAMEO_DEU_2015_7A: 0, 1\n",
      "CAMEO_DEU_2015_7B: 0, 1\n",
      "CAMEO_DEU_2015_7C: 0, 1\n",
      "CAMEO_DEU_2015_7D: 0, 1\n",
      "CAMEO_DEU_2015_7E: 0, 1\n",
      "CAMEO_DEU_2015_8A: 0, 1\n",
      "CAMEO_DEU_2015_8B: 0, 1\n",
      "CAMEO_DEU_2015_8C: 0, 1\n",
      "CAMEO_DEU_2015_8D: 0, 1\n",
      "CAMEO_DEU_2015_9A: 0, 1\n",
      "CAMEO_DEU_2015_9B: 0, 1\n",
      "CAMEO_DEU_2015_9C: 0, 1\n",
      "CAMEO_DEU_2015_9D: 0, 1\n",
      "CAMEO_DEU_2015_9E: 0, 1\n",
      "PRAEGENDE_JUGENDJAHRE_DECADE: 1.0, 2.0, 3.0, 4.0, 5.0, 6.0, nan\n",
      "PRAEGENDE_JUGENDJAHRE_MOVEMENT: 0.0, 1.0, nan\n",
      "CAMEO_INTL_2015_WEALTH: 1, 2, 3, 4, 5, nan\n",
      "CAMEO_INTL_2015_LIFESTAGE: 1, 2, 3, 4, 5, nan\n"
     ]
    }
   ],
   "source": [
    "# Listing all labels in features (checking content so that all labels numeric etc.)\n",
    "for feature_name in azdias_cleaned.columns:\n",
    "\n",
    "    print(f'{feature_name}: ', end=(''))\n",
    "    feature_content = azdias_cleaned[feature_name].value_counts(dropna=False).sort_index()\n",
    "    \n",
    "    for index in range(len(feature_content)):\n",
    "        if index != len(feature_content) - 1:\n",
    "            print(feature_content.index[index], end=', ')\n",
    "        else:\n",
    "            print(feature_content.index[index])"
   ]
  },
  {
   "cell_type": "markdown",
   "metadata": {},
   "source": [
    "### Step 1.3: Create a Cleaning Function\n",
    "\n",
    "Even though you've finished cleaning up the general population demographics data, it's important to look ahead to the future and realize that you'll need to perform the same cleaning steps on the customer demographics data. In this substep, complete the function below to execute the main feature selection, encoding, and re-engineering steps you performed above. Then, when it comes to looking at the customer data in Step 3, you can just run this function on that DataFrame to get the trimmed dataset in a single step."
   ]
  },
  {
   "cell_type": "code",
   "execution_count": 38,
   "metadata": {},
   "outputs": [],
   "source": [
    "def clean_data(df, feat_info, feat_nan_percent_thres, row_nan_thres, row_nan_inclusion='low'):\n",
    "    \"\"\"\n",
    "    Cleans demograpnics data by converting missing values, removing \n",
    "    missing data based on given threshold values, and does some \n",
    "    re-encoding and engineering.\n",
    "\n",
    "    Args:\n",
    "        (dframe) df - demographics data\n",
    "        (dframe) feat_info - feature names, types and missing data list\n",
    "        (float) feat_nan_percent_thres - percentage threshold value for\n",
    "        columns. Features that have more missing values than \n",
    "        \"feat_nan_percent_thres\" are removed from the data\n",
    "        (int) row_nan_thres - threshold value for rows. Rows that have \n",
    "        less or more missing values than \"row_nan_thres\" are removed \n",
    "        based on given condition\n",
    "        (str) row_nan_inclusion - \"low\" = rows with low number of \n",
    "        missing values are retained, \"high\" = rows with high number of \n",
    "        missing values retained, \"all\" = all rows retained \n",
    "    Returns:\n",
    "        (dframe) df_cleaned - cleaned dataframe\n",
    "\n",
    "    \"\"\"\n",
    "    \n",
    "    # Print shape\n",
    "    \n",
    "    print('Input demographics data:')\n",
    "    print('- Number of features: {}'.format(df.shape[1]))\n",
    "    print('- Number of rows: {:,}'.format(df.shape[0]))\n",
    "\n",
    "    print('\\nProcess:')\n",
    "    \n",
    "    # Convert missing values into NaNs\n",
    "\n",
    "    df_pre1 = convert_missing_values(df, feat_info)\n",
    "    print('- Converted missing values to empty values (NaN)')\n",
    "    \n",
    "    # Remove features\n",
    "\n",
    "    nan_feat_percent = (100 * df_pre1.isnull().sum() / df_pre1.shape[0])\n",
    "    nan_feat_outliers = nan_feat_percent[nan_feat_percent > feat_nan_percent_thres]\n",
    "\n",
    "    df_pre2 = df_pre1.drop(columns=nan_feat_outliers.index.tolist())\n",
    "    \n",
    "    print('- Removed {} features having over {:.2f}% missing values:' \\\n",
    "          .format(len(nan_feat_outliers), feat_nan_percent_thres))\n",
    "\n",
    "    # Remove rows\n",
    "\n",
    "    # - Making a copy\n",
    "    df_pre3 = df_pre2.copy()\n",
    "    \n",
    "    # - Calculate NaNs in rows\n",
    "    nan_in_rows = df_pre2.isnull().sum(axis=1)\n",
    "\n",
    "    # - Three options to remove rows with NaNs\n",
    "    if row_nan_inclusion == 'low':\n",
    "        drop_rows = nan_in_rows[nan_in_rows > nan_row_threshold]\n",
    "        df_pre3 = df_pre3.drop(index=drop_rows.index.tolist(), axis=1)\n",
    "\n",
    "        print('- Removed {:,} rows having more than {} missing values' \\\n",
    "              .format(df_pre2.shape[0] - df_pre3.shape[0], row_nan_thres))\n",
    "        \n",
    "    elif row_nan_inclusion == 'high':\n",
    "        drop_rows = nan_in_rows[nan_in_rows <= nan_row_threshold]\n",
    "        df_pre3 = df_pre3.drop(index=drop_rows.index.tolist(), axis=1)\n",
    "\n",
    "        print('- Removed {:,} rows having equal or less than {} missing values' \\\n",
    "              .format(df_pre2.shape[0] - df_pre3.shape[0], row_nan_thres))\n",
    "        \n",
    "    elif row_nan_inclusion == 'all':\n",
    "        print('- No rows removed in data')\n",
    "    \n",
    "    else:  \n",
    "        print('- NOTE: Unknown option \\'{row_nan_inclusion}\\'. No rows removed in data.')\n",
    "    \n",
    "    # Re-encode features\n",
    "    \n",
    "    # - Making a copy\n",
    "    df_pre4 = df_pre3.copy()\n",
    "    \n",
    "    # - Updating feat_info to match with cleaned dataframe\n",
    "    feat_info_updated = feat_info.query('attribute in ' + str(df_pre4.columns.tolist()))\n",
    "\n",
    "    # - Find all multi-level categories for one-hot encoding\n",
    "    one_hot_encode_features = multilevel_category_features(df_pre4, feat_info_updated)\n",
    "\n",
    "    # - Convert non-numeric binary feature:\n",
    "    df_pre4['OST_WEST_KZ'].replace(['W', 'O'],[1, 0], inplace=True)\n",
    "    df_pre4.rename(columns={'OST_WEST_KZ': 'OST_WEST_KZ_W'}, inplace=True)\n",
    "    print('- Converted non-numeric binary features to numeric')\n",
    "    \n",
    "    # - Removing LP_STATUS_FEIN and LP_FAMILIE_FEIN fine-scale features:\n",
    "    df_pre4.drop(['LP_STATUS_FEIN', 'LP_FAMILIE_FEIN'], axis=1, inplace=True)\n",
    "    one_hot_encode_features.remove('LP_STATUS_FEIN')\n",
    "    one_hot_encode_features.remove('LP_FAMILIE_FEIN')\n",
    "\n",
    "    # - Re-encoding using one-hot encoding\n",
    "    df_pre4 = pd.get_dummies(df_pre4, columns=one_hot_encode_features)\n",
    "    print('- Added one-hot encoding to multi-level category features')\n",
    "    \n",
    "    # Engineer mix-type features\n",
    "\n",
    "    # - Removing incomplete/overlapping mixed features LP_LEBENSPHASE_FEIN/GROB\n",
    "    df_pre5 = df_pre4.drop(['LP_LEBENSPHASE_FEIN', 'LP_LEBENSPHASE_GROB'], axis=1)\n",
    "        \n",
    "    # - Removing WOHNLAGE feature\n",
    "    df_pre5.drop(['WOHNLAGE'], axis=1, inplace=True)\n",
    "    \n",
    "    # - Engineer PLZ8_BAUMAX feature\n",
    "    df_pre5.rename(columns={'PLZ8_BAUMAX': 'PLZ8_BAUMAX_MAINLY_FAMILYHOMES'}, inplace=True)\n",
    "    input_list = [1, 2, 3, 4, 5]\n",
    "    output_list = [1, 1, 1, 1, 0]\n",
    "    df_pre5['PLZ8_BAUMAX_MAINLY_FAMILYHOMES'].replace(input_list, output_list, inplace=True)\n",
    "\n",
    "    # - Engineer PRAEGENDE_JUGENDJAHRE\n",
    "    #   * Add a decade feature (40s=1, 50s=2, 60s=3, 70s=4, 80s=5, 90s=6)\n",
    "    df_pre5['PRAEGENDE_JUGENDJAHRE_DECADE'] = df_pre5['PRAEGENDE_JUGENDJAHRE']\n",
    "    input_list = [1,2,3,4,5,6,7,8,9,10,11,12,13,14,15]\n",
    "    output_list = [1,1,2,2,3,3,3,4,4, 5,5,5,5,6,6]\n",
    "    df_pre5['PRAEGENDE_JUGENDJAHRE_DECADE'].replace(input_list, output_list, inplace=True)\n",
    "    #   * Add a movement feature (mainstream = 0, avantgarde = 1)\n",
    "    df_pre5['PRAEGENDE_JUGENDJAHRE_MOVEMENT'] = df_pre5['PRAEGENDE_JUGENDJAHRE']\n",
    "    input_list = [1,2,3,4,5,6,7,8,9,10,11,12,13,14,15]\n",
    "    output_list = [0,1,0,1,0,1,1,0,1,0,1,0,1,0,1]\n",
    "    df_pre5['PRAEGENDE_JUGENDJAHRE_MOVEMENT'].replace(input_list, output_list, inplace=True)\n",
    "    #   * Delete original feature\n",
    "    df_pre5.drop(['PRAEGENDE_JUGENDJAHRE'], axis=1, inplace=True)\n",
    "    \n",
    "    # - Engineer CAMEO_INTL_2015 feature\n",
    "    #   * Add wealth feature (first digit)\n",
    "    df_pre5['CAMEO_INTL_2015_WEALTH'] = df_pre5['CAMEO_INTL_2015']\n",
    "    df_pre5['CAMEO_INTL_2015_WEALTH'] = df_pre5['CAMEO_INTL_2015_WEALTH'] \\\n",
    "                                        .fillna('').astype(str).str[:-1]\n",
    "    df_pre5.loc[df_pre5['CAMEO_INTL_2015_WEALTH'] == '', 'CAMEO_INTL_2015_WEALTH'] = None\n",
    "\n",
    "    #   * Add lifestage feature (last digit)\n",
    "    df_pre5['CAMEO_INTL_2015_LIFESTAGE'] = df_pre5['CAMEO_INTL_2015']\n",
    "    df_pre5['CAMEO_INTL_2015_LIFESTAGE'] = df_pre5['CAMEO_INTL_2015_LIFESTAGE'] \\\n",
    "                                           .fillna('').astype(str).str[1:]\n",
    "    df_pre5.loc[df_pre5['CAMEO_INTL_2015_LIFESTAGE'] == '', 'CAMEO_INTL_2015_LIFESTAGE'] = None\n",
    "\n",
    "    #   * Delete original feature\n",
    "    df_cleaned = df_pre5.drop(['CAMEO_INTL_2015'], axis=1)\n",
    "    \n",
    "    print('- Removed/engineered mix-type features')\n",
    "    \n",
    "    print('\\nOutput demographics data:')\n",
    "    print('- Number of features: {}'.format(df_cleaned.shape[1]))\n",
    "    print('- Number of rows: {:,}'.format(df_cleaned.shape[0]))\n",
    "    \n",
    "    # Return the cleaned dataframe.\n",
    "    return df_cleaned"
   ]
  },
  {
   "cell_type": "code",
   "execution_count": 39,
   "metadata": {
    "scrolled": false
   },
   "outputs": [
    {
     "name": "stdout",
     "output_type": "stream",
     "text": [
      "Input demographics data:\n",
      "- Number of features: 85\n",
      "- Number of rows: 891,221\n",
      "\n",
      "Process:\n",
      "- Converted missing values to empty values (NaN)\n",
      "- Removed 6 features having over 34.00% missing values:\n",
      "- Removed 92,945 rows having more than 32 missing values\n",
      "- Converted non-numeric binary features to numeric\n",
      "- Added one-hot encoding to multi-level category features\n",
      "- Removed/engineered mix-type features\n",
      "\n",
      "Output demographics data:\n",
      "- Number of features: 172\n",
      "- Number of rows: 798,276\n",
      "\n",
      "Function output matches with cleaned general demographics data: True\n"
     ]
    }
   ],
   "source": [
    "# Verifying that content in cleaned dataframe is the same as function output\n",
    "print('\\nFunction output matches with cleaned general demographics data: {}' \\\n",
    "      .format(azdias_cleaned.equals(clean_data(azdias, feat_info, 34, 32))))"
   ]
  },
  {
   "cell_type": "markdown",
   "metadata": {},
   "source": [
    "## Step 2: Feature Transformation\n",
    "\n",
    "### Step 2.1: Apply Feature Scaling\n",
    "\n",
    "Before we apply dimensionality reduction techniques to the data, we need to perform feature scaling so that the principal component vectors are not influenced by the natural differences in scale for features. Starting from this part of the project, you'll want to keep an eye on the [API reference page for sklearn](http://scikit-learn.org/stable/modules/classes.html) to help you navigate to all of the classes and functions that you'll need. In this substep, you'll need to check the following:\n",
    "\n",
    "- sklearn requires that data not have missing values in order for its estimators to work properly. So, before applying the scaler to your data, make sure that you've cleaned the DataFrame of the remaining missing values. This can be as simple as just removing all data points with missing data, or applying an [Imputer](https://scikit-learn.org/0.16/modules/generated/sklearn.preprocessing.Imputer.html) to replace all missing values. You might also try a more complicated procedure where you temporarily remove missing values in order to compute the scaling parameters before re-introducing those missing values and applying imputation. Think about how much missing data you have and what possible effects each approach might have on your analysis, and justify your decision in the discussion section below.\n",
    "- For the actual scaling function, a [StandardScaler](http://scikit-learn.org/stable/modules/generated/sklearn.preprocessing.StandardScaler.html) instance is suggested, scaling each feature to mean 0 and standard deviation 1.\n",
    "- For these classes, you can make use of the `.fit_transform()` method to both fit a procedure to the data as well as apply the transformation to the data at the same time. Don't forget to keep the fit sklearn objects handy, since you'll be applying them to the customer demographics data towards the end of the project."
   ]
  },
  {
   "cell_type": "code",
   "execution_count": 40,
   "metadata": {},
   "outputs": [],
   "source": [
    "# If you've not yet cleaned the dataset of all NaN values, then investigate and\n",
    "# do that now."
   ]
  },
  {
   "cell_type": "code",
   "execution_count": 41,
   "metadata": {},
   "outputs": [
    {
     "name": "stdout",
     "output_type": "stream",
     "text": [
      "Missing values before imputer: 792,783\n",
      "Missing values after imputer: 0\n"
     ]
    }
   ],
   "source": [
    "# Apply feature scaling to the general population demographics data.\n",
    "\n",
    "print(f'Missing values before imputer: {azdias_cleaned.isnull().sum().sum():,}')\n",
    "imp = SimpleImputer(strategy='mean') # Replace with \"Imputer\" in old sklean version\n",
    "azdias_imp = imp.fit_transform(azdias_cleaned)\n",
    "print(f'Missing values after imputer: {np.isnan(azdias_imp).sum().sum()}')\n",
    "\n",
    "scaler = StandardScaler()\n",
    "azdias_scaled = scaler.fit_transform(azdias_imp)"
   ]
  },
  {
   "cell_type": "markdown",
   "metadata": {},
   "source": [
    "### Discussion 2.1: Apply Feature Scaling\n",
    "\n",
    "I used the simple imputer model to replace missing values with the mean of the feature. This may have some drawbacks since imputation with mean values \"moves\" data towards the average and decreases variance.\n",
    "\n",
    "For feature scaling I used StandardScaler and it would make sense for most data."
   ]
  },
  {
   "cell_type": "markdown",
   "metadata": {},
   "source": [
    "### Step 2.2: Perform Dimensionality Reduction\n",
    "\n",
    "On your scaled data, you are now ready to apply dimensionality reduction techniques.\n",
    "\n",
    "- Use sklearn's [PCA](http://scikit-learn.org/stable/modules/generated/sklearn.decomposition.PCA.html) class to apply principal component analysis on the data, thus finding the vectors of maximal variance in the data. To start, you should not set any parameters (so all components are computed) or set a number of components that is at least half the number of features (so there's enough features to see the general trend in variability).\n",
    "- Check out the ratio of variance explained by each principal component as well as the cumulative variance explained. Try plotting the cumulative or sequential values using matplotlib's [`plot()`](https://matplotlib.org/api/_as_gen/matplotlib.pyplot.plot.html) function. Based on what you find, select a value for the number of transformed features you'll retain for the clustering part of the project.\n",
    "- Once you've made a choice for the number of components to keep, make sure you re-fit a PCA instance to perform the decided-on transformation."
   ]
  },
  {
   "cell_type": "code",
   "execution_count": 42,
   "metadata": {},
   "outputs": [],
   "source": [
    "# Apply PCA to the data.\n",
    "\n",
    "pca = PCA()\n",
    "azdias_pca = pca.fit_transform(azdias_scaled)"
   ]
  },
  {
   "cell_type": "code",
   "execution_count": 43,
   "metadata": {
    "scrolled": false
   },
   "outputs": [],
   "source": [
    "# Plot explained variance ratio\n",
    "\n",
    "# - Defining a function for plotting\n",
    "def plot_explained_var_ratio(pca):\n",
    "    \"\"\"\n",
    "    Plots explained variance ratio versus PCA principal components\n",
    "    \n",
    "    Args:\n",
    "        (pca) pca - PCA object\n",
    "    \"\"\"\n",
    "    \n",
    "    pca_explained_var_ratio = pca.explained_variance_ratio_\n",
    "\n",
    "    fig, axes = plt.subplots(nrows=2, ncols=1, sharex=True, sharey=False, figsize=(5,5))\n",
    "\n",
    "    fig.suptitle('Explained Variance vs. Principal Component')\n",
    "    axes[0].plot(range(len(pca_explained_var_ratio)), 100 * pca_explained_var_ratio)\n",
    "    axes[0].set(ylabel='Variance explained [%]')\n",
    "\n",
    "    axes[1].plot(range(len(pca_explained_var_ratio)), 100 * pca_explained_var_ratio.cumsum())\n",
    "    axes[1].set(ylabel='Cum. variance explained [%]')\n",
    "    axes[1].set(xlabel='Principal component')"
   ]
  },
  {
   "cell_type": "code",
   "execution_count": 44,
   "metadata": {
    "scrolled": false
   },
   "outputs": [
    {
     "data": {
      "image/png": "[encoded data removed]",
      "text/plain": [
       "<Figure size 360x360 with 2 Axes>"
      ]
     },
     "metadata": {
      "needs_background": "light"
     },
     "output_type": "display_data"
    }
   ],
   "source": [
    "# - Running the function\n",
    "plot_explained_var_ratio(pca)"
   ]
  },
  {
   "cell_type": "markdown",
   "metadata": {},
   "source": [
    "> **Notes:** The first principal component explains around 8% of the total variance. The explained variance ratio drops quickly to 1–2% level. It means that the data doesn't have only a few components that explain the data, but it's more widely distributed. The cumulative curve is almost linear between 25 and 100 principal components and completely flat after around component 150 (at 100%)."
   ]
  },
  {
   "cell_type": "code",
   "execution_count": 45,
   "metadata": {
    "scrolled": true
   },
   "outputs": [],
   "source": [
    "# - Defining a cumulative cutoff function for principal components\n",
    "def calc_PCA_cutoff(pca, cum_threshold = 0.99):\n",
    "    \"\"\"\n",
    "    Calculates a cutoff principal component (PCA) for a given cumulative threshold value\n",
    "    for explained variance ratio.\n",
    "\n",
    "    Args:\n",
    "        (pca object) pca - PCA object\n",
    "        (float) cum_threshold - cumulative threshold value\n",
    "    Returns:\n",
    "        (list) cutoff_component - nth PCA principal component\n",
    "\n",
    "    \"\"\"\n",
    "\n",
    "    pca_explained_var_ratio = pca.explained_variance_ratio_\n",
    "    cutoff_component = None\n",
    "\n",
    "    for idx in range(len(pca_explained_var_ratio.cumsum())):\n",
    "        cumsum_rounded = round(pca_explained_var_ratio.cumsum()[idx], 3)\n",
    "\n",
    "        if cumsum_rounded >= cum_threshold:\n",
    "            print('First {} principal components explained total variance by {}%'\n",
    "                  .format(idx + 1, 100 * cum_threshold))\n",
    "            cutoff_component = idx + 1\n",
    "            break\n",
    "\n",
    "    if cumsum_rounded < cum_threshold:\n",
    "        print('ERROR: Principal components can explain only {}% of total variance.' \\\n",
    "              .format(100 * cumsum_rounded))\n",
    "\n",
    "    return cutoff_component"
   ]
  },
  {
   "cell_type": "code",
   "execution_count": 46,
   "metadata": {},
   "outputs": [
    {
     "name": "stdout",
     "output_type": "stream",
     "text": [
      "First 137 principal components explained total variance by 99.0%\n"
     ]
    }
   ],
   "source": [
    "# Find the cut-off principal component (threshold value 95-99% suggested)\n",
    "# Source: https://www.mikulskibartosz.name/pca-how-to-choose-the-number-of-components\n",
    "\n",
    "n_PCA_components = calc_PCA_cutoff(pca, 0.99)"
   ]
  },
  {
   "cell_type": "markdown",
   "metadata": {},
   "source": [
    "> **Notes:** By using PCA we can reduce the features by 20% (from 172 to 137) while having 99% explained variance to avoid data loss."
   ]
  },
  {
   "cell_type": "code",
   "execution_count": 47,
   "metadata": {
    "scrolled": true
   },
   "outputs": [],
   "source": [
    "# Re-apply PCA to the data while selecting for number of components to retain.\n",
    "\n",
    "pca = PCA(n_components=n_PCA_components) # or we could use the threshold value 0.99\n",
    "azdias_pca = pca.fit_transform(azdias_scaled)"
   ]
  },
  {
   "cell_type": "markdown",
   "metadata": {},
   "source": [
    "### Discussion 2.2: Perform Dimensionality Reduction\n",
    "\n",
    "The first principal component explains around 8% of the total variance and the explained variance ratio drops quickly to 1–2% level. The cumulative explained variance curve reaches 99% level at component 137 which was chosen as the cut-off value. By using the PCA method we could reduce the features by 20% (from 172 to 137) and still avoid data loss. We can expect that the last principal components (almost zero explained variance ratio) have less contribution to the results."
   ]
  },
  {
   "cell_type": "markdown",
   "metadata": {},
   "source": [
    "### Step 2.3: Interpret Principal Components\n",
    "\n",
    "Now that we have our transformed principal components, it's a nice idea to check out the weight of each variable on the first few components to see if they can be interpreted in some fashion.\n",
    "\n",
    "As a reminder, each principal component is a unit vector that points in the direction of highest variance (after accounting for the variance captured by earlier principal components). The further a weight is from zero, the more the principal component is in the direction of the corresponding feature. If two features have large weights of the same sign (both positive or both negative), then increases in one tend expect to be associated with increases in the other. To contrast, features with different signs can be expected to show a negative correlation: increases in one variable should result in a decrease in the other.\n",
    "\n",
    "- To investigate the features, you should map each weight to their corresponding feature name, then sort the features according to weight. The most interesting features for each principal component, then, will be those at the beginning and end of the sorted list. Use the data dictionary document to help you understand these most prominent features, their relationships, and what a positive or negative value on the principal component might indicate.\n",
    "- You should investigate and interpret feature associations from the first three principal components in this substep. To help facilitate this, you should write a function that you can call at any time to print the sorted list of feature weights, for the *i*-th principal component. This might come in handy in the next step of the project, when you interpret the tendencies of the discovered clusters."
   ]
  },
  {
   "cell_type": "code",
   "execution_count": 48,
   "metadata": {},
   "outputs": [],
   "source": [
    "# Map weights for the first principal component to corresponding feature names\n",
    "# and then print the linked values, sorted by weight.\n",
    "# HINT: Try defining a function here or in a new cell that you can reuse in the\n",
    "# other cells.\n",
    "\n",
    "# - Defining a function for PCA weight output\n",
    "def pca_weight_list(data_df, pca, component):\n",
    "    \"\"\"\n",
    "    Prints list weights for a given principal component (PCA) combined\n",
    "    with original features in demographics data\n",
    "\n",
    "    Args:\n",
    "        (dframe) data - demographics data dataframe (for feature names)\n",
    "        (pca object) pca - PCA object\n",
    "        (integer) component - principal component\n",
    "    Returns:\n",
    "        (dframe) pc_weights - weights with original features\n",
    "\n",
    "    \"\"\"\n",
    "    \n",
    "    pc_weights = pd.Series(pca.components_[component-1], index=data_df.columns) \\\n",
    "                           .sort_values(ascending=False)\n",
    "    \n",
    "    return pc_weights"
   ]
  },
  {
   "cell_type": "code",
   "execution_count": 49,
   "metadata": {},
   "outputs": [
    {
     "data": {
      "text/plain": [
       "LP_STATUS_GROB_1.0        0.195766\n",
       "CAMEO_INTL_2015_WEALTH    0.191815\n",
       "PLZ8_ANTG3                0.189964\n",
       "HH_EINKOMMEN_SCORE        0.187165\n",
       "PLZ8_ANTG4                0.185199\n",
       "                            ...   \n",
       "KBA05_GBZ                -0.186267\n",
       "PLZ8_ANTG1               -0.191490\n",
       "FINANZ_MINIMALIST        -0.195379\n",
       "KBA05_ANTG1              -0.196139\n",
       "MOBI_REGIO               -0.209958\n",
       "Length: 172, dtype: float64"
      ]
     },
     "execution_count": 49,
     "metadata": {},
     "output_type": "execute_result"
    }
   ],
   "source": [
    "# Call funcion using last DataFrame as column headers\n",
    "pca_weight_list(azdias_cleaned, pca, 1)"
   ]
  },
  {
   "cell_type": "markdown",
   "metadata": {},
   "source": [
    "> **Notes:** Top-3 positive weights: social status (low-income earners), wealth stage (ORDINAL), and 6-10 family houses in macro-cell (ORDINAL); Top-3 negative weights: movement patterns (ORDINAL), 1-2 family houses in micro-cell (ORDINAL), and low-financial interest (ORDINAL).\n",
    "\n",
    "> **Notes:** The first principal component focuses on the financial status and the neighborhood."
   ]
  },
  {
   "cell_type": "code",
   "execution_count": 50,
   "metadata": {},
   "outputs": [
    {
     "data": {
      "text/plain": [
       "ALTERSKATEGORIE_GROB            0.234998\n",
       "FINANZ_VORSORGER                0.219954\n",
       "ZABEOTYP_3.0                    0.204867\n",
       "SEMIO_ERL                       0.189179\n",
       "SEMIO_LUST                      0.166488\n",
       "                                  ...   \n",
       "SEMIO_TRADV                    -0.211124\n",
       "FINANZ_UNAUFFAELLIGER          -0.216656\n",
       "SEMIO_REL                      -0.219399\n",
       "FINANZ_SPARER                  -0.224407\n",
       "PRAEGENDE_JUGENDJAHRE_DECADE   -0.238428\n",
       "Length: 172, dtype: float64"
      ]
     },
     "execution_count": 50,
     "metadata": {},
     "output_type": "execute_result"
    }
   ],
   "source": [
    "# Map weights for the second principal component to corresponding feature names\n",
    "# and then print the linked values, sorted by weight.\n",
    "\n",
    "pca_weight_list(azdias_cleaned, pca, 2)"
   ]
  },
  {
   "cell_type": "markdown",
   "metadata": {},
   "source": [
    "> **Notes:** Top-3 positive weights: estimated age (ORDINAL), financially prepared (ORDINAL), and energy consumption (smart); Top-3 negative weights: dominating movement in person's youth (ORDINAL), financially money-saver (ORDINAL), and religious personality (ORDINAL).\n",
    "\n",
    "> **Notes:** This principal component focuses on values and habits about how they spend money and the component is also related to age."
   ]
  },
  {
   "cell_type": "code",
   "execution_count": 51,
   "metadata": {
    "scrolled": true
   },
   "outputs": [
    {
     "data": {
      "text/plain": [
       "SEMIO_VERT       0.325047\n",
       "SEMIO_FAM        0.257635\n",
       "SEMIO_SOZ        0.257510\n",
       "SEMIO_KULT       0.246939\n",
       "FINANZTYP_5.0    0.137317\n",
       "                   ...   \n",
       "SEMIO_ERL       -0.200464\n",
       "SEMIO_KRIT      -0.270533\n",
       "SEMIO_DOM       -0.294604\n",
       "SEMIO_KAEM      -0.323512\n",
       "ANREDE_KZ       -0.351054\n",
       "Length: 172, dtype: float64"
      ]
     },
     "execution_count": 51,
     "metadata": {},
     "output_type": "execute_result"
    }
   ],
   "source": [
    "# Map weights for the third principal component to corresponding feature names\n",
    "# and then print the linked values, sorted by weight.\n",
    "\n",
    "pca_weight_list(azdias_cleaned, pca, 3)"
   ]
  },
  {
   "cell_type": "markdown",
   "metadata": {},
   "source": [
    "> **Notes:** Top-3 positive weights: dreamful personality (ORDINAL), family-minded personality (ORDINAL), and socially-minded personality (ORDINAL); Top-3 negative weights: gender (BINARY), combative attitude personality (ORDINAL), and dominant-minded personality (ORDINAL).\n",
    "\n",
    "> **Notes:** This principal component focuses on gender and personal qualities (dreaming, family-minded, dominant, etc.)."
   ]
  },
  {
   "cell_type": "markdown",
   "metadata": {},
   "source": [
    "### Discussion 2.3: Interpret Principal Components\n",
    "\n",
    "The first principal components (PC) have explained variance ratios 8.3%, 6.2%, and 3.9% (explain roughly 18% of all variance in PCA). I extracted their three largest positive and negative feature weights. We can estimate what aspect of the data the PC is covering. The sign of the weight explains to which direction the weight affects, but not the actual value (which may be in \"low\" or \"high\", or in other words negative or positive). That's why I'm just making general notes on what the group of weights can mean since they are correlated with each other. I have used sources like [URL](https://www.theanalysisfactor.com/principal-component-analysis-negative-loadings/) to understand the meaning of weights.\n",
    "\n",
    "The first PC focuses on both the financial status and the neighborhood which are connected (poor vs. wealthy). The second PC focuses on values and habits about how people spend money and is also related to age (money-saver vs. spender). The third PC focuses on gender and is connected to personality aspects (dreaming, social, dominant), etc. I presume the third PC holds aspects of traditional lifestyle vs. high risk-taking."
   ]
  },
  {
   "cell_type": "markdown",
   "metadata": {},
   "source": [
    "## Step 3: Clustering\n",
    "\n",
    "### Step 3.1: Apply Clustering to General Population\n",
    "\n",
    "You've assessed and cleaned the demographics data, then scaled and transformed them. Now, it's time to see how the data clusters in the principal components space. In this substep, you will apply k-means clustering to the dataset and use the average within-cluster distances from each point to their assigned cluster's centroid to decide on a number of clusters to keep.\n",
    "\n",
    "- Use sklearn's [KMeans](http://scikit-learn.org/stable/modules/generated/sklearn.cluster.KMeans.html#sklearn.cluster.KMeans) class to perform k-means clustering on the PCA-transformed data.\n",
    "- Then, compute the average difference from each point to its assigned cluster's center. **Hint**: The KMeans object's `.score()` method might be useful here, but note that in sklearn, scores tend to be defined so that larger is better. Try applying it to a small, toy dataset, or use an internet search to help your understanding.\n",
    "- Perform the above two steps for a number of different cluster counts. You can then see how the average distance decreases with an increasing number of clusters. However, each additional cluster provides a smaller net benefit. Use this fact to select a final number of clusters in which to group the data. **Warning**: because of the large size of the dataset, it can take a long time for the algorithm to resolve. The more clusters to fit, the longer the algorithm will take. You should test for cluster counts through at least 10 clusters to get the full picture, but you shouldn't need to test for a number of clusters above about 30.\n",
    "- Once you've selected a final number of clusters to use, re-fit a KMeans instance to perform the clustering operation. Make sure that you also obtain the cluster assignments for the general demographics data, since you'll be using them in the final Step 3.3."
   ]
  },
  {
   "cell_type": "code",
   "execution_count": 52,
   "metadata": {},
   "outputs": [],
   "source": [
    "# Over a number of different cluster counts...\n",
    "# run k-means clustering on the data and...\n",
    "# compute the average within-cluster distances.\n",
    "\n",
    "# - Defining elbow curve calculation as a function\n",
    "def calculate_elbow_curve(input_data, max_clusters):\n",
    "    \"\"\"\n",
    "    Plots so-called elbow curve by calculating k-Means with increasing k\n",
    "\n",
    "    Args:\n",
    "        (numpy) input_data - input data\n",
    "        (int) max_clusters - maximum number of calculated clusters\n",
    "    \"\"\"\n",
    "\n",
    "    centers = [*range(1,max_clusters+1)]\n",
    "    average_distance = []\n",
    "\n",
    "    for k in centers:\n",
    "        # Fit a kmeans model with changing k\n",
    "        kmeans = KMeans(n_clusters=k, n_init=10)\n",
    "        model = kmeans.fit(input_data)\n",
    "    \n",
    "        # Calculate average distance from each point to assigned cluster center\n",
    "        transforms = model.transform(input_data) # provides distances to cluster centers\n",
    "        labels = model.labels_ # provides labels for each point\n",
    "        distances = np.zeros(len(labels))\n",
    "\n",
    "        for index in range(len(labels+1)):\n",
    "            distances[index] = transforms[index][labels[index]]\n",
    "        average_distance.append(distances.mean())\n",
    "\n",
    "        # Print calculation progress\n",
    "        print(f'Calculated K-Means for k={k:>2} (avg. distance {distances.mean():.2f})')\n",
    "        \n",
    "    # Plot elbow curve\n",
    "    plt.plot(centers, average_distance, linestyle='--', marker='o', color='b');\n",
    "    plt.xlabel('K');\n",
    "    plt.ylabel('Average distance to cluster centroid');\n",
    "    plt.title('Average distance vs. K');"
   ]
  },
  {
   "cell_type": "code",
   "execution_count": 53,
   "metadata": {
    "scrolled": false
   },
   "outputs": [
    {
     "name": "stdout",
     "output_type": "stream",
     "text": [
      "Calculated K-Means for k= 1 (avg. distance 12.81)\n",
      "Calculated K-Means for k= 2 (avg. distance 12.37)\n",
      "Calculated K-Means for k= 3 (avg. distance 12.15)\n",
      "Calculated K-Means for k= 4 (avg. distance 12.01)\n",
      "Calculated K-Means for k= 5 (avg. distance 11.92)\n",
      "Calculated K-Means for k= 6 (avg. distance 11.84)\n",
      "Calculated K-Means for k= 7 (avg. distance 11.76)\n",
      "Calculated K-Means for k= 8 (avg. distance 11.71)\n",
      "Calculated K-Means for k= 9 (avg. distance 11.66)\n",
      "Calculated K-Means for k=10 (avg. distance 11.62)\n",
      "Calculated K-Means for k=11 (avg. distance 11.57)\n",
      "Calculated K-Means for k=12 (avg. distance 11.54)\n",
      "Calculated K-Means for k=13 (avg. distance 11.48)\n",
      "Calculated K-Means for k=14 (avg. distance 11.46)\n",
      "Calculated K-Means for k=15 (avg. distance 11.41)\n",
      "Calculated K-Means for k=16 (avg. distance 11.37)\n",
      "Calculated K-Means for k=17 (avg. distance 11.32)\n",
      "Calculated K-Means for k=18 (avg. distance 11.29)\n",
      "Calculated K-Means for k=19 (avg. distance 11.24)\n",
      "Calculated K-Means for k=20 (avg. distance 11.21)\n",
      "Calculated K-Means for k=21 (avg. distance 11.16)\n",
      "Calculated K-Means for k=22 (avg. distance 11.12)\n",
      "Calculated K-Means for k=23 (avg. distance 11.07)\n",
      "Calculated K-Means for k=24 (avg. distance 11.03)\n",
      "Calculated K-Means for k=25 (avg. distance 10.97)\n",
      "Calculated K-Means for k=26 (avg. distance 10.92)\n",
      "Calculated K-Means for k=27 (avg. distance 10.92)\n",
      "Calculated K-Means for k=28 (avg. distance 10.88)\n",
      "Calculated K-Means for k=29 (avg. distance 10.83)\n",
      "Calculated K-Means for k=30 (avg. distance 10.78)\n"
     ]
    },
    {
     "data": {
      "image/png": "[encoded data removed]",
      "text/plain": [
       "<Figure size 432x288 with 1 Axes>"
      ]
     },
     "metadata": {
      "needs_background": "light"
     },
     "output_type": "display_data"
    }
   ],
   "source": [
    "# - Calculate elbow curve\n",
    "calculate_elbow_curve(azdias_pca, 30)"
   ]
  },
  {
   "cell_type": "markdown",
   "metadata": {},
   "source": [
    "> **Notes:** The elbow is located at 5–7 clusters. I chose 7 clusters that also seem to produce quite an even distribution for the general demographics.\n",
    "\n",
    "> **Notes:** I used the default value for n_init which means the algorithm ran 10 times with different centroid seeds and returns the best output. In the re-run, I'm using a higher value since the cluster point distributions changed between the runs."
   ]
  },
  {
   "cell_type": "code",
   "execution_count": 54,
   "metadata": {},
   "outputs": [],
   "source": [
    "# Re-fit the k-means model with the selected number of clusters and obtain\n",
    "# cluster predictions for the general population demographics data.\n",
    "\n",
    "kmeans = KMeans(n_clusters=7, n_init=50)\n",
    "azdias_kmeans = kmeans.fit(azdias_pca)\n",
    "azdias_pred = kmeans.predict(azdias_pca)"
   ]
  },
  {
   "cell_type": "markdown",
   "metadata": {},
   "source": [
    "### Discussion 3.1: Apply Clustering to General Population\n",
    "\n",
    "I chose to use seven clusters based on the elbow curve calculation. It also seemed to produce quite an even data point distribution for the general demographics. Though, we don't presume the general demographics have such evenly distributed segments.\n",
    "\n",
    "I noticed that the K-Means algorithm was sensitive to the number of different centroid seeds and the cluster point distributions looked different. That's why I increased the different centroid seeds from the default value."
   ]
  },
  {
   "cell_type": "markdown",
   "metadata": {},
   "source": [
    "### Step 3.2: Apply All Steps to the Customer Data\n",
    "\n",
    "Now that you have clusters and cluster centers for the general population, it's time to see how the customer data maps on to those clusters. Take care to not confuse this for re-fitting all of the models to the customer data. Instead, you're going to use the fits from the general population to clean, transform, and cluster the customer data. In the last step of the project, you will interpret how the general population fits apply to the customer data.\n",
    "\n",
    "- Don't forget when loading in the customers data, that it is semicolon (`;`) delimited.\n",
    "- Apply the same feature wrangling, selection, and engineering steps to the customer demographics using the `clean_data()` function you created earlier. (You can assume that the customer demographics data has similar meaning behind missing data patterns as the general demographics data.)\n",
    "- Use the sklearn objects from the general demographics data, and apply their transformations to the customers data. That is, you should not be using a `.fit()` or `.fit_transform()` method to re-fit the old objects, nor should you be creating new sklearn objects! Carry the data through the feature scaling, PCA, and clustering steps, obtaining cluster assignments for all of the data in the customer demographics data."
   ]
  },
  {
   "cell_type": "code",
   "execution_count": 55,
   "metadata": {},
   "outputs": [],
   "source": [
    "# Load in the customer demographics data.\n",
    "customers = pd.read_csv('Udacity_CUSTOMERS_Subset.csv', sep=';')"
   ]
  },
  {
   "cell_type": "code",
   "execution_count": 56,
   "metadata": {
    "scrolled": false
   },
   "outputs": [
    {
     "name": "stdout",
     "output_type": "stream",
     "text": [
      "Input demographics data:\n",
      "- Number of features: 85\n",
      "- Number of rows: 191,652\n",
      "\n",
      "Process:\n",
      "- Converted missing values to empty values (NaN)\n",
      "- Removed 6 features having over 34.00% missing values:\n",
      "- Removed 49,881 rows having more than 32 missing values\n",
      "- Converted non-numeric binary features to numeric\n",
      "- Added one-hot encoding to multi-level category features\n",
      "- Removed/engineered mix-type features\n",
      "\n",
      "Output demographics data:\n",
      "- Number of features: 171\n",
      "- Number of rows: 141,771\n"
     ]
    }
   ],
   "source": [
    "# Apply preprocessing, feature transformation, and clustering from the general\n",
    "# demographics onto the customer data, obtaining cluster predictions for the\n",
    "# customer demographics data.\n",
    "\n",
    "# Clean data by assuming (and also verified) similar missing data as in general demographics\n",
    "# - Same 34% threshold value for features and 32 missing values for rows\n",
    "customers_cleaned = clean_data(customers, feat_info, 34, 32, 'low')\n",
    "\n",
    "# Adding one missing feature to dataset\n",
    "customers_cleaned['GEBAEUDETYP_5.0']=0\n",
    "\n",
    "customers_imp = imp.transform(customers_cleaned)\n",
    "customers_scaled = scaler.transform(customers_imp)\n",
    "customers_pca = pca.transform(customers_scaled)\n",
    "customers_pred = kmeans.predict(customers_pca)"
   ]
  },
  {
   "cell_type": "markdown",
   "metadata": {},
   "source": [
    "> **Notes:** I added the GEBAEUDETYP_5.0 feature with 0 values since the customer dataset didn't have any values for the type. And there was only one occurrence in the general demographics dataset."
   ]
  },
  {
   "cell_type": "markdown",
   "metadata": {},
   "source": [
    "### Step 3.3: Compare Customer Data to Demographics Data\n",
    "\n",
    "At this point, you have clustered data based on demographics of the general population of Germany, and seen how the customer data for a mail-order sales company maps onto those demographic clusters. In this final substep, you will compare the two cluster distributions to see where the strongest customer base for the company is.\n",
    "\n",
    "Consider the proportion of persons in each cluster for the general population, and the proportions for the customers. If we think the company's customer base to be universal, then the cluster assignment proportions should be fairly similar between the two. If there are only particular segments of the population that are interested in the company's products, then we should see a mismatch from one to the other. If there is a higher proportion of persons in a cluster for the customer data compared to the general population (e.g. 5% of persons are assigned to a cluster for the general population, but 15% of the customer data is closest to that cluster's centroid) then that suggests the people in that cluster to be a target audience for the company. On the other hand, the proportion of the data in a cluster being larger in the general population than the customer data (e.g. only 2% of customers closest to a population centroid that captures 6% of the data) suggests that group of persons to be outside of the target demographics.\n",
    "\n",
    "Take a look at the following points in this step:\n",
    "\n",
    "- Compute the proportion of data points in each cluster for the general population and the customer data. Visualizations will be useful here: both for the individual dataset proportions, but also to visualize the ratios in cluster representation between groups. Seaborn's [`countplot()`](https://seaborn.pydata.org/generated/seaborn.countplot.html) or [`barplot()`](https://seaborn.pydata.org/generated/seaborn.barplot.html) function could be handy.\n",
    "  - Recall the analysis you performed in step 1.1.3 of the project, where you separated out certain data points from the dataset if they had more than a specified threshold of missing values. If you found that this group was qualitatively different from the main bulk of the data, you should treat this as an additional data cluster in this analysis. Make sure that you account for the number of data points in this subset, for both the general population and customer datasets, when making your computations!\n",
    "- Which cluster or clusters are overrepresented in the customer dataset compared to the general population? Select at least one such cluster and infer what kind of people might be represented by that cluster. Use the principal component interpretations from step 2.3 or look at additional components to help you make this inference. Alternatively, you can use the `.inverse_transform()` method of the PCA and StandardScaler objects to transform centroids back to the original data space and interpret the retrieved values directly.\n",
    "- Perform a similar investigation for the underrepresented clusters. Which cluster or clusters are underrepresented in the customer dataset compared to the general population, and what kinds of people are typified by these clusters?"
   ]
  },
  {
   "cell_type": "markdown",
   "metadata": {},
   "source": [
    "### Analyzing main data (low missing values)"
   ]
  },
  {
   "cell_type": "code",
   "execution_count": 57,
   "metadata": {},
   "outputs": [],
   "source": [
    "# Compare the proportion of data in each cluster for the customer data to the\n",
    "# proportion of data in each cluster for the general population.\n",
    "\n",
    "# - Function to count points in each cluster\n",
    "def calc_cluster_distribution(array):\n",
    "    \"\"\"\n",
    "    Calculates proportional count of points in each cluster\n",
    "\n",
    "    Args:\n",
    "        (numpy) array - output vector from k-means prediction\n",
    "    Returns:\n",
    "        (numpy) cluster_distribution - proportional count of points in each cluster\n",
    "\n",
    "    \"\"\"\n",
    "\n",
    "    # Number of clusters\n",
    "    n_clusters = array.max() + 1\n",
    "    n_count = len(array)\n",
    "\n",
    "    cluster_distribution = np.zeros(n_clusters)\n",
    "    for cluster in range(n_clusters):\n",
    "        cluster_distribution[cluster] = np.sum(array==cluster)\n",
    "\n",
    "    # Divide by total points\n",
    "    cluster_distribution = cluster_distribution / n_count\n",
    "\n",
    "    return cluster_distribution"
   ]
  },
  {
   "cell_type": "code",
   "execution_count": 58,
   "metadata": {},
   "outputs": [],
   "source": [
    "# Defining functions to analyze cluster data\n",
    "\n",
    "# - Calculate cluster center in original data\n",
    "def inverse_cluster_center(cluster_id, kmeans, pca, scaler):\n",
    "    \"\"\"\n",
    "    Calculates a reconstruction of cluster center in original demographics\n",
    "    label values\n",
    "\n",
    "    Args:\n",
    "        (int) cluster_id - cluster ID from k-Means results (in 1...n)\n",
    "        (kmeans object) kmeans - k-Means object\n",
    "        (pca object) pca - PCA object\n",
    "        (scaler object) scaler - scaler object\n",
    "    Returns:\n",
    "        (numpy vector) cluster_center_normal - reconstructed values at cluster center\n",
    "    \"\"\"\n",
    "\n",
    "    # Get the cluster center in principal components in PCA dimensions\n",
    "    cluster_center_pca = kmeans.cluster_centers_[cluster_id - 1]\n",
    "    # Get the cluster center reconstruction in scaled values\n",
    "    cluster_center_scaled = pca.inverse_transform(cluster_center_pca)\n",
    "    # Get the cluster center reconstruction in original values\n",
    "    cluster_center_normal = scaler.inverse_transform(cluster_center_scaled)\n",
    "\n",
    "    return cluster_center_normal\n",
    "\n",
    "# - Calculate reconstructed features using first principal components\n",
    "def print_reconstructed_features(cluster_id, kmeans, pca, scaler, data_df):\n",
    "    \"\"\"\n",
    "    Cleans \"df\" by converting missing values, removing missing data based on given\n",
    "    threshold values, and does some re-encoding and engineering.\n",
    "\n",
    "    Args:\n",
    "        (int) cluster_id - cluster ID from k-Means results (in 1...n)\n",
    "        (kmeans object) kmeans - k-Means object\n",
    "        (pca object) pca - PCA object\n",
    "        (scaler object) scaler - scaler object\n",
    "        (dframe) data_df - demograpics dataframe (for headers)\n",
    "    \"\"\"\n",
    "    \n",
    "    # Number of PC components shown\n",
    "    n_components = 3\n",
    "    \n",
    "    # Calculate cluster center\n",
    "    cluster_center = inverse_cluster_center(cluster_id, kmeans, pca, scaler)\n",
    "    cluster_center_df = pd.Series(cluster_center, index=data_df.columns) \\\n",
    "                        .sort_values(ascending=False)\n",
    "\n",
    "    # Making es\n",
    "    print('Filtering original features based on PC weights\\n')\n",
    "    for component in range(1, n_components+1):\n",
    "\n",
    "        print(f'Three largest weights in PCA component {component}:')\n",
    "        \n",
    "        # Absolute values should work here since looking for strongest correlation\n",
    "        weights = pca_weight_list(data_df, pca, component).abs() \\\n",
    "                  .sort_values(ascending=False)\n",
    "\n",
    "        for idx, value in weights.head(3).items():\n",
    "            print(f'- Feature {idx}', end=' ')\n",
    "            print('with inversed center label: {} ({:.2f})' \\\n",
    "                  .format(cluster_center_df.loc[idx].round(), cluster_center_df.loc[idx]))"
   ]
  },
  {
   "cell_type": "markdown",
   "metadata": {},
   "source": [
    "> **Notes:** I am using the first three PCs to select features in the original dataset. There could be better methods to calculate the features that are important or represent better each cluster. The first PCs explain better the whole data and it's easier to compare the results from different clusters. On the other hand, the differences may not be as clear."
   ]
  },
  {
   "cell_type": "code",
   "execution_count": 59,
   "metadata": {},
   "outputs": [
    {
     "data": {
      "text/plain": [
       "[Text(0.5, 0, 'Cluster ID')]"
      ]
     },
     "execution_count": 59,
     "metadata": {},
     "output_type": "execute_result"
    },
    {
     "data": {
      "image/png": "[encoded data removed]",
      "text/plain": [
       "<Figure size 720x360 with 2 Axes>"
      ]
     },
     "metadata": {
      "needs_background": "light"
     },
     "output_type": "display_data"
    }
   ],
   "source": [
    "# Subplots for proportional data points in clusters\n",
    "\n",
    "fig, axes = plt.subplots(nrows=1, ncols=2, sharex=True, sharey=True, figsize=(10,5))\n",
    "fig.suptitle('Data points in clusters')\n",
    "\n",
    "azdias_cluster_percentages = 100 * calc_cluster_distribution(azdias_pred)\n",
    "customers_cluster_percentages = 100 * calc_cluster_distribution(customers_pred)\n",
    "cluster_x_axis = [*range(1, len(azdias_cluster_percentages)+1)]\n",
    "\n",
    "axes[0].bar(cluster_x_axis, azdias_cluster_percentages)\n",
    "axes[1].bar(cluster_x_axis, customers_cluster_percentages)\n",
    "\n",
    "axes[0].set_title('General population')\n",
    "axes[1].set_title('Customer data')\n",
    "\n",
    "axes[0].set(xlabel='Cluster ID', ylabel='Data points [%]')\n",
    "axes[1].set(xlabel='Cluster ID')"
   ]
  },
  {
   "cell_type": "markdown",
   "metadata": {},
   "source": [
    "> **Notes:** The general demographics clusters have quite an even distribution of data points. However, the customer demographics have one cluster that has almost 60% of data points and three clusters that have only a few percent of data points.\n",
    "\n",
    "> **NOTES: The cluster IDs can change between runs, so the cluster_id needs to be checked after re-runs. I didn't automate it yet.**"
   ]
  },
  {
   "cell_type": "code",
   "execution_count": 60,
   "metadata": {
    "scrolled": false
   },
   "outputs": [
    {
     "name": "stdout",
     "output_type": "stream",
     "text": [
      "Filtering original features based on PC weights\n",
      "\n",
      "Three largest weights in PCA component 1:\n",
      "- Feature MOBI_REGIO with inversed center label: 4.0 (4.21)\n",
      "- Feature KBA05_ANTG1 with inversed center label: 3.0 (2.81)\n",
      "- Feature LP_STATUS_GROB_1.0 with inversed center label: 0.0 (0.00)\n",
      "Three largest weights in PCA component 2:\n",
      "- Feature PRAEGENDE_JUGENDJAHRE_DECADE with inversed center label: 4.0 (3.57)\n",
      "- Feature ALTERSKATEGORIE_GROB with inversed center label: 3.0 (3.37)\n",
      "- Feature FINANZ_SPARER with inversed center label: 2.0 (1.61)\n",
      "Three largest weights in PCA component 3:\n",
      "- Feature ANREDE_KZ with inversed center label: 1.0 (1.50)\n",
      "- Feature SEMIO_VERT with inversed center label: 5.0 (4.70)\n",
      "- Feature SEMIO_KAEM with inversed center label: 4.0 (4.22)\n"
     ]
    }
   ],
   "source": [
    "# What kinds of people are part of a cluster that is overrepresented in the\n",
    "# customer data compared to the general population?\n",
    "\n",
    "cluster_id = 3\n",
    "print_reconstructed_features(cluster_id, kmeans, pca, scaler, azdias_cleaned)"
   ]
  },
  {
   "cell_type": "markdown",
   "metadata": {},
   "source": [
    "| Feature                      | Label | Meaning |\n",
    "| ---                          | ---   | --- |\n",
    "| MOBI_REGIO                   | 4     | Movement pattern: low movement |\n",
    "| KBA05_ANTG1                  | 3     | Number of 1-2 family houses in micro-cell: high share |\n",
    "| LP_STATUS_GROB_1.0           | 0     | Social status (low-income earners): no |\n",
    "| PRAEGENDE_JUGENDJAHRE_DECADE | 4     | Dominant movement in person's youth (decade): 70s |\n",
    "| ALTERSKATEGORIE_GROB         | 3     | Age estimation: 46-60 years old |\n",
    "| FINANZ_SPARER                | 2     | Financial minimalists: high |\n",
    "| ANREDE_KZ                    | 1.5   | Gender: male (1) / female (2) |\n",
    "| SEMIO_VERT                   | 5     | Dreamful personality: low affinity |\n",
    "| SEMIO_KAEM                   | 4     | Combative attitude: average |\n",
    "\n",
    "> **Notes:** Males/females 46–60 years old who live in a neighborhood of 1-2 family homes and don't move often. They aren't low-income earners and likely financial minimalists. They don't have a dreamful personality and are average in combative attitude."
   ]
  },
  {
   "cell_type": "code",
   "execution_count": 61,
   "metadata": {
    "scrolled": false
   },
   "outputs": [
    {
     "name": "stdout",
     "output_type": "stream",
     "text": [
      "Filtering original features based on PC weights\n",
      "\n",
      "Three largest weights in PCA component 1:\n",
      "- Feature MOBI_REGIO with inversed center label: 2.0 (1.64)\n",
      "- Feature KBA05_ANTG1 with inversed center label: 0.0 (0.31)\n",
      "- Feature LP_STATUS_GROB_1.0 with inversed center label: 1.0 (0.92)\n",
      "Three largest weights in PCA component 2:\n",
      "- Feature PRAEGENDE_JUGENDJAHRE_DECADE with inversed center label: 6.0 (5.60)\n",
      "- Feature ALTERSKATEGORIE_GROB with inversed center label: 2.0 (1.86)\n",
      "- Feature FINANZ_SPARER with inversed center label: 4.0 (4.46)\n",
      "Three largest weights in PCA component 3:\n",
      "- Feature ANREDE_KZ with inversed center label: 2.0 (1.58)\n",
      "- Feature SEMIO_VERT with inversed center label: 4.0 (3.74)\n",
      "- Feature SEMIO_KAEM with inversed center label: 5.0 (4.72)\n"
     ]
    }
   ],
   "source": [
    "cluster_id = 1\n",
    "print_reconstructed_features(cluster_id, kmeans, pca, scaler, azdias_cleaned)"
   ]
  },
  {
   "cell_type": "markdown",
   "metadata": {},
   "source": [
    "| Feature                      | Label | Meaning |\n",
    "| ---                          | ---   | --- |\n",
    "| MOBI_REGIO                   | 2     | Movement pattern: high movement |\n",
    "| KBA05_ANTG1                  | 0     | Number of 1-2 family houses in micro-cell: no 1-2 family homes |\n",
    "| LP_STATUS_GROB_1.0           | 1     | Social status (low-income earners): yes |\n",
    "| PRAEGENDE_JUGENDJAHRE_DECADE | 6     | Dominant movement in person's youth (decade): 90s |\n",
    "| ALTERSKATEGORIE_GROB         | 2     | Age estimation: 30-45 years old |\n",
    "| FINANZ_SPARER                | 4     | Financial minimalists: low |\n",
    "| ANREDE_KZ                    | 1.5   | Gender: male (1) / female (2) |\n",
    "| SEMIO_VERT                   | 4     | Dreamful personality: average affinity |\n",
    "| SEMIO_KAEM                   | 5     | Combative attitude: low affinity |\n",
    "\n",
    "> **Notes:** Males/females 30–45 years old who live in a neighborhood of no 1–2 family homes and move often. They are low-income earners and not likely financial minimalists. They are average on the dreamful personality scale and have a low combative attitude."
   ]
  },
  {
   "cell_type": "code",
   "execution_count": 81,
   "metadata": {},
   "outputs": [
    {
     "name": "stdout",
     "output_type": "stream",
     "text": [
      "Filtering original features based on PC weights\n",
      "\n",
      "Three largest weights in PCA component 1:\n",
      "- Feature MOBI_REGIO with inversed center label: 4.0 (3.60)\n",
      "- Feature KBA05_ANTG1 with inversed center label: 2.0 (2.05)\n",
      "- Feature LP_STATUS_GROB_1.0 with inversed center label: 0.0 (0.28)\n",
      "Three largest weights in PCA component 2:\n",
      "- Feature PRAEGENDE_JUGENDJAHRE_DECADE with inversed center label: 6.0 (5.54)\n",
      "- Feature ALTERSKATEGORIE_GROB with inversed center label: 2.0 (1.97)\n",
      "- Feature FINANZ_SPARER with inversed center label: 4.0 (3.95)\n",
      "Three largest weights in PCA component 3:\n",
      "- Feature ANREDE_KZ with inversed center label: 2.0 (1.97)\n",
      "- Feature SEMIO_VERT with inversed center label: 3.0 (2.57)\n",
      "- Feature SEMIO_KAEM with inversed center label: 6.0 (5.55)\n"
     ]
    }
   ],
   "source": [
    "cluster_id = 4\n",
    "print_reconstructed_features(cluster_id, kmeans, pca, scaler, azdias_cleaned)"
   ]
  },
  {
   "cell_type": "markdown",
   "metadata": {},
   "source": [
    "| Feature                      | Label | Meaning |\n",
    "| ---                          | ---   | --- |\n",
    "| MOBI_REGIO                   | 4     | Movement pattern: low movement |\n",
    "| KBA05_ANTG1                  | 2     | Number of 1-2 family houses in micro-cell: average share |\n",
    "| FINANZ_MINIMALIST            | 0     | Social status (low-income earners): no |\n",
    "| PRAEGENDE_JUGENDJAHRE_DECADE | 6     | Dominant movement in person's youth (decade): 90s |\n",
    "| ALTERSKATEGORIE_GROB         | 2     | Age estimation: 30-45 years old |\n",
    "| FINANZ_SPARER                | 4     | Financial minimalists: low |\n",
    "| ANREDE_KZ                    | 2     | Gender: female |\n",
    "| SEMIO_VERT                   | 3     | Dreamful personality: high affinity |\n",
    "| SEMIO_KAEM                   | 6     | Combative attitude: very low affinity |\n",
    "\n",
    "> **Notes:** Females 30–45 years old who live in a neighborhood of an average share of 1–2 family homes and don't move often. They aren't low-income earners and are not likely financial minimalists. They have a dreamful personality but a low combative attitude."
   ]
  },
  {
   "cell_type": "code",
   "execution_count": 82,
   "metadata": {
    "scrolled": false
   },
   "outputs": [
    {
     "name": "stdout",
     "output_type": "stream",
     "text": [
      "Filtering original features based on PC weights\n",
      "\n",
      "Three largest weights in PCA component 1:\n",
      "- Feature MOBI_REGIO with inversed center label: 4.0 (3.59)\n",
      "- Feature KBA05_ANTG1 with inversed center label: 2.0 (2.06)\n",
      "- Feature LP_STATUS_GROB_1.0 with inversed center label: 0.0 (0.19)\n",
      "Three largest weights in PCA component 2:\n",
      "- Feature PRAEGENDE_JUGENDJAHRE_DECADE with inversed center label: 6.0 (5.62)\n",
      "- Feature ALTERSKATEGORIE_GROB with inversed center label: 2.0 (1.94)\n",
      "- Feature FINANZ_SPARER with inversed center label: 4.0 (3.90)\n",
      "Three largest weights in PCA component 3:\n",
      "- Feature ANREDE_KZ with inversed center label: 1.0 (1.00)\n",
      "- Feature SEMIO_VERT with inversed center label: 6.0 (6.27)\n",
      "- Feature SEMIO_KAEM with inversed center label: 2.0 (2.21)\n"
     ]
    }
   ],
   "source": [
    "# What kinds of people are part of a cluster that is underrepresented in the\n",
    "# customer data compared to the general population?\n",
    "\n",
    "cluster_id = 5\n",
    "print_reconstructed_features(cluster_id, kmeans, pca, scaler, azdias_cleaned)"
   ]
  },
  {
   "cell_type": "markdown",
   "metadata": {},
   "source": [
    "| Feature                      | Label | Meaning |\n",
    "| ---                          | ---   | --- |\n",
    "| MOBI_REGIO                   | 4     | Movement pattern: low movement |\n",
    "| KBA05_ANTG1                  | 2     | Number of 1-2 family houses in micro-cell: average share |\n",
    "| LP_STATUS_GROB_1.0           | 0     | Social status (low-income earners): no |\n",
    "| PRAEGENDE_JUGENDJAHRE_DECADE | 6     | Dominant movement in person's youth (decade): 90s |\n",
    "| ALTERSKATEGORIE_GROB         | 2     | Age estimation: 30–45 years old |\n",
    "| FINANZ_SPARER                | 4     | Financial minimalists: low |\n",
    "| ANREDE_KZ                    | 1     | Gender: male |\n",
    "| SEMIO_VERT                   | 6     | Dreamful personality: very low affinity |\n",
    "| SEMIO_KAEM                   | 2     | Combative attitude: very high affinity |\n",
    "\n",
    "> **Notes:** Males 30–45 years old who live in a neighborhood of average share of 1–2 family homes and don't move often. They aren't low-income earners and are not likely financial minimalists. They don't have a dreamful personality and have a very high combative attitude."
   ]
  },
  {
   "cell_type": "markdown",
   "metadata": {},
   "source": [
    "### Analyzing subset with high number of missing values"
   ]
  },
  {
   "cell_type": "markdown",
   "metadata": {},
   "source": [
    "> **Notes:** This subset consists of around 10% of rows in the general demographics and around 26% of the customer demographics data."
   ]
  },
  {
   "cell_type": "code",
   "execution_count": 64,
   "metadata": {
    "scrolled": true
   },
   "outputs": [
    {
     "name": "stdout",
     "output_type": "stream",
     "text": [
      "Input demographics data:\n",
      "- Number of features: 85\n",
      "- Number of rows: 891,221\n",
      "\n",
      "Process:\n",
      "- Converted missing values to empty values (NaN)\n",
      "- Removed 6 features having over 34.00% missing values:\n",
      "- Removed 798,276 rows having equal or less than 32 missing values\n",
      "- Converted non-numeric binary features to numeric\n",
      "- Added one-hot encoding to multi-level category features\n",
      "- Removed/engineered mix-type features\n",
      "\n",
      "Output demographics data:\n",
      "- Number of features: 115\n",
      "- Number of rows: 92,945\n"
     ]
    }
   ],
   "source": [
    "# Cleaning general demographics data\n",
    "azdias_cleaned2 = clean_data(azdias, feat_info, 34, 32, 'high')"
   ]
  },
  {
   "cell_type": "code",
   "execution_count": 65,
   "metadata": {
    "scrolled": true
   },
   "outputs": [
    {
     "data": {
      "text/plain": [
       "Text(0, 0.5, 'Count of features')"
      ]
     },
     "execution_count": 65,
     "metadata": {},
     "output_type": "execute_result"
    },
    {
     "data": {
      "image/png": "[encoded data removed]",
      "text/plain": [
       "<Figure size 432x288 with 1 Axes>"
      ]
     },
     "metadata": {
      "needs_background": "light"
     },
     "output_type": "display_data"
    }
   ],
   "source": [
    "# Plot histogram of missing values on features after cleaning\n",
    "nan_feat_percent2 = (100 * azdias_cleaned2.isnull().sum() / azdias_cleaned2.shape[0]).sort_values(axis=0, ascending=False)\n",
    "axes = nan_feat_percent2.hist(bins=50)\n",
    "axes.set_title(\"Missing data in features\")\n",
    "axes.set_xlabel(\"Missing values [%]\")\n",
    "axes.set_ylabel(\"Count of features\")"
   ]
  },
  {
   "cell_type": "code",
   "execution_count": 66,
   "metadata": {
    "scrolled": true
   },
   "outputs": [
    {
     "name": "stdout",
     "output_type": "stream",
     "text": [
      "Removed outlier features (values in %):\n",
      "PLZ8_ANTG4                        100.000000\n",
      "REGIOTYP                          100.000000\n",
      "KBA05_ANTG1                       100.000000\n",
      "KBA05_ANTG2                       100.000000\n",
      "KBA05_ANTG3                       100.000000\n",
      "KBA05_ANTG4                       100.000000\n",
      "KBA05_GBZ                         100.000000\n",
      "KKK                               100.000000\n",
      "MOBI_REGIO                        100.000000\n",
      "KBA13_ANZAHL_PKW                  100.000000\n",
      "CAMEO_DEUG_2015                   100.000000\n",
      "PLZ8_ANTG1                        100.000000\n",
      "PLZ8_ANTG2                        100.000000\n",
      "PLZ8_ANTG3                        100.000000\n",
      "PLZ8_BAUMAX_MAINLY_FAMILYHOMES    100.000000\n",
      "PLZ8_HHZ                          100.000000\n",
      "PLZ8_GBZ                          100.000000\n",
      "CAMEO_INTL_2015_WEALTH            100.000000\n",
      "CAMEO_DEU_2015                    100.000000\n",
      "CAMEO_INTL_2015_LIFESTAGE         100.000000\n",
      "ORTSGR_KLS9                        99.997848\n",
      "BALLRAUM                           99.997848\n",
      "INNENSTADT                         99.997848\n",
      "GEBAEUDETYP_RASTER                 99.997848\n",
      "ARBEIT                             99.997848\n",
      "OST_WEST_KZ_W                      99.997848\n",
      "MIN_GEBAEUDEJAHR                   99.997848\n",
      "GEBAEUDETYP                        99.997848\n",
      "ANZ_HH_TITEL                       99.997848\n",
      "ANZ_HAUSHALTE_AKTIV                99.997848\n",
      "RELAT_AB                           99.997848\n",
      "EWDICHTE                           99.997848\n",
      "W_KEIT_KIND_HH                     95.411265\n",
      "PRAEGENDE_JUGENDJAHRE_DECADE       85.429017\n",
      "PRAEGENDE_JUGENDJAHRE_MOVEMENT     85.429017\n",
      "VERS_TYP                           80.118350\n",
      "HEALTH_TYP                         80.118350\n",
      "KONSUMNAEHE                        79.506160\n",
      "WOHNDAUER_2008                     79.077949\n",
      "ANZ_TITEL                          79.077949\n",
      "ANZ_PERSONEN                       79.077949\n",
      "SOHO_KZ                            79.077949\n"
     ]
    }
   ],
   "source": [
    "nan_feat_percent_threshold2 = 75\n",
    "nan_feat_outliers2 = nan_feat_percent2[nan_feat_percent2 > nan_feat_percent_threshold2]\n",
    "azdias_cleaned2.drop(columns=nan_feat_outliers2.index.tolist(), inplace=True)\n",
    "\n",
    "print('Removed outlier features (values in %):')\n",
    "print(nan_feat_outliers2.to_string())"
   ]
  },
  {
   "cell_type": "markdown",
   "metadata": {},
   "source": [
    "> **Notes:** Making a note that after cleaning the subset, there were fewer features than the main data. Also, there were around 30 features that had over 75% missing values (and half of them missing all values). Those features were removed before the imputation."
   ]
  },
  {
   "cell_type": "code",
   "execution_count": 67,
   "metadata": {},
   "outputs": [
    {
     "name": "stdout",
     "output_type": "stream",
     "text": [
      "Missing values before imputer: 18,630\n",
      "Missing values after imputer: 0\n"
     ]
    }
   ],
   "source": [
    "# Run imputer, standard scaler and PCA\n",
    "\n",
    "print(f'Missing values before imputer: {azdias_cleaned2.isnull().sum().sum():,}')\n",
    "imp2 = SimpleImputer(strategy='mean') # Replace with \"Imputer\" in old sklean version\n",
    "azdias_imp2 = imp2.fit_transform(azdias_cleaned2)\n",
    "print(f'Missing values after imputer: {np.isnan(azdias_imp2).sum().sum()}')\n",
    "\n",
    "scaler2 = StandardScaler()\n",
    "azdias_scaled2 = scaler2.fit_transform(azdias_imp2)\n",
    "\n",
    "pca2 = PCA()\n",
    "azdias_pca2 = pca2.fit_transform(azdias_scaled2)"
   ]
  },
  {
   "cell_type": "code",
   "execution_count": 68,
   "metadata": {
    "scrolled": false
   },
   "outputs": [
    {
     "data": {
      "image/png": "[encoded data removed]",
      "text/plain": [
       "<Figure size 360x360 with 2 Axes>"
      ]
     },
     "metadata": {
      "needs_background": "light"
     },
     "output_type": "display_data"
    }
   ],
   "source": [
    "# Plot explained variance ratio\n",
    "plot_explained_var_ratio(pca2)"
   ]
  },
  {
   "cell_type": "code",
   "execution_count": 70,
   "metadata": {
    "scrolled": true
   },
   "outputs": [
    {
     "name": "stdout",
     "output_type": "stream",
     "text": [
      "First 50 principal components explained total variance by 99.0%\n"
     ]
    }
   ],
   "source": [
    "# Calculate cut-off component (using same 99% value as for main dataset)\n",
    "n_PCA_components2 = calc_PCA_cutoff(pca2, 0.99)"
   ]
  },
  {
   "cell_type": "markdown",
   "metadata": {},
   "source": [
    "> **Notes:** By using PCA we can reduce the features by 32% (from 73 to 50) while having 99% explained variance to avoid data loss."
   ]
  },
  {
   "cell_type": "code",
   "execution_count": 71,
   "metadata": {},
   "outputs": [],
   "source": [
    "# Re-run PCA and transform data\n",
    "pca2 = PCA(n_components=n_PCA_components2) # or we could use the threshold value 0.99\n",
    "azdias_pca2 = pca2.fit_transform(azdias_scaled2)"
   ]
  },
  {
   "cell_type": "markdown",
   "metadata": {},
   "source": [
    "#### Checking the weights of the first three principal components (PCA)"
   ]
  },
  {
   "cell_type": "code",
   "execution_count": 72,
   "metadata": {
    "scrolled": true
   },
   "outputs": [
    {
     "data": {
      "text/plain": [
       "SEMIO_VERT               0.246821\n",
       "NATIONALITAET_KZ_1.0     0.231735\n",
       "FINANZ_MINIMALIST        0.210021\n",
       "SHOPPER_TYP_1.0          0.170489\n",
       "FINANZTYP_3.0            0.160107\n",
       "                           ...   \n",
       "FINANZ_ANLEGER          -0.215555\n",
       "FINANZ_UNAUFFAELLIGER   -0.216604\n",
       "SEMIO_PFLICHT           -0.218700\n",
       "SEMIO_REL               -0.220987\n",
       "FINANZTYP_4.0           -0.247040\n",
       "Length: 73, dtype: float64"
      ]
     },
     "execution_count": 72,
     "metadata": {},
     "output_type": "execute_result"
    }
   ],
   "source": [
    "pca_weight_list(azdias_cleaned2, pca2, 1)"
   ]
  },
  {
   "cell_type": "markdown",
   "metadata": {},
   "source": [
    "> **Notes**: Top-3 positive weights: dreamful personality (ORDINAL), nationality based on given name (German-sounding), and financial minimalists (ORDINAL); Top-3 negative weights: financial type (prepared), religious personality (ORDINAL), and dutiful personality (ORDINAL)."
   ]
  },
  {
   "cell_type": "code",
   "execution_count": 73,
   "metadata": {
    "scrolled": true
   },
   "outputs": [
    {
     "data": {
      "text/plain": [
       "SEMIO_KULT          0.304108\n",
       "SEMIO_TRADV         0.275285\n",
       "SEMIO_FAM           0.237271\n",
       "SEMIO_MAT           0.219996\n",
       "FINANZ_SPARER       0.202414\n",
       "                      ...   \n",
       "SEMIO_KRIT         -0.180951\n",
       "FINANZTYP_2.0      -0.201582\n",
       "ZABEOTYP_3.0       -0.206850\n",
       "FINANZ_VORSORGER   -0.242136\n",
       "SEMIO_ERL          -0.243049\n",
       "Length: 73, dtype: float64"
      ]
     },
     "execution_count": 73,
     "metadata": {},
     "output_type": "execute_result"
    }
   ],
   "source": [
    "pca_weight_list(azdias_cleaned2, pca2, 2)"
   ]
  },
  {
   "cell_type": "markdown",
   "metadata": {},
   "source": [
    "> **Notes:** Top-3 positive weights: cultural-minded personality (ORDINAL), traditional-minded personality (ORDINAL), and family-minded personality (ORDINAL); Top-3 negative weights: event-oriented personality (ORDINAL), financially prepared (ORDINAL), and energy consumption (fair supplied)."
   ]
  },
  {
   "cell_type": "code",
   "execution_count": 74,
   "metadata": {
    "scrolled": false
   },
   "outputs": [
    {
     "data": {
      "text/plain": [
       "SEMIO_KAEM           0.285489\n",
       "SEMIO_RAT            0.281966\n",
       "SEMIO_ERL            0.224329\n",
       "SEMIO_KRIT           0.207495\n",
       "SEMIO_DOM            0.204960\n",
       "                       ...   \n",
       "SEMIO_LUST          -0.161505\n",
       "FINANZ_MINIMALIST   -0.163621\n",
       "SEMIO_KULT          -0.218305\n",
       "SEMIO_MAT           -0.220770\n",
       "SEMIO_FAM           -0.238469\n",
       "Length: 73, dtype: float64"
      ]
     },
     "execution_count": 74,
     "metadata": {},
     "output_type": "execute_result"
    }
   ],
   "source": [
    "pca_weight_list(azdias_cleaned2, pca2, 3)"
   ]
  },
  {
   "cell_type": "markdown",
   "metadata": {},
   "source": [
    "> **Notes:** Top-3 positive weights: combative personality (ORDINAL), rational personality (ORDINAL), and event-oriented personality (ORDINAL); Top-3 negative weights: family-oriented personality (ORDINAL), materialistic personality (ORDINAL), and culture-minded personality."
   ]
  },
  {
   "cell_type": "markdown",
   "metadata": {},
   "source": [
    "> **Notes:** The subset doesn't have as clear explanations for PCA component weights. The first component has financial aspects, personal value qualities (dreamful, religious, dutiful), and also nationality. The second component has mostly personal qualities (cultural-minded, traditional-minded, family-minded, event-oriented). The third component has similar qualities as the second component, but additionally rationality, combative and materialistic aspects."
   ]
  },
  {
   "cell_type": "code",
   "execution_count": 75,
   "metadata": {
    "scrolled": false
   },
   "outputs": [
    {
     "name": "stdout",
     "output_type": "stream",
     "text": [
      "Calculated K-Means for k= 1 (avg. distance 6.92)\n",
      "Calculated K-Means for k= 2 (avg. distance 6.06)\n",
      "Calculated K-Means for k= 3 (avg. distance 5.84)\n",
      "Calculated K-Means for k= 4 (avg. distance 5.32)\n",
      "Calculated K-Means for k= 5 (avg. distance 5.17)\n",
      "Calculated K-Means for k= 6 (avg. distance 5.07)\n",
      "Calculated K-Means for k= 7 (avg. distance 5.04)\n",
      "Calculated K-Means for k= 8 (avg. distance 4.95)\n",
      "Calculated K-Means for k= 9 (avg. distance 4.88)\n",
      "Calculated K-Means for k=10 (avg. distance 4.84)\n",
      "Calculated K-Means for k=11 (avg. distance 4.80)\n",
      "Calculated K-Means for k=12 (avg. distance 4.77)\n",
      "Calculated K-Means for k=13 (avg. distance 4.52)\n",
      "Calculated K-Means for k=14 (avg. distance 4.51)\n",
      "Calculated K-Means for k=15 (avg. distance 4.68)\n",
      "Calculated K-Means for k=16 (avg. distance 4.44)\n",
      "Calculated K-Means for k=17 (avg. distance 4.42)\n",
      "Calculated K-Means for k=18 (avg. distance 4.59)\n",
      "Calculated K-Means for k=19 (avg. distance 4.50)\n",
      "Calculated K-Means for k=20 (avg. distance 4.48)\n",
      "Calculated K-Means for k=21 (avg. distance 4.23)\n",
      "Calculated K-Means for k=22 (avg. distance 4.45)\n",
      "Calculated K-Means for k=23 (avg. distance 4.18)\n",
      "Calculated K-Means for k=24 (avg. distance 4.14)\n",
      "Calculated K-Means for k=25 (avg. distance 4.08)\n",
      "Calculated K-Means for k=26 (avg. distance 4.01)\n",
      "Calculated K-Means for k=27 (avg. distance 4.23)\n",
      "Calculated K-Means for k=28 (avg. distance 4.11)\n",
      "Calculated K-Means for k=29 (avg. distance 4.14)\n",
      "Calculated K-Means for k=30 (avg. distance 3.91)\n"
     ]
    },
    {
     "data": {
      "image/png": "[encoded data removed]",
      "text/plain": [
       "<Figure size 432x288 with 1 Axes>"
      ]
     },
     "metadata": {
      "needs_background": "light"
     },
     "output_type": "display_data"
    }
   ],
   "source": [
    "# Calculate the elbow curve\n",
    "calculate_elbow_curve(azdias_pca2, 30)"
   ]
  },
  {
   "cell_type": "markdown",
   "metadata": {},
   "source": [
    "> **Notes:** The elbow ends earlier (5–6 clusters) than with the main dataset. I chose 5 clusters for this smaller dataset."
   ]
  },
  {
   "cell_type": "code",
   "execution_count": 76,
   "metadata": {},
   "outputs": [],
   "source": [
    "# Re-fit the K-Means and make prediction\n",
    "kmeans2 = KMeans(n_clusters=5, n_init=50)\n",
    "azdias_kmeans2 = kmeans2.fit(azdias_pca2)\n",
    "azdias_pred2 = kmeans2.predict(azdias_pca2)"
   ]
  },
  {
   "cell_type": "markdown",
   "metadata": {},
   "source": [
    "#### Process customer demographics data"
   ]
  },
  {
   "cell_type": "code",
   "execution_count": 77,
   "metadata": {
    "scrolled": true
   },
   "outputs": [
    {
     "name": "stdout",
     "output_type": "stream",
     "text": [
      "Input demographics data:\n",
      "- Number of features: 85\n",
      "- Number of rows: 191,652\n",
      "\n",
      "Process:\n",
      "- Converted missing values to empty values (NaN)\n",
      "- Removed 6 features having over 34.00% missing values:\n",
      "- Removed 141,771 rows having equal or less than 32 missing values\n",
      "- Converted non-numeric binary features to numeric\n",
      "- Added one-hot encoding to multi-level category features\n",
      "- Removed/engineered mix-type features\n",
      "\n",
      "Output demographics data:\n",
      "- Number of features: 115\n",
      "- Number of rows: 49,881\n",
      "\n",
      "Removed outlier features (values in %):\n",
      "PLZ8_ANTG4                        100.000000\n",
      "REGIOTYP                          100.000000\n",
      "KBA05_ANTG1                       100.000000\n",
      "KBA05_ANTG2                       100.000000\n",
      "KBA05_ANTG3                       100.000000\n",
      "KBA05_ANTG4                       100.000000\n",
      "KBA05_GBZ                         100.000000\n",
      "KKK                               100.000000\n",
      "MOBI_REGIO                        100.000000\n",
      "KBA13_ANZAHL_PKW                  100.000000\n",
      "CAMEO_DEUG_2015                   100.000000\n",
      "PLZ8_ANTG1                        100.000000\n",
      "PLZ8_ANTG2                        100.000000\n",
      "PLZ8_ANTG3                        100.000000\n",
      "PLZ8_BAUMAX_MAINLY_FAMILYHOMES    100.000000\n",
      "PLZ8_HHZ                          100.000000\n",
      "PLZ8_GBZ                          100.000000\n",
      "CAMEO_INTL_2015_WEALTH            100.000000\n",
      "CAMEO_DEU_2015                    100.000000\n",
      "CAMEO_INTL_2015_LIFESTAGE         100.000000\n",
      "ORTSGR_KLS9                        99.997848\n",
      "BALLRAUM                           99.997848\n",
      "INNENSTADT                         99.997848\n",
      "GEBAEUDETYP_RASTER                 99.997848\n",
      "ARBEIT                             99.997848\n",
      "OST_WEST_KZ_W                      99.997848\n",
      "MIN_GEBAEUDEJAHR                   99.997848\n",
      "GEBAEUDETYP                        99.997848\n",
      "ANZ_HH_TITEL                       99.997848\n",
      "ANZ_HAUSHALTE_AKTIV                99.997848\n",
      "RELAT_AB                           99.997848\n",
      "EWDICHTE                           99.997848\n",
      "W_KEIT_KIND_HH                     95.411265\n",
      "PRAEGENDE_JUGENDJAHRE_DECADE       85.429017\n",
      "PRAEGENDE_JUGENDJAHRE_MOVEMENT     85.429017\n",
      "VERS_TYP                           80.118350\n",
      "HEALTH_TYP                         80.118350\n",
      "KONSUMNAEHE                        79.506160\n",
      "WOHNDAUER_2008                     79.077949\n",
      "ANZ_TITEL                          79.077949\n",
      "ANZ_PERSONEN                       79.077949\n",
      "SOHO_KZ                            79.077949\n"
     ]
    }
   ],
   "source": [
    "# Clean customer data assuming similar missing data as in general demographics\n",
    "customers_cleaned2 = clean_data(customers, feat_info, 34, 32, 'high')\n",
    "customers_cleaned2.drop(columns=nan_feat_outliers2.index.tolist(), inplace=True) # remove same columns age in general demographics\n",
    "\n",
    "print('\\nRemoved outlier features (values in %):')\n",
    "print(nan_feat_outliers2.to_string())\n",
    "\n",
    "# Run imputer, standard scaler, PCA and make K-Means prediction\n",
    "customers_imp2 = imp2.transform(customers_cleaned2)\n",
    "customers_scaled2 = scaler2.transform(customers_imp2)\n",
    "customers_pca2 = pca2.transform(customers_scaled2)\n",
    "customers_pred2 = kmeans2.predict(customers_pca2)"
   ]
  },
  {
   "cell_type": "markdown",
   "metadata": {},
   "source": [
    " #### Examine cluster content"
   ]
  },
  {
   "cell_type": "code",
   "execution_count": 78,
   "metadata": {
    "scrolled": false
   },
   "outputs": [
    {
     "data": {
      "text/plain": [
       "[Text(0.5, 0, 'Cluster ID')]"
      ]
     },
     "execution_count": 78,
     "metadata": {},
     "output_type": "execute_result"
    },
    {
     "data": {
      "image/png": "[encoded data removed]",
      "text/plain": [
       "<Figure size 720x360 with 2 Axes>"
      ]
     },
     "metadata": {
      "needs_background": "light"
     },
     "output_type": "display_data"
    }
   ],
   "source": [
    "# Subplots for proportional data points in clusters\n",
    "fig, axes = plt.subplots(nrows=1, ncols=2, sharex=True, sharey=True, figsize=(10,5))\n",
    "fig.suptitle('Data points in clusters')\n",
    "\n",
    "azdias_cluster_percentages = 100 * calc_cluster_distribution(azdias_pred2)\n",
    "customers_cluster_percentages = 100 * calc_cluster_distribution(customers_pred2)\n",
    "cluster_x_axis = [*range(1, len(azdias_cluster_percentages)+1)]\n",
    "\n",
    "axes[0].bar(cluster_x_axis, azdias_cluster_percentages)\n",
    "axes[1].bar(cluster_x_axis, customers_cluster_percentages)\n",
    "\n",
    "axes[0].set_title('General population')\n",
    "axes[1].set_title('Customer data')\n",
    "\n",
    "axes[0].set(xlabel='Cluster ID', ylabel='Data points [%]')\n",
    "axes[1].set(xlabel='Cluster ID')"
   ]
  },
  {
   "cell_type": "markdown",
   "metadata": {},
   "source": [
    "> **Notes:** The two distributions look quite similar compared to the differences in the main data. However, the customer demographics have one cluster that has around 80% of data points and one cluster is very small.\n",
    "\n",
    "> **Notes: The cluster IDs can change between runs, so the cluster_id needs to be checked after re-runs. I didn't automate it yet**"
   ]
  },
  {
   "cell_type": "code",
   "execution_count": 83,
   "metadata": {},
   "outputs": [
    {
     "name": "stdout",
     "output_type": "stream",
     "text": [
      "Filtering original features based on PC weights\n",
      "\n",
      "Three largest weights in PCA component 1:\n",
      "- Feature FINANZTYP_4.0 with inversed center label: 1.0 (1.00)\n",
      "- Feature SEMIO_VERT with inversed center label: 1.0 (1.00)\n",
      "- Feature NATIONALITAET_KZ_1.0 with inversed center label: 0.0 (0.00)\n",
      "Three largest weights in PCA component 2:\n",
      "- Feature SEMIO_KULT with inversed center label: 3.0 (3.00)\n",
      "- Feature SEMIO_TRADV with inversed center label: 3.0 (3.00)\n",
      "- Feature SEMIO_ERL with inversed center label: 3.0 (3.00)\n",
      "Three largest weights in PCA component 3:\n",
      "- Feature SEMIO_KAEM with inversed center label: 6.0 (6.00)\n",
      "- Feature SEMIO_RAT with inversed center label: 4.0 (4.00)\n",
      "- Feature SEMIO_FAM with inversed center label: 6.0 (6.00)\n"
     ]
    }
   ],
   "source": [
    "# Cluster overpresented in customer data\n",
    "\n",
    "cluster_id = 2\n",
    "print_reconstructed_features(cluster_id, kmeans2, pca2, scaler2, azdias_cleaned2)"
   ]
  },
  {
   "cell_type": "markdown",
   "metadata": {},
   "source": [
    "| Feature              | Label | Meaning |\n",
    "| ---                  | ---   | --- |\n",
    "| FINANZTYP_4.0        | 1     | Financial type (prepared): yes |\n",
    "| SEMIO_VERT           | 1     | Personality (dreamful): highest affinity |\n",
    "| NATIONALITAET_KZ_1.0 | 0     | Nationality based on given name (German-sounding): no |\n",
    "| SEMIO_KULT           | 3     | Personality (cultural-minded): high affinity |\n",
    "| SEMIO_TRADV          | 3     | Personality (traditional-minded): high affinity |\n",
    "| SEMIO_ERL            | 3     | Personality (event-oriented): high affinity |\n",
    "| SEMIO_KAEM           | 6     | Personality (combative attitude): very low affinity |\n",
    "| SEMIO_RAT            | 4     | Personality (rational): average affinity |\n",
    "| SEMIO_FAM            | 6     | Personality (family-minded): very low affinity |"
   ]
  },
  {
   "cell_type": "code",
   "execution_count": 84,
   "metadata": {
    "scrolled": false
   },
   "outputs": [
    {
     "name": "stdout",
     "output_type": "stream",
     "text": [
      "Filtering original features based on PC weights\n",
      "\n",
      "Three largest weights in PCA component 1:\n",
      "- Feature FINANZTYP_4.0 with inversed center label: 0.0 (0.14)\n",
      "- Feature SEMIO_VERT with inversed center label: 3.0 (2.86)\n",
      "- Feature NATIONALITAET_KZ_1.0 with inversed center label: 1.0 (0.70)\n",
      "Three largest weights in PCA component 2:\n",
      "- Feature SEMIO_KULT with inversed center label: 3.0 (2.78)\n",
      "- Feature SEMIO_TRADV with inversed center label: 6.0 (5.87)\n",
      "- Feature SEMIO_ERL with inversed center label: 5.0 (4.76)\n",
      "Three largest weights in PCA component 3:\n",
      "- Feature SEMIO_KAEM with inversed center label: 7.0 (6.57)\n",
      "- Feature SEMIO_RAT with inversed center label: 6.0 (5.71)\n",
      "- Feature SEMIO_FAM with inversed center label: 4.0 (4.12)\n"
     ]
    }
   ],
   "source": [
    "# Cluster underpresented in customer data\n",
    "\n",
    "cluster_id = 1\n",
    "print_reconstructed_features(cluster_id, kmeans2, pca2, scaler2, azdias_cleaned2)"
   ]
  },
  {
   "cell_type": "markdown",
   "metadata": {},
   "source": [
    "| Feature              | Label | Meaning |\n",
    "| ---                  | ---   | --- |\n",
    "| FINANZTYP_4.0        | 0     | Financial type (prepared): no |\n",
    "| SEMIO_VERT           | 3     | Personality (dreamful): high affinity |\n",
    "| NATIONALITAET_KZ_1.0 | 1     | Nationality based on given name (German-sounding): yes |\n",
    "| SEMIO_KULT           | 3     | Personality (cultural-minded): high affinity |\n",
    "| SEMIO_TRADV          | 6     | Personality (traditional-minded): very low affinity |\n",
    "| SEMIO_ERL            | 5     | Personality (event-oriented): low affinity |\n",
    "| SEMIO_KAEM           | 7     | Personality (combative attitude): lowest affinity |\n",
    "| SEMIO_RAT            | 6     | Personality (rational): very low affinity |\n",
    "| SEMIO_FAM            | 4     | Personality (family-minded): average affinity |"
   ]
  },
  {
   "cell_type": "markdown",
   "metadata": {},
   "source": [
    "> **Notes:** People in the over-represented cluster are financially prepared and don't have a German-sounding given name. They are culture-minded, traditional-minded, and event-oriented, but not family-minded or have a combative attitude. They are average on the rationality scale.\n",
    "\n",
    "> **Notes:** People in the under-represented cluster aren't financially prepared and have a German-sounding given name. They are culture-minded, but not traditional-minded or event-minded. They are average on the family-minded scale and unlikely rational-minded."
   ]
  },
  {
   "cell_type": "markdown",
   "metadata": {},
   "source": [
    "### Discussion 3.3: Compare Customer Data to Demographics Data\n",
    "\n",
    "I divided the cleaned data into seven clusters. The general demographics data, the clusters had quite even distribution of data points. However, the customer demographics data had one cluster with almost 60% of data points and three clusters with only a few percent of data points.\n",
    "\n",
    "I examined the over- and under-represented customer clusters by transforming the cluster centers back into the original feature values. Since there were almost two hundred features in the cleaned dataset, I filtered the features using principal components. I selected the three largest weights (prevailing features) from the first three principal components (PC). The first PCs explain better the whole data and it's easier to compare the results between the clusters. On the other hand, the differences may not be as clear.\n",
    "\n",
    "The over-represented customer segment consists of males/females 46–60 years old who live in a neighborhood of 1–2 family homes and don't move often. They aren't low-income earners and likely financial minimalists. They don't have a dreamful personality and are average in combative attitude.\n",
    "\n",
    "The under-represented segments are all 30–45 years old and not likely financial minimalists, but otherwise they have different qualities:\n",
    "\n",
    "1. Low-income earner males/females who live in a neighborhood of no 1–2 family homes and move often. They are average on the dreamful personality scale and have a low combative attitude.\n",
    "2. Not low-income earner females who live in a neighborhood of average share of 1–2 family homes and don't move often. They have a dreamful personality but a low combative attitude.\n",
    "3. Not low-income earner males who live in a neighborhood of average share of 1–2 family homes and don't move often. They don't have a dreamful personality and have a very high combative attitude.\n",
    "\n",
    "#### Subset with high number of missing data\n",
    "\n",
    "I processed separately the subset that had more than 32 missing values of rows because the data looked different at the preprocessing stage. The subset consisted of around 10% (general demographics) and 26% (customer data) rows. Additional features had to be removed since had a high number of missing values (more than 75%). The missing values were imputed using the means of the features. Otherwise, the process was the same as with the main dataset.\n",
    "\n",
    "The subset had only 73 features after cleaning (compared to 172 in main data). In the PCA step, I chose to use 50 principal components (reduced 32% of features). The principal components didn't have as clear explanations compared to the main data. The first component was a combination of financial aspects, personal values (dreamful, religious, dutiful), and nationality. The second component had mostly personal qualities (cultural-minded, traditional-minded, family-minded, event-oriented). The third component had similar qualities as the second component, but also rationality, combative and materialistic aspects.\n",
    "\n",
    "I divided the subset data into five clusters. The general demographics data wasn't as evenly distributed among clusters. However, both subset demographics data had quite similar distributions compared. But the customer demographics had one cluster holding around 80% of data points and one very small cluster.\n",
    "\n",
    "People in the over-represented customer segment are financially prepared and don't have a German-sounding given name. They are culture-minded, traditional-minded, and event-oriented, but not family-minded or have a combative attitude. They are average on the rationality scale. People in the under-represented customer segment aren't financially prepared and have a German-sounding given name. They are culture-minded, but not traditional-minded or event-minded. They are average on the family-minded scale and unlikely rational-minded."
   ]
  },
  {
   "cell_type": "markdown",
   "metadata": {},
   "source": [
    "> Congratulations on making it this far in the project! Before you finish, make sure to check through the entire notebook from top to bottom to make sure that your analysis follows a logical flow and all of your findings are documented in **Discussion** cells. Once you've checked over all of your work, you should export the notebook as an HTML document to submit for evaluation. You can do this from the menu, navigating to **File -> Download as -> HTML (.html)**. You will submit both that document and this notebook for your project submission."
   ]
  },
  {
   "cell_type": "code",
   "execution_count": null,
   "metadata": {},
   "outputs": [],
   "source": []
  }
 ],
 "metadata": {
  "kernelspec": {
   "display_name": "Python 3",
   "language": "python",
   "name": "python3"
  },
  "language_info": {
   "codemirror_mode": {
    "name": "ipython",
    "version": 3
   },
   "file_extension": ".py",
   "mimetype": "text/x-python",
   "name": "python",
   "nbconvert_exporter": "python",
   "pygments_lexer": "ipython3",
   "version": "3.8.11"
  }
 },
 "nbformat": 4,
 "nbformat_minor": 2
}
