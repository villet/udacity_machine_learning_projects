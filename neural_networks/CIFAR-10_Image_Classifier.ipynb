{
 "cells": [
  {
   "cell_type": "markdown",
   "metadata": {},
   "source": [
    "# Introduction\n",
    "\n",
    "In this project, you will build a neural network of your own design to evaluate the CIFAR-10 dataset.\n",
    "Our target accuracy is 70%, but any accuracy over 50% is a great start.\n",
    "Some of the benchmark results on CIFAR-10 include:\n",
    "\n",
    "78.9% Accuracy | [Deep Belief Networks; Krizhevsky, 2010](https://www.cs.toronto.edu/~kriz/conv-cifar10-aug2010.pdf)\n",
    "\n",
    "90.6% Accuracy | [Maxout Networks; Goodfellow et al., 2013](https://arxiv.org/pdf/1302.4389.pdf)\n",
    "\n",
    "96.0% Accuracy | [Wide Residual Networks; Zagoruyko et al., 2016](https://arxiv.org/pdf/1605.07146.pdf)\n",
    "\n",
    "99.0% Accuracy | [GPipe; Huang et al., 2018](https://arxiv.org/pdf/1811.06965.pdf)\n",
    "\n",
    "98.5% Accuracy | [Rethinking Recurrent Neural Networks and other Improvements for ImageClassification; Nguyen et al., 2020](https://arxiv.org/pdf/2007.15161.pdf)\n",
    "\n",
    "Research with this dataset is ongoing. Notably, many of these networks are quite large and quite expensive to train. \n",
    "\n",
    "## Imports"
   ]
  },
  {
   "cell_type": "code",
   "execution_count": 1,
   "metadata": {},
   "outputs": [],
   "source": [
    "## This cell contains the essential imports you will need – DO NOT CHANGE THE CONTENTS! ##\n",
    "import torch\n",
    "import torch.nn as nn\n",
    "import torch.nn.functional as F\n",
    "import torch.optim as optim\n",
    "import torchvision\n",
    "import torchvision.transforms as transforms\n",
    "import matplotlib.pyplot as plt\n",
    "import numpy as np"
   ]
  },
  {
   "cell_type": "markdown",
   "metadata": {},
   "source": [
    "## Load the Dataset\n",
    "\n",
    "Specify your transforms as a list first.\n",
    "The transforms module is already loaded as `transforms`.\n",
    "\n",
    "CIFAR-10 is fortunately included in the torchvision module.\n",
    "Then, you can create your dataset using the `CIFAR10` object from `torchvision.datasets` ([the documentation is available here](https://pytorch.org/docs/stable/torchvision/datasets.html#cifar)).\n",
    "Make sure to specify `download=True`! \n",
    "\n",
    "Once your dataset is created, you'll also need to define a `DataLoader` from the `torch.utils.data` module for both the train and the test set."
   ]
  },
  {
   "cell_type": "code",
   "execution_count": 2,
   "metadata": {},
   "outputs": [
    {
     "name": "stdout",
     "output_type": "stream",
     "text": [
      "Files already downloaded and verified\n",
      "Files already downloaded and verified\n"
     ]
    }
   ],
   "source": [
    "torch.manual_seed(0) # setting random seed\n",
    "\n",
    "# Augmenting train data by random cropping and flipping (also helped with overfitting)\n",
    "train_transform = transforms.Compose(\n",
    "    [transforms.RandomCrop(32, padding=4),\n",
    "    transforms.RandomHorizontalFlip(),\n",
    "    transforms.ToTensor(),\n",
    "    transforms.Normalize((0.5, 0.5, 0.5), (0.5, 0.5, 0.5))])\n",
    "# - Feedback also suggested trying other augmentations, such as ColorJitter and RandomAffine\n",
    "\n",
    "# No augmenting for test set\n",
    "test_transform = transforms.Compose(\n",
    "    [transforms.ToTensor(),\n",
    "     transforms.Normalize((0.5, 0.5, 0.5), (0.5, 0.5, 0.5))])\n",
    "\n",
    "batch_size = 32\n",
    "\n",
    "# Create training set and define training dataloader\n",
    "train_data = torchvision.datasets.CIFAR10('CIFAR10_data/', download=True,\n",
    "                                        train=True, transform=train_transform)\n",
    "train_loader = torch.utils.data.DataLoader(train_data, batch_size=batch_size, shuffle=True)\n",
    "\n",
    "# Create test set\n",
    "test_data = torchvision.datasets.CIFAR10('CIFAR10_data/', download=True,\n",
    "                                        train=False, transform=test_transform)\n",
    "\n",
    "# Generate validation set from part of test data (Source: https://stackoverflow.com/a/51768651 and feedback)\n",
    "test_size = int(len(test_data) * 0.8) # 80% testing data\n",
    "valid_size = len(test_data) - test_size # 20% validation data\n",
    "test_data, valid_data = torch.utils.data.random_split(test_data, [test_size, valid_size])\n",
    "\n",
    "# Define test and validation dataloaders\n",
    "test_loader = torch.utils.data.DataLoader(test_data, batch_size=batch_size, shuffle=False)\n",
    "valid_loader = torch.utils.data.DataLoader(valid_data, batch_size=batch_size, shuffle=False)\n",
    "\n",
    "# The 10 classes in the dataset\n",
    "classes = ('plane', 'car', 'bird', 'cat', 'deer', 'dog', 'frog', 'horse', 'ship', 'truck')"
   ]
  },
  {
   "cell_type": "markdown",
   "metadata": {},
   "source": [
    "## Explore the Dataset\n",
    "Using matplotlib, numpy, and torch, explore the dimensions of your data.\n",
    "\n",
    "You can view images using the `show5` function defined below – it takes a data loader as an argument.\n",
    "Remember that normalized images will look really weird to you! You may want to try changing your transforms to view images.\n",
    "Typically using no transforms other than `toTensor()` works well for viewing – but not as well for training your network.\n",
    "If `show5` doesn't work, go back and check your code for creating your data loaders and your training/test sets."
   ]
  },
  {
   "cell_type": "code",
   "execution_count": 3,
   "metadata": {},
   "outputs": [],
   "source": [
    "# With some modifications based on https://pytorch.org/tutorials/beginner/blitz/cifar10_tutorial.html\n",
    "# and improved to more compact output based on feedback\n",
    "\n",
    "def show5(img_loader):\n",
    "    batch = next(iter(img_loader))\n",
    "    labels = batch[1][0:5]\n",
    "    images = batch[0][0:5]\n",
    "    fig = plt.figure(figsize=(10,4))\n",
    "    \n",
    "    for i in range(5):\n",
    "        ax = fig.add_subplot(1, 5, i+1, xticks=[], yticks=[])\n",
    "        image = images[i].numpy()\n",
    "        image = image / 2 + 0.5 # unnormalize the images\n",
    "\n",
    "        plt.imshow(np.rot90(image.T, k=3))\n",
    "        ax.set_title(classes[labels[i]]) # set img label as plot title"
   ]
  },
  {
   "cell_type": "code",
   "execution_count": 4,
   "metadata": {},
   "outputs": [
    {
     "name": "stdout",
     "output_type": "stream",
     "text": [
      "Number of training images: 50,000\n",
      "Number of validation images: 2,000\n",
      "Number of test images: 8,000\n",
      "Image size: 32x32 pixels\n"
     ]
    }
   ],
   "source": [
    "# Exploring data size\n",
    "\n",
    "# - Print number of training images\n",
    "input_count = 0\n",
    "for data in train_loader:\n",
    "    inputs, labels = data\n",
    "    input_count += labels.size(0)\n",
    " \n",
    "print(\"Number of training images: {:,}\".format(input_count))\n",
    "\n",
    "# - Print number of validation images\n",
    "input_count = 0\n",
    "for data in valid_loader:\n",
    "    inputs, labels = data\n",
    "    input_count += labels.size(0)\n",
    "\n",
    "print(\"Number of validation images: {:,}\".format(input_count))\n",
    "\n",
    "# - Print number of test images\n",
    "input_count = 0\n",
    "for data in test_loader:\n",
    "    inputs, labels = data\n",
    "    input_count += labels.size(0)\n",
    " \n",
    "print(\"Number of test images: {:,}\".format(input_count))\n",
    "\n",
    "# - Print size of image(s)\n",
    "batch = next(iter(train_loader))\n",
    "image = batch[0][0][0:1]\n",
    "print('Image size: {}x{} pixels'.format(image.size(1), image.size(2)))"
   ]
  },
  {
   "cell_type": "code",
   "execution_count": 5,
   "metadata": {},
   "outputs": [
    {
     "data": {
      "image/png": "[encoded data removed]",
      "text/plain": [
       "<Figure size 720x288 with 5 Axes>"
      ]
     },
     "metadata": {
      "image/png": {
       "height": 129,
       "width": 575
      }
     },
     "output_type": "display_data"
    }
   ],
   "source": [
    "# Exploring training images\n",
    "\n",
    "%matplotlib inline\n",
    "%config InlineBackend.figure_format = 'retina'\n",
    "\n",
    "show5(train_loader)"
   ]
  },
  {
   "cell_type": "markdown",
   "metadata": {},
   "source": [
    "## Build your Neural Network\n",
    "Using the layers in `torch.nn` (which has been imported as `nn`) and the `torch.nn.functional` module (imported as `F`), construct a neural network based on the parameters of the dataset. \n",
    "Feel free to construct a model of any architecture – feedforward, convolutional, or even something more advanced!"
   ]
  },
  {
   "cell_type": "code",
   "execution_count": 6,
   "metadata": {},
   "outputs": [],
   "source": [
    "# Inspired and extended version (~70% to move over 70% accuracy) of PyTorch example\n",
    "# https://pytorch.org/tutorials/beginner/blitz/cifar10_tutorial.html\n",
    "# and class structure from more advanced model: https://zhenye-na.github.io/2018/09/28/pytorch-cnn-cifar10.html\n",
    "\n",
    "class Classifier(nn.Module):\n",
    "    def __init__(self):\n",
    "        super().__init__()\n",
    "        \n",
    "        # Convolutional layer (added one sublayer)\n",
    "        self.conv_layer = nn.Sequential(\n",
    "            nn.Conv2d(in_channels=3, out_channels=6, kernel_size=5),\n",
    "            nn.ReLU(inplace=True),\n",
    "            nn.Conv2d(in_channels=6, out_channels=16, kernel_size=5),\n",
    "            nn.MaxPool2d(kernel_size=2, stride=2),\n",
    "            nn.Conv2d(in_channels=16, out_channels=32, kernel_size=5),\n",
    "            nn.MaxPool2d(kernel_size=2, stride=2)            \n",
    "        )\n",
    "\n",
    "        # Fully Connected layer (added one sublayer)\n",
    "        self.fc_layer = nn.Sequential(\n",
    "            nn.Linear(in_features=512, out_features=256),\n",
    "            nn.ReLU(inplace=True),\n",
    "            nn.Linear(in_features=256, out_features=128),\n",
    "            nn.ReLU(inplace=True),\n",
    "            nn.Linear(in_features=128, out_features=64),\n",
    "            nn.ReLU(inplace=True),\n",
    "            nn.Linear(in_features=64, out_features=10)          \n",
    "        )\n",
    "            \n",
    "    def forward(self, x):\n",
    "        # Convolutional layer\n",
    "        x = self.conv_layer(x)\n",
    "        \n",
    "        x = torch.flatten(x, 1) # flatten all dimensions except batch, old versions x = x.view(x.size(0), -1)\n",
    "\n",
    "        # Fully Connected layer\n",
    "        x = self.fc_layer(x)\n",
    "        \n",
    "        return x"
   ]
  },
  {
   "cell_type": "markdown",
   "metadata": {},
   "source": [
    "Specify a loss function and an optimizer, and instantiate the model.\n",
    "\n",
    "If you use a less common loss function, please note why you chose that loss function in a comment."
   ]
  },
  {
   "cell_type": "code",
   "execution_count": 8,
   "metadata": {},
   "outputs": [
    {
     "data": {
      "text/plain": [
       "==========================================================================================\n",
       "Layer (type:depth-idx)                   Output Shape              Param #\n",
       "==========================================================================================\n",
       "Classifier                               --                        --\n",
       "├─Sequential: 1-1                        [32, 32, 4, 4]            --\n",
       "│    └─Conv2d: 2-1                       [32, 6, 28, 28]           456\n",
       "│    └─ReLU: 2-2                         [32, 6, 28, 28]           --\n",
       "│    └─Conv2d: 2-3                       [32, 16, 24, 24]          2,416\n",
       "│    └─MaxPool2d: 2-4                    [32, 16, 12, 12]          --\n",
       "│    └─Conv2d: 2-5                       [32, 32, 8, 8]            12,832\n",
       "│    └─MaxPool2d: 2-6                    [32, 32, 4, 4]            --\n",
       "├─Sequential: 1-2                        [32, 10]                  --\n",
       "│    └─Linear: 2-7                       [32, 256]                 131,328\n",
       "│    └─ReLU: 2-8                         [32, 256]                 --\n",
       "│    └─Linear: 2-9                       [32, 128]                 32,896\n",
       "│    └─ReLU: 2-10                        [32, 128]                 --\n",
       "│    └─Linear: 2-11                      [32, 64]                  8,256\n",
       "│    └─ReLU: 2-12                        [32, 64]                  --\n",
       "│    └─Linear: 2-13                      [32, 10]                  650\n",
       "==========================================================================================\n",
       "Total params: 188,834\n",
       "Trainable params: 188,834\n",
       "Non-trainable params: 0\n",
       "Total mult-adds (M): 87.79\n",
       "==========================================================================================\n",
       "Input size (MB): 0.39\n",
       "Forward/backward pass size (MB): 4.21\n",
       "Params size (MB): 0.76\n",
       "Estimated Total Size (MB): 5.35\n",
       "=========================================================================================="
      ]
     },
     "execution_count": 8,
     "metadata": {},
     "output_type": "execute_result"
    }
   ],
   "source": [
    "model = Classifier()\n",
    "\n",
    "# Cross Entropy loss function\n",
    "criterion = nn.CrossEntropyLoss()\n",
    "\n",
    "# Stochastic gradient descent optimizer (seemed to work a bit better than Adam)\n",
    "optimizer = optim.SGD(model.parameters(), lr=0.01, momentum=0.9)\n",
    "#optimizer = optim.Adam(model.parameters(), lr=0.003)\n",
    "\n",
    "# Scheduler (adjusts learning rate)\n",
    "scheduler = optim.lr_scheduler.ExponentialLR(optimizer, 0.9)\n",
    "\n",
    "# Nice summary of model based on feedback (updated to new package name)\n",
    "from torchinfo import summary\n",
    "summary(model, input_size=(batch_size, 3, 32, 32))"
   ]
  },
  {
   "cell_type": "markdown",
   "metadata": {},
   "source": [
    "## Running your Neural Network\n",
    "Use whatever method you like to train your neural network, and ensure you record the average loss at each epoch. \n",
    "Don't forget to use `torch.device()` and the `.to()` method for both your model and your data if you are using GPU!\n",
    "\n",
    "If you want to print your loss during each epoch, you can use the `enumerate` function and print the loss after a set number of batches. 250 batches works well for most people!"
   ]
  },
  {
   "cell_type": "code",
   "execution_count": 9,
   "metadata": {},
   "outputs": [
    {
     "name": "stdout",
     "output_type": "stream",
     "text": [
      "Running on cpu\n",
      "Epoch:   1/100 Train loss: 1.892 Validation loss: 1.565 Validation accuracy: 42.51%\n",
      "Epoch:   2/100 Train loss: 1.571 Validation loss: 1.449 Validation accuracy: 48.12%\n",
      "Epoch:   3/100 Train loss: 1.440 Validation loss: 1.324 Validation accuracy: 52.23%\n",
      "Epoch:   4/100 Train loss: 1.336 Validation loss: 1.297 Validation accuracy: 53.17%\n",
      "Epoch:   5/100 Train loss: 1.251 Validation loss: 1.172 Validation accuracy: 58.78%\n",
      "Epoch:   6/100 Train loss: 1.173 Validation loss: 1.139 Validation accuracy: 60.91%\n",
      "Epoch:   7/100 Train loss: 1.116 Validation loss: 1.037 Validation accuracy: 64.24%\n",
      "Epoch:   8/100 Train loss: 1.065 Validation loss: 1.055 Validation accuracy: 63.19%\n",
      "Epoch:   9/100 Train loss: 1.028 Validation loss: 0.993 Validation accuracy: 64.68%\n",
      "Epoch:  10/100 Train loss: 0.989 Validation loss: 0.957 Validation accuracy: 67.06%\n",
      "Epoch:  11/100 Train loss: 0.957 Validation loss: 0.994 Validation accuracy: 67.36%\n",
      "Epoch:  12/100 Train loss: 0.928 Validation loss: 0.924 Validation accuracy: 68.35%\n",
      "Epoch:  13/100 Train loss: 0.893 Validation loss: 0.848 Validation accuracy: 70.24%\n",
      "Epoch:  14/100 Train loss: 0.874 Validation loss: 0.839 Validation accuracy: 70.83%\n",
      "Epoch:  15/100 Train loss: 0.857 Validation loss: 0.874 Validation accuracy: 69.20%\n",
      "Epoch:  16/100 Train loss: 0.833 Validation loss: 0.835 Validation accuracy: 71.28%\n",
      "Epoch:  17/100 Train loss: 0.818 Validation loss: 0.811 Validation accuracy: 71.97%\n",
      "Epoch:  18/100 Train loss: 0.806 Validation loss: 0.814 Validation accuracy: 72.27%\n",
      "Epoch:  19/100 Train loss: 0.791 Validation loss: 0.799 Validation accuracy: 72.67%\n",
      "Epoch:  20/100 Train loss: 0.775 Validation loss: 0.790 Validation accuracy: 72.32%\n",
      "Epoch:  21/100 Train loss: 0.765 Validation loss: 0.797 Validation accuracy: 71.18%\n",
      "Epoch:  22/100 Train loss: 0.756 Validation loss: 0.797 Validation accuracy: 72.92%\n",
      "Epoch:  23/100 Train loss: 0.740 Validation loss: 0.773 Validation accuracy: 73.46%\n",
      "Epoch:  24/100 Train loss: 0.733 Validation loss: 0.764 Validation accuracy: 73.31%\n",
      "Epoch:  25/100 Train loss: 0.723 Validation loss: 0.757 Validation accuracy: 74.85%\n",
      "Epoch:  26/100 Train loss: 0.720 Validation loss: 0.753 Validation accuracy: 73.96%\n",
      "Epoch:  27/100 Train loss: 0.709 Validation loss: 0.766 Validation accuracy: 73.31%\n",
      "Epoch:  28/100 Train loss: 0.704 Validation loss: 0.745 Validation accuracy: 74.01%\n",
      "Epoch:  29/100 Train loss: 0.696 Validation loss: 0.752 Validation accuracy: 74.45%\n",
      "Epoch:  30/100 Train loss: 0.692 Validation loss: 0.752 Validation accuracy: 72.97%\n",
      "Epoch:  31/100 Train loss: 0.688 Validation loss: 0.750 Validation accuracy: 74.45%\n",
      "Epoch:  32/100 Train loss: 0.680 Validation loss: 0.735 Validation accuracy: 74.21%\n",
      "Epoch:  33/100 Train loss: 0.679 Validation loss: 0.738 Validation accuracy: 74.01%\n",
      "Epoch:  34/100 Train loss: 0.675 Validation loss: 0.739 Validation accuracy: 74.95%\n",
      "Epoch:  35/100 Train loss: 0.666 Validation loss: 0.739 Validation accuracy: 74.65%\n",
      "Epoch:  36/100 Train loss: 0.670 Validation loss: 0.734 Validation accuracy: 74.80%\n",
      "Epoch:  37/100 Train loss: 0.666 Validation loss: 0.733 Validation accuracy: 75.45%\n",
      "Epoch:  38/100 Train loss: 0.661 Validation loss: 0.727 Validation accuracy: 75.45%\n",
      "Epoch:  39/100 Train loss: 0.662 Validation loss: 0.728 Validation accuracy: 75.89%\n",
      "Epoch:  40/100 Train loss: 0.661 Validation loss: 0.723 Validation accuracy: 75.69%\n",
      "Epoch:  41/100 Train loss: 0.659 Validation loss: 0.723 Validation accuracy: 75.40%\n",
      "Epoch:  42/100 Train loss: 0.653 Validation loss: 0.725 Validation accuracy: 75.55%\n",
      "Epoch:  43/100 Train loss: 0.653 Validation loss: 0.720 Validation accuracy: 75.69%\n",
      "Epoch:  44/100 Train loss: 0.650 Validation loss: 0.722 Validation accuracy: 75.69%\n",
      "Epoch:  45/100 Train loss: 0.659 Validation loss: 0.720 Validation accuracy: 75.84%\n",
      "Epoch:  46/100 Train loss: 0.650 Validation loss: 0.723 Validation accuracy: 75.45%\n",
      "Epoch:  47/100 Train loss: 0.651 Validation loss: 0.719 Validation accuracy: 75.40%\n",
      "Epoch:  48/100 Train loss: 0.645 Validation loss: 0.719 Validation accuracy: 75.15%\n",
      "Epoch:  49/100 Train loss: 0.649 Validation loss: 0.719 Validation accuracy: 75.10%\n",
      "Epoch:  50/100 Train loss: 0.647 Validation loss: 0.717 Validation accuracy: 75.00%\n",
      "Epoch:  51/100 Train loss: 0.645 Validation loss: 0.719 Validation accuracy: 74.90%\n",
      "Epoch:  52/100 Train loss: 0.640 Validation loss: 0.719 Validation accuracy: 75.35%\n",
      "Epoch:  53/100 Train loss: 0.646 Validation loss: 0.719 Validation accuracy: 75.40%\n",
      "Epoch:  54/100 Train loss: 0.641 Validation loss: 0.717 Validation accuracy: 75.35%\n",
      "Epoch:  55/100 Train loss: 0.643 Validation loss: 0.717 Validation accuracy: 75.10%\n",
      "Epoch:  56/100 Train loss: 0.645 Validation loss: 0.718 Validation accuracy: 75.10%\n",
      "Epoch:  57/100 Train loss: 0.640 Validation loss: 0.717 Validation accuracy: 75.30%\n",
      "Epoch:  58/100 Train loss: 0.639 Validation loss: 0.716 Validation accuracy: 75.10%\n",
      "Epoch:  59/100 Train loss: 0.644 Validation loss: 0.715 Validation accuracy: 75.35%\n",
      "Epoch:  60/100 Train loss: 0.637 Validation loss: 0.716 Validation accuracy: 75.15%\n",
      "Epoch:  61/100 Train loss: 0.637 Validation loss: 0.717 Validation accuracy: 75.10%\n",
      "Epoch:  62/100 Train loss: 0.640 Validation loss: 0.716 Validation accuracy: 75.25%\n",
      "Epoch:  63/100 Train loss: 0.644 Validation loss: 0.717 Validation accuracy: 75.25%\n",
      "Epoch:  64/100 Train loss: 0.641 Validation loss: 0.715 Validation accuracy: 75.25%\n",
      "Epoch:  65/100 Train loss: 0.640 Validation loss: 0.717 Validation accuracy: 75.05%\n",
      "Epoch:  66/100 Train loss: 0.640 Validation loss: 0.716 Validation accuracy: 75.15%\n",
      "Epoch:  67/100 Train loss: 0.642 Validation loss: 0.716 Validation accuracy: 75.10%\n",
      "Epoch:  68/100 Train loss: 0.642 Validation loss: 0.716 Validation accuracy: 75.10%\n",
      "Epoch:  69/100 Train loss: 0.637 Validation loss: 0.715 Validation accuracy: 75.15%\n",
      "Epoch:  70/100 Train loss: 0.641 Validation loss: 0.715 Validation accuracy: 75.20%\n",
      "Epoch:  71/100 Train loss: 0.636 Validation loss: 0.715 Validation accuracy: 75.45%\n",
      "Epoch:  72/100 Train loss: 0.635 Validation loss: 0.716 Validation accuracy: 75.25%\n",
      "Epoch:  73/100 Train loss: 0.634 Validation loss: 0.716 Validation accuracy: 75.20%\n",
      "Epoch:  74/100 Train loss: 0.641 Validation loss: 0.716 Validation accuracy: 75.20%\n",
      "Epoch:  75/100 Train loss: 0.637 Validation loss: 0.716 Validation accuracy: 75.35%\n",
      "Epoch:  76/100 Train loss: 0.639 Validation loss: 0.716 Validation accuracy: 75.30%\n",
      "Epoch:  77/100 Train loss: 0.644 Validation loss: 0.715 Validation accuracy: 75.30%\n",
      "Epoch:  78/100 Train loss: 0.644 Validation loss: 0.715 Validation accuracy: 75.25%\n",
      "Epoch:  79/100 Train loss: 0.641 Validation loss: 0.715 Validation accuracy: 75.20%\n",
      "Epoch:  80/100 Train loss: 0.637 Validation loss: 0.715 Validation accuracy: 75.30%\n",
      "Epoch:  81/100 Train loss: 0.641 Validation loss: 0.715 Validation accuracy: 75.20%\n",
      "Epoch:  82/100 Train loss: 0.637 Validation loss: 0.715 Validation accuracy: 75.35%\n",
      "Epoch:  83/100 Train loss: 0.640 Validation loss: 0.715 Validation accuracy: 75.25%\n",
      "Epoch:  84/100 Train loss: 0.637 Validation loss: 0.715 Validation accuracy: 75.30%\n",
      "Epoch:  85/100 Train loss: 0.639 Validation loss: 0.715 Validation accuracy: 75.25%\n",
      "Epoch:  86/100 Train loss: 0.639 Validation loss: 0.715 Validation accuracy: 75.25%\n",
      "Epoch:  87/100 Train loss: 0.642 Validation loss: 0.715 Validation accuracy: 75.30%\n",
      "Epoch:  88/100 Train loss: 0.636 Validation loss: 0.716 Validation accuracy: 75.20%\n",
      "Epoch:  89/100 Train loss: 0.637 Validation loss: 0.715 Validation accuracy: 75.20%\n",
      "Epoch:  90/100 Train loss: 0.640 Validation loss: 0.715 Validation accuracy: 75.15%\n",
      "Epoch:  91/100 Train loss: 0.639 Validation loss: 0.715 Validation accuracy: 75.15%\n",
      "Epoch:  92/100 Train loss: 0.641 Validation loss: 0.715 Validation accuracy: 75.15%\n",
      "Epoch:  93/100 Train loss: 0.640 Validation loss: 0.715 Validation accuracy: 75.15%\n",
      "Epoch:  94/100 Train loss: 0.638 Validation loss: 0.715 Validation accuracy: 75.15%\n",
      "Epoch:  95/100 Train loss: 0.639 Validation loss: 0.715 Validation accuracy: 75.20%\n",
      "Epoch:  96/100 Train loss: 0.641 Validation loss: 0.715 Validation accuracy: 75.20%\n",
      "Epoch:  97/100 Train loss: 0.642 Validation loss: 0.715 Validation accuracy: 75.15%\n",
      "Epoch:  98/100 Train loss: 0.642 Validation loss: 0.715 Validation accuracy: 75.20%\n"
     ]
    },
    {
     "name": "stdout",
     "output_type": "stream",
     "text": [
      "Epoch:  99/100 Train loss: 0.641 Validation loss: 0.715 Validation accuracy: 75.20%\n",
      "Epoch: 100/100 Train loss: 0.637 Validation loss: 0.715 Validation accuracy: 75.15%\n",
      "Finished Training\n"
     ]
    }
   ],
   "source": [
    "# Most content from course exercise content, but updated the statistics calculation\n",
    "\n",
    "device = torch.device(\"cuda:0\" if torch.cuda.is_available() else \"cpu\")\n",
    "\n",
    "print(\"Running on\", device)\n",
    "\n",
    "model.to(device) # Transfer model to default device\n",
    "\n",
    "epochs = 100 # Set how many epocs you want to run\n",
    "running_loss = 0\n",
    "\n",
    "train_losses, valid_losses, valid_accuracy = [], [], []\n",
    "for epoch in range(epochs):\n",
    "    for inputs, labels in train_loader:\n",
    "        inputs, labels = inputs.to(device), labels.to(device) # Transfer images and labels to default device\n",
    "        \n",
    "        optimizer.zero_grad()\n",
    "        \n",
    "        logps = model.forward(inputs)\n",
    "        loss = criterion(logps, labels)\n",
    "        loss.backward()\n",
    "        optimizer.step()\n",
    "\n",
    "        running_loss += loss.item()\n",
    "        \n",
    "    scheduler.step()\n",
    "\n",
    "    # Calculate training and validation statistics\n",
    "    valid_loss = 0\n",
    "    accuracy = 0\n",
    "    model.eval()\n",
    "    with torch.no_grad():\n",
    "        # Calculate validation values\n",
    "        for inputs, labels in valid_loader:\n",
    "            inputs, labels = inputs.to(device), labels.to(device)\n",
    "            logps = model.forward(inputs)\n",
    "            batch_loss = criterion(logps, labels)\n",
    "                    \n",
    "            valid_loss += batch_loss.item()\n",
    "                    \n",
    "            # Calculate validation accuracy\n",
    "            ps = torch.exp(logps)\n",
    "            top_p, top_class = ps.topk(1, dim=1)\n",
    "            equals = top_class == labels.view(*top_class.shape)\n",
    "            accuracy += torch.mean(equals.type(torch.FloatTensor)).item()\n",
    "        \n",
    "        # Save values\n",
    "        train_losses.append(running_loss / len(train_loader))\n",
    "        valid_losses.append(valid_loss / len(valid_loader))\n",
    "        valid_accuracy.append(accuracy / len(valid_loader))\n",
    "\n",
    "        print(f\"Epoch: {epoch+1:>3}/{epochs:>3} \"\n",
    "            f\"Train loss: {running_loss / len(train_loader):.3f} \"\n",
    "            f\"Validation loss: {valid_loss / len(valid_loader):.3f} \"\n",
    "            f\"Validation accuracy: {100 * accuracy / len(valid_loader):.2f}%\")\n",
    "\n",
    "        running_loss = 0\n",
    "        model.train()\n",
    "\n",
    "print('Finished Training')"
   ]
  },
  {
   "cell_type": "markdown",
   "metadata": {},
   "source": [
    "Plot the training loss (and validation loss/accuracy, if recorded)."
   ]
  },
  {
   "cell_type": "code",
   "execution_count": 10,
   "metadata": {},
   "outputs": [
    {
     "data": {
      "image/png": "[encoded data removed]",
      "text/plain": [
       "<Figure size 432x288 with 1 Axes>"
      ]
     },
     "metadata": {
      "image/png": {
       "height": 290,
       "width": 372
      },
      "needs_background": "light"
     },
     "output_type": "display_data"
    },
    {
     "data": {
      "image/png": "[encoded data removed]",
      "text/plain": [
       "<Figure size 432x288 with 1 Axes>"
      ]
     },
     "metadata": {
      "image/png": {
       "height": 290,
       "width": 378
      },
      "needs_background": "light"
     },
     "output_type": "display_data"
    }
   ],
   "source": [
    "%matplotlib inline\n",
    "%config InlineBackend.figure_format = 'retina'\n",
    "\n",
    "plt.suptitle('Calculated losses')\n",
    "plt.plot(range(1,len(train_losses)+1), train_losses, label='Training loss')\n",
    "plt.plot(range(1,len(valid_losses)+1), valid_losses, label='Validation loss')\n",
    "plt.xlabel('Epocs')\n",
    "plt.legend(frameon=False)\n",
    "plt.show()\n",
    "\n",
    "plt.suptitle('Validation accuracy')\n",
    "plt.plot(range(1,len(valid_accuracy)+1), valid_accuracy)\n",
    "plt.xlabel('Epocs')\n",
    "plt.show()"
   ]
  },
  {
   "cell_type": "markdown",
   "metadata": {},
   "source": [
    "## Testing your model\n",
    "Using the previously created `DataLoader` for the test set, compute the percentage of correct predictions using the highest probability prediction. \n",
    "\n",
    "If your accuracy is over 70%, great work! \n",
    "This is a hard task to exceed 70% on.\n",
    "\n",
    "If your accuracy is under 45%, you'll need to make improvements.\n",
    "Go back and check your model architecture, loss function, and optimizer to make sure they're appropriate for an image classification task."
   ]
  },
  {
   "cell_type": "code",
   "execution_count": 11,
   "metadata": {
    "scrolled": true
   },
   "outputs": [
    {
     "name": "stdout",
     "output_type": "stream",
     "text": [
      "Accuracy of the network on the 8,000 test images: 76.33%\n"
     ]
    }
   ],
   "source": [
    "# Original source: https://pytorch.org/tutorials/beginner/blitz/cifar10_tutorial.html\n",
    "\n",
    "correct = 0\n",
    "total = 0\n",
    "\n",
    "input_count = 0\n",
    "with torch.no_grad(): # no gradient calculation since not training\n",
    "    for data in test_loader:\n",
    "        inputs, labels = data\n",
    "        inputs, labels = inputs.to(device), labels.to(device) # Transfer images and labels to default device\n",
    "        # Calculate outputs by running images through the network\n",
    "        outputs = model(inputs)\n",
    "        # the class with the highest energy is what we choose as prediction\n",
    "        _, predicted = torch.max(outputs.data, 1)\n",
    "        total += labels.size(0)\n",
    "        correct += (predicted == labels).sum().item()\n",
    "\n",
    "        input_count += labels.size(0)\n",
    "        \n",
    "print(\"Accuracy of the network on the {:,} test images: {:.2f}%\".format(input_count, (100 * correct / total)))"
   ]
  },
  {
   "cell_type": "code",
   "execution_count": 12,
   "metadata": {},
   "outputs": [
    {
     "name": "stdout",
     "output_type": "stream",
     "text": [
      "Accuracy for each class:\n",
      "- Class plane 79.60%\n",
      "- Class car   89.10%\n",
      "- Class bird  66.67%\n",
      "- Class cat   53.20%\n",
      "- Class deer  74.13%\n",
      "- Class dog   64.50%\n",
      "- Class frog  85.77%\n",
      "- Class horse 80.92%\n",
      "- Class ship  85.31%\n",
      "- Class truck 83.57%\n"
     ]
    }
   ],
   "source": [
    "# Original source: https://pytorch.org/tutorials/beginner/blitz/cifar10_tutorial.html\n",
    "\n",
    "# prepare to count predictions for each class\n",
    "correct_pred = {classname: 0 for classname in classes}\n",
    "total_pred = {classname: 0 for classname in classes}\n",
    "\n",
    "with torch.no_grad(): # no gradient calculation since not training\n",
    "    for data in test_loader:\n",
    "        inputs, labels = data\n",
    "        inputs, labels = inputs.to(device), labels.to(device) # Transfer images and labels to default device\n",
    "        outputs = model(inputs)\n",
    "        _, predictions = torch.max(outputs, 1)\n",
    "        # collect the correct predictions for each class\n",
    "        for label, prediction in zip(labels, predictions):\n",
    "            if label == prediction:\n",
    "                correct_pred[classes[label]] += 1\n",
    "            total_pred[classes[label]] += 1\n",
    "\n",
    "# print accuracy for each class\n",
    "print(\"Accuracy for each class:\")\n",
    "for classname, correct_count in correct_pred.items():\n",
    "    accuracy = 100 * float(correct_count) / total_pred[classname]\n",
    "    print(\"- Class {:5s} {:.2f}%\".format(classname, accuracy))"
   ]
  },
  {
   "cell_type": "markdown",
   "metadata": {},
   "source": [
    "## Saving your model\n",
    "Using `torch.save`, save your model for future loading."
   ]
  },
  {
   "cell_type": "code",
   "execution_count": 13,
   "metadata": {},
   "outputs": [],
   "source": [
    "# Updated for full checkpoint (including optimizer and scheduler) based on feedback\n",
    "\n",
    "full_checkpoint = {'state_dict':model.state_dict(),\n",
    "                   'optim_dict':optimizer.state_dict(),\n",
    "                   'scheduler': scheduler,\n",
    "                   'epoch':epoch}\n",
    "\n",
    "torch.save(full_checkpoint, 'full_checkpoint.pt')"
   ]
  },
  {
   "cell_type": "markdown",
   "metadata": {},
   "source": [
    "## Make a Recommendation\n",
    "\n",
    "Based on your evaluation, what is your recommendation on whether to build or buy? Explain your reasoning below."
   ]
  },
  {
   "cell_type": "markdown",
   "metadata": {},
   "source": [
    "I have built an image classifier using a neural network model in PyTorch. I trained the model using the CIFAR-10 dataset, and in testing the model achieved a 76.3% accuracy rate. The result is 9.0% better than Detectocorp's algorithm which has a 70% accuracy rate for the same dataset. And our model has still much room for improvement. Thus, I would recommend building an in-house solution."
   ]
  },
  {
   "cell_type": "code",
   "execution_count": null,
   "metadata": {},
   "outputs": [],
   "source": []
  }
 ],
 "metadata": {
  "kernelspec": {
   "display_name": "Python 3",
   "language": "python",
   "name": "python3"
  },
  "language_info": {
   "codemirror_mode": {
    "name": "ipython",
    "version": 3
   },
   "file_extension": ".py",
   "mimetype": "text/x-python",
   "name": "python",
   "nbconvert_exporter": "python",
   "pygments_lexer": "ipython3",
   "version": "3.8.11"
  }
 },
 "nbformat": 4,
 "nbformat_minor": 4
}
